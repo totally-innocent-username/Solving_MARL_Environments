{
  "cells": [
    {
      "cell_type": "markdown",
      "metadata": {
        "id": "YGfoUghY1hOe"
      },
      "source": [
        "\"I certify that the code and data in this assignment were generated independently, using only the tools\n",
        "and resources defined in the course and that I did not receive any external help, coaching or contributions\n",
        "during the production of this work.\""
      ]
    },
    {
      "cell_type": "markdown",
      "metadata": {
        "id": "bcc_DHQRc7f8"
      },
      "source": [
        "# Imports"
      ]
    },
    {
      "cell_type": "code",
      "execution_count": 1,
      "metadata": {
        "colab": {
          "base_uri": "https://localhost:8080/"
        },
        "id": "-Xa32jqE0raA",
        "outputId": "ffc05f81-35c1-45bc-ff97-faf5f343e4fc"
      },
      "outputs": [
        {
          "output_type": "stream",
          "name": "stdout",
          "text": [
            "Requirement already satisfied: gym in /usr/local/lib/python3.7/dist-packages (0.19.0)\n",
            "Requirement already satisfied: cloudpickle<1.7.0,>=1.2.0 in /usr/local/lib/python3.7/dist-packages (from gym) (1.3.0)\n",
            "Requirement already satisfied: numpy>=1.18.0 in /usr/local/lib/python3.7/dist-packages (from gym) (1.21.6)\n",
            "Requirement already satisfied: ma_gym in /usr/local/lib/python3.7/dist-packages (0.0.8)\n",
            "Requirement already satisfied: gym==0.19.0 in /usr/local/lib/python3.7/dist-packages (from ma_gym) (0.19.0)\n",
            "Requirement already satisfied: six>=1.16.0 in /usr/local/lib/python3.7/dist-packages (from ma_gym) (1.16.0)\n",
            "Requirement already satisfied: scipy>=1.3.0 in /usr/local/lib/python3.7/dist-packages (from ma_gym) (1.4.1)\n",
            "Requirement already satisfied: pillow>=7.2.0 in /usr/local/lib/python3.7/dist-packages (from ma_gym) (9.1.0)\n",
            "Requirement already satisfied: pyglet<=1.5.0,>=1.4.0 in /usr/local/lib/python3.7/dist-packages (from ma_gym) (1.5.0)\n",
            "Requirement already satisfied: numpy>=1.16.4 in /usr/local/lib/python3.7/dist-packages (from ma_gym) (1.21.6)\n",
            "Requirement already satisfied: cloudpickle<1.7.0,>=1.2.0 in /usr/local/lib/python3.7/dist-packages (from ma_gym) (1.3.0)\n",
            "Requirement already satisfied: future in /usr/local/lib/python3.7/dist-packages (from pyglet<=1.5.0,>=1.4.0->ma_gym) (0.16.0)\n"
          ]
        }
      ],
      "source": [
        "!pip install gym\n",
        "!pip install ma_gym"
      ]
    },
    {
      "cell_type": "code",
      "execution_count": 2,
      "metadata": {
        "id": "XXJiX_uvc2pW"
      },
      "outputs": [],
      "source": [
        "import torch\n",
        "import torch.nn as nn\n",
        "import torch.nn.functional as F\n",
        "import torch.optim as optim\n",
        "import torchvision\n",
        "import numpy as np\n",
        "import matplotlib.pyplot as plt\n",
        "import gym\n",
        "from gym import spaces\n",
        "from google.colab import widgets\n",
        "import time\n",
        "from mpl_toolkits import mplot3d\n",
        "import copy\n",
        "import random"
      ]
    },
    {
      "cell_type": "markdown",
      "source": [
        "# Tabular Methods - Grid World 🌎"
      ],
      "metadata": {
        "id": "cF_INa6CcKRl"
      }
    },
    {
      "cell_type": "markdown",
      "source": [
        "## Environment Definition"
      ],
      "metadata": {
        "id": "msKDDy6GUPaH"
      }
    },
    {
      "cell_type": "markdown",
      "source": [
        "<h1> Multi-agent RL Environment Definition\n",
        "\n",
        "<h3> Based on professors example\n"
      ],
      "metadata": {
        "id": "hCVkkKLDlii-"
      }
    },
    {
      "cell_type": "code",
      "source": [
        "#Environment Definition\n",
        "class MAGridWorldTab(gym.Env):\n",
        "    \n",
        "    metadata = { 'render.modes' : ['human', 'rgb_array'] }\n",
        "        \n",
        "    def __init__(self, size, n_agents):\n",
        "        self.size = size\n",
        "        self._grid_size = (self.size, self.size)\n",
        "        self.world = np.zeros((self._grid_size))\n",
        "        self._timestep = None\n",
        "        self._max_timestep = int(self.size*4)\n",
        "        self.n_agents = n_agents\n",
        "        self.dist = int((self.size-1)/(n_agents-1))\n",
        "        self._step_cost = -0.1\n",
        "        self.observation_space = spaces.Box(low=0, high=self.size, shape=(self.size, self.size))\n",
        "        self.action_space = spaces.Discrete(5)\n",
        "\n",
        "    def reset(self):\n",
        "        self.agent_pos = []\n",
        "        self.goal_pos = []\n",
        "        self._timestep = 0\n",
        "        self.done = [False for i in range(self.n_agents)]\n",
        "        for i in range(self.n_agents):\n",
        "            self.agent_pos.append([self.size-1, i*self.dist])\n",
        "            self.goal_pos.append([0, i*self.dist])\n",
        "        self.goal_pos.reverse()\n",
        "        observation = tuple([tuple(pos) for pos in self.agent_pos])\n",
        "        return observation\n",
        "\n",
        "\n",
        "    def _compute_distance(self, x, y):\n",
        "        dist = np.abs(x[0]-y[0]) + np.abs(x[1]-y[1])\n",
        "        return dist\n",
        "\n",
        "\n",
        "    def _is_inside_grid(self, pos):\n",
        "        return (0 <= pos[0] < self._grid_size[0]) and (0 <= pos[1] < self._grid_size[1])\n",
        "\n",
        "\n",
        "    def _is_collision(self, new_pos, agent):\n",
        "        for i in range(self.n_agents):\n",
        "            if i == agent:\n",
        "                continue\n",
        "            elif new_pos == self.agent_pos[i]:\n",
        "                return True\n",
        "            elif new_pos == self.goal_pos[i]:\n",
        "                return True\n",
        "\n",
        "    def step(self, actions):\n",
        "        self._timestep += 1\n",
        "        old_pos = self.agent_pos.copy()\n",
        "        rewards = [0 for _ in range(self.n_agents)]\n",
        "\n",
        "        for i in range(self.n_agents):\n",
        "            self.update_agent_pos(i, actions[i])\n",
        "            old_dist = self._compute_distance(old_pos[i], self.goal_pos[i])\n",
        "            new_dist = self._compute_distance(self.agent_pos[i], self.goal_pos[i])\n",
        "            \n",
        "            if new_dist < old_dist:\n",
        "                rewards[i] = -0.1\n",
        "            elif new_dist > old_dist:\n",
        "                rewards[i] = -0.5\n",
        "\n",
        "            elif (new_dist == old_dist) and not self.done[i]:\n",
        "                rewards[i] = -0.5\n",
        "            \n",
        "            if (self.agent_pos[i] == self.goal_pos[i]):\n",
        "                if not self.done[i]:\n",
        "                  rewards[i] = 10\n",
        "                self.done[i] = True\n",
        "                \n",
        "            else:\n",
        "                self.done[i] = False\n",
        "\n",
        "        if self._timestep >= self._max_timestep:\n",
        "            self.done = [True for i in range(self.n_agents)]\n",
        "            \n",
        "        observation = tuple([tuple(pos) for pos in self.agent_pos])\n",
        "        info = {}\n",
        "        return observation, rewards, self.done, info #all(done)\n",
        "\n",
        "\n",
        "\n",
        "    def update_agent_pos(self, agent, action):\n",
        "        next_pos = copy.copy(self.agent_pos[agent])\n",
        "        if self.done[agent]:\n",
        "          pass\n",
        "        elif action == 0: # Down\n",
        "            next_pos[0] += 1\n",
        "        elif action == 1: # Up\n",
        "            next_pos[0] -= 1\n",
        "        elif action == 2: # Right\n",
        "            next_pos[1] += 1\n",
        "        elif action == 3: # Left\n",
        "            next_pos[1] -= 1\n",
        "        elif action == 4: # No move\n",
        "            pass\n",
        "        else:\n",
        "            raise Exception('Action is not valid')\n",
        "            \n",
        "        if self._is_inside_grid(next_pos) and not self._is_collision(next_pos, agent):\n",
        "            self.agent_pos[agent] = next_pos\n",
        "        else:\n",
        "            pass\n",
        "        \n",
        "\n",
        "    def render(self):\n",
        "        state = np.copy(self.world)\n",
        "        for i in range(self.n_agents):\n",
        "            state[tuple(self.agent_pos[i])] = 1 - (0.1 * i)\n",
        "            state[tuple(self.goal_pos[i])] = 1 - (0.1 * i)\n",
        "        return plt.imshow(state)\n",
        "\n",
        "    def getGoalPos(self):\n",
        "      return tuple([tuple(pos) for pos in self.goal_pos])"
      ],
      "metadata": {
        "id": "oowv-YIeb7TD"
      },
      "execution_count": 9,
      "outputs": []
    },
    {
      "cell_type": "code",
      "source": [
        ""
      ],
      "metadata": {
        "id": "HaXvD7VM548q"
      },
      "execution_count": 9,
      "outputs": []
    },
    {
      "cell_type": "markdown",
      "source": [
        "## Greedy Agent Definition"
      ],
      "metadata": {
        "id": "KmaYy92SUXeE"
      }
    },
    {
      "cell_type": "code",
      "source": [
        "#Agent that uses the greedy epsilon approach\n",
        "class GreedyEpsAgentTab():\n",
        "\n",
        "  def __init__(self, eps, Q, action_space):\n",
        "    self.eps = eps\n",
        "    self.Q = Q\n",
        "    self.action_space = action_space\n",
        "\n",
        "  def get_action(self, state):\n",
        "    eps_val = np.random.uniform(0, 1)\n",
        "\n",
        "    if eps_val < self.eps:\n",
        "      return self.action_space.sample()\n",
        "    else:\n",
        "      return self.Q[state].index(max(self.Q[state]))\n",
        "\n",
        "  def update_eps(self, eps):\n",
        "    self.eps = eps\n",
        "\n",
        "  def __str__(self):\n",
        "    return f'This agent works in an environment with {len(self.Q)} states and {self.action_space.n} possible actions'"
      ],
      "metadata": {
        "id": "szAJ51QWb7TE"
      },
      "execution_count": 10,
      "outputs": []
    },
    {
      "cell_type": "markdown",
      "source": [
        "## Helper Functions"
      ],
      "metadata": {
        "id": "R1iFzQhqUdFN"
      }
    },
    {
      "cell_type": "code",
      "source": [
        "#Convert Single value action into list of actions\n",
        "def convertAction(a, gridSize, nAgents, nActions):\n",
        "  actions = []\n",
        "  for i in reversed(range(nAgents)):\n",
        "    count = int(a/(nActions**i))\n",
        "    actions.append(count)\n",
        "    a = a - (count * (nActions**i))\n",
        "  return actions"
      ],
      "metadata": {
        "id": "aROX6L2k7-Oe"
      },
      "execution_count": 11,
      "outputs": []
    },
    {
      "cell_type": "code",
      "source": [
        "#Check if all agents are done\n",
        "def allDone(done):\n",
        "  for d in done:\n",
        "    if not d:\n",
        "      return False\n",
        "  return True"
      ],
      "metadata": {
        "id": "0fHO2PyPb7TF"
      },
      "execution_count": 12,
      "outputs": []
    },
    {
      "cell_type": "markdown",
      "source": [
        "## Config"
      ],
      "metadata": {
        "id": "avrFHaUUb7TF"
      }
    },
    {
      "cell_type": "code",
      "source": [
        "config = {\n",
        "    'N_AGENTS': 3,\n",
        "    'GRID_SIZE': 5\n",
        "}"
      ],
      "metadata": {
        "id": "J8Qakcepb7TF"
      },
      "execution_count": 13,
      "outputs": []
    },
    {
      "cell_type": "markdown",
      "source": [
        "## Q-Learning"
      ],
      "metadata": {
        "id": "pB15BAd_UqnG"
      }
    },
    {
      "cell_type": "code",
      "source": [
        "#Q-Learning: Deterministic with Greedy Epsilon Policy\n",
        "\n",
        "#Initialize Environment\n",
        "env = MAGridWorldTab(config['GRID_SIZE'], config['N_AGENTS'])\n",
        "numAgents = config['N_AGENTS']\n",
        "\n",
        "#Initialize Q values\n",
        "totalRewards = []\n",
        "#epsilons = []\n",
        "#cumRewards = [0]\n",
        "Q = {tuple(env.reset()):[np.random.choice(5) for i in range(5**numAgents)],tuple(env.getGoalPos()):[0 for i in range(5**numAgents)]}\n",
        "alpha = 0.01\n",
        "gamma = 0.99\n",
        "\n",
        "#Initialize Greedy Epsilon Agent\n",
        "epsilon = 1\n",
        "endEps = 0.01\n",
        "agent = GreedyEpsAgentTab(epsilon, Q, env.action_space)\n",
        "\n",
        "#Our initial policy can be an even distribution\n",
        "numEpisodes = 50000\n",
        "episode = 0\n",
        "\n",
        "#Loop through episodes, training agent using Q-Learning\n",
        "while(episode < numEpisodes):\n",
        "  #epsilons.append(agent.eps)\n",
        "  s = env.reset()\n",
        "  done = env.done\n",
        "\n",
        "  rTracker = 0\n",
        "  while not allDone(done):\n",
        "    #Take action, get results\n",
        "    a = agent.get_action(s)\n",
        "    sP, r, done, info = env.step(convertAction(a, config['GRID_SIZE'], config['N_AGENTS'], env.action_space.n))\n",
        "    r = sum(r)\n",
        "\n",
        "    #Check if state has been found yet, if not then add random Q values for actions\n",
        "    if sP not in Q.keys():\n",
        "      Q[sP] = [np.random.choice(5) for i in range(5**numAgents)]\n",
        "\n",
        "    #Update Q value\n",
        "    Q[s][a] = Q[s][a] + (alpha*(r + (gamma*max(Q[sP])) - Q[s][a]))\n",
        "    s = sP\n",
        "    rTracker += r\n",
        "  #Progress episode counter\n",
        "  episode += 1\n",
        "  totalRewards.append(rTracker)\n",
        "  #cumRewards.append(cumRewards[episode-1] + rTracker)\n",
        "  agent.update_eps((endEps/epsilon)**(episode/numEpisodes))\n",
        "\n",
        "#policy = [Q[s].index(max(Q[s])) for s in range(env.observation_space.n)]\n",
        "\n",
        "#Create and reset Deterministic Grid Environment\n",
        "env = MAGridWorldTab(config['GRID_SIZE'], config['N_AGENTS'])\n",
        "obs = env.reset()\n",
        "\n",
        "#Take random steps in environment until done\n",
        "done = env.done\n",
        "output_grid = widgets.Grid(2, 2)\n",
        "\n",
        "with output_grid.output_to(0, 0):\n",
        "  output_grid.clear_cell()\n",
        "  env.render()\n",
        "  time.sleep(1)\n",
        "\n",
        "while not allDone(done):\n",
        "  obs, reward, done, info = env.step(convertAction(agent.get_action(obs), config['GRID_SIZE'], config['N_AGENTS'], env.action_space.n))\n",
        "  with output_grid.output_to(0, 0):\n",
        "    output_grid.clear_cell()\n",
        "    env.render()\n",
        "  time.sleep(1)\n",
        "\n",
        "plt.plot([i for i in range(numEpisodes)], totalRewards)\n",
        "plt.xlabel(\"Episode\")\n",
        "plt.ylabel(\"Total Reward\")\n",
        "#plt.plot([i for i in range(len(cumRewards))], cumRewards)\n",
        "#plt.plot([i for i in range(numEpisodes)], epsilons)\n",
        "#plt.xlabel(\"Episode\")\n",
        "#plt.ylabel(\"Epsilon\")\n",
        "plt.show()"
      ],
      "metadata": {
        "colab": {
          "base_uri": "https://localhost:8080/",
          "height": 534
        },
        "outputId": "512388ef-646f-47d0-c80f-b7c5fc8eae1c",
        "id": "oDwWKjBcb7TF"
      },
      "execution_count": 14,
      "outputs": [
        {
          "output_type": "display_data",
          "data": {
            "text/plain": [
              "<IPython.core.display.HTML object>"
            ],
            "text/html": [
              "<style>\n",
              "       table#id2, #id2 > tbody > tr > th, #id2 > tbody > tr > td {\n",
              "         border: 1px solid lightgray;\n",
              "         border-collapse:collapse;\n",
              "         \n",
              "        }</style>"
            ]
          },
          "metadata": {}
        },
        {
          "output_type": "display_data",
          "data": {
            "text/plain": [
              "<IPython.core.display.HTML object>"
            ],
            "text/html": [
              "<table id=id2><tr><td id=id2-0-0></td><td id=id2-0-1></td></tr><tr><td id=id2-1-0></td><td id=id2-1-1></td></tr></table>"
            ]
          },
          "metadata": {}
        },
        {
          "output_type": "display_data",
          "data": {
            "text/plain": [
              "<IPython.core.display.Javascript object>"
            ],
            "application/javascript": [
              "window[\"c072f608-cf38-11ec-85fb-0242ac1c0002\"] = google.colab.output.getActiveOutputArea();\n",
              "//# sourceURL=js_e4df24b0a8"
            ]
          },
          "metadata": {}
        },
        {
          "output_type": "display_data",
          "data": {
            "text/plain": [
              "<IPython.core.display.Javascript object>"
            ],
            "application/javascript": [
              "window[\"c0736b1a-cf38-11ec-85fb-0242ac1c0002\"] = document.querySelector(\"#id2-0-0\");\n",
              "//# sourceURL=js_afe6e1fddb"
            ]
          },
          "metadata": {}
        },
        {
          "output_type": "display_data",
          "data": {
            "text/plain": [
              "<IPython.core.display.Javascript object>"
            ],
            "application/javascript": [
              "window[\"c07434d2-cf38-11ec-85fb-0242ac1c0002\"] = google.colab.output.setActiveOutputArea(window[\"c0736b1a-cf38-11ec-85fb-0242ac1c0002\"]);\n",
              "//# sourceURL=js_ddfe9f8b89"
            ]
          },
          "metadata": {}
        },
        {
          "output_type": "display_data",
          "data": {
            "text/plain": [
              "<IPython.core.display.Javascript object>"
            ],
            "application/javascript": [
              "window[\"c1292842-cf38-11ec-85fb-0242ac1c0002\"] = google.colab.output.setActiveOutputArea(window[\"c072f608-cf38-11ec-85fb-0242ac1c0002\"]);\n",
              "//# sourceURL=js_a4521ab114"
            ]
          },
          "metadata": {}
        },
        {
          "output_type": "display_data",
          "data": {
            "text/plain": [
              "<IPython.core.display.Javascript object>"
            ],
            "application/javascript": [
              "window[\"c12dfd86-cf38-11ec-85fb-0242ac1c0002\"] = google.colab.output.getActiveOutputArea();\n",
              "//# sourceURL=js_46306fcde6"
            ]
          },
          "metadata": {}
        },
        {
          "output_type": "display_data",
          "data": {
            "text/plain": [
              "<IPython.core.display.Javascript object>"
            ],
            "application/javascript": [
              "window[\"c12eb938-cf38-11ec-85fb-0242ac1c0002\"] = document.querySelector(\"#id2-0-0\");\n",
              "//# sourceURL=js_69b51e377d"
            ]
          },
          "metadata": {}
        },
        {
          "output_type": "display_data",
          "data": {
            "text/plain": [
              "<IPython.core.display.Javascript object>"
            ],
            "application/javascript": [
              "window[\"c12f11bc-cf38-11ec-85fb-0242ac1c0002\"] = google.colab.output.setActiveOutputArea(window[\"c12eb938-cf38-11ec-85fb-0242ac1c0002\"]);\n",
              "//# sourceURL=js_b485f6084c"
            ]
          },
          "metadata": {}
        },
        {
          "output_type": "display_data",
          "data": {
            "text/plain": [
              "<IPython.core.display.Javascript object>"
            ],
            "application/javascript": [
              "window[\"c1532106-cf38-11ec-85fb-0242ac1c0002\"] = google.colab.output.setActiveOutputArea(window[\"c12dfd86-cf38-11ec-85fb-0242ac1c0002\"]);\n",
              "//# sourceURL=js_6cccb64b9d"
            ]
          },
          "metadata": {}
        },
        {
          "output_type": "display_data",
          "data": {
            "text/plain": [
              "<IPython.core.display.Javascript object>"
            ],
            "application/javascript": [
              "window[\"c1f022ee-cf38-11ec-85fb-0242ac1c0002\"] = google.colab.output.getActiveOutputArea();\n",
              "//# sourceURL=js_6a3420efd3"
            ]
          },
          "metadata": {}
        },
        {
          "output_type": "display_data",
          "data": {
            "text/plain": [
              "<IPython.core.display.Javascript object>"
            ],
            "application/javascript": [
              "window[\"c1f0dacc-cf38-11ec-85fb-0242ac1c0002\"] = document.querySelector(\"#id2-0-0\");\n",
              "//# sourceURL=js_1a470aa65b"
            ]
          },
          "metadata": {}
        },
        {
          "output_type": "display_data",
          "data": {
            "text/plain": [
              "<IPython.core.display.Javascript object>"
            ],
            "application/javascript": [
              "window[\"c1f1635c-cf38-11ec-85fb-0242ac1c0002\"] = google.colab.output.setActiveOutputArea(window[\"c1f0dacc-cf38-11ec-85fb-0242ac1c0002\"]);\n",
              "//# sourceURL=js_2c75b4a751"
            ]
          },
          "metadata": {}
        },
        {
          "output_type": "display_data",
          "data": {
            "text/plain": [
              "<IPython.core.display.Javascript object>"
            ],
            "application/javascript": [
              "window[\"c20a5cd6-cf38-11ec-85fb-0242ac1c0002\"] = google.colab.output.setActiveOutputArea(window[\"c1f022ee-cf38-11ec-85fb-0242ac1c0002\"]);\n",
              "//# sourceURL=js_694981a91e"
            ]
          },
          "metadata": {}
        },
        {
          "output_type": "display_data",
          "data": {
            "text/plain": [
              "<IPython.core.display.Javascript object>"
            ],
            "application/javascript": [
              "window[\"c2a568ac-cf38-11ec-85fb-0242ac1c0002\"] = google.colab.output.getActiveOutputArea();\n",
              "//# sourceURL=js_32c9e246e9"
            ]
          },
          "metadata": {}
        },
        {
          "output_type": "display_data",
          "data": {
            "text/plain": [
              "<IPython.core.display.Javascript object>"
            ],
            "application/javascript": [
              "window[\"c2a5ca90-cf38-11ec-85fb-0242ac1c0002\"] = document.querySelector(\"#id2-0-0\");\n",
              "//# sourceURL=js_89dce059ce"
            ]
          },
          "metadata": {}
        },
        {
          "output_type": "display_data",
          "data": {
            "text/plain": [
              "<IPython.core.display.Javascript object>"
            ],
            "application/javascript": [
              "window[\"c2a68f5c-cf38-11ec-85fb-0242ac1c0002\"] = google.colab.output.setActiveOutputArea(window[\"c2a5ca90-cf38-11ec-85fb-0242ac1c0002\"]);\n",
              "//# sourceURL=js_729bb68d34"
            ]
          },
          "metadata": {}
        },
        {
          "output_type": "display_data",
          "data": {
            "text/plain": [
              "<IPython.core.display.Javascript object>"
            ],
            "application/javascript": [
              "window[\"c2bdc762-cf38-11ec-85fb-0242ac1c0002\"] = google.colab.output.setActiveOutputArea(window[\"c2a568ac-cf38-11ec-85fb-0242ac1c0002\"]);\n",
              "//# sourceURL=js_90327471d2"
            ]
          },
          "metadata": {}
        },
        {
          "output_type": "display_data",
          "data": {
            "text/plain": [
              "<IPython.core.display.Javascript object>"
            ],
            "application/javascript": [
              "window[\"c358caf0-cf38-11ec-85fb-0242ac1c0002\"] = google.colab.output.getActiveOutputArea();\n",
              "//# sourceURL=js_7703405bbd"
            ]
          },
          "metadata": {}
        },
        {
          "output_type": "display_data",
          "data": {
            "text/plain": [
              "<IPython.core.display.Javascript object>"
            ],
            "application/javascript": [
              "window[\"c3593238-cf38-11ec-85fb-0242ac1c0002\"] = document.querySelector(\"#id2-0-0\");\n",
              "//# sourceURL=js_97c99918e9"
            ]
          },
          "metadata": {}
        },
        {
          "output_type": "display_data",
          "data": {
            "text/plain": [
              "<IPython.core.display.Javascript object>"
            ],
            "application/javascript": [
              "window[\"c3599dfe-cf38-11ec-85fb-0242ac1c0002\"] = google.colab.output.setActiveOutputArea(window[\"c3593238-cf38-11ec-85fb-0242ac1c0002\"]);\n",
              "//# sourceURL=js_a89e17c7e4"
            ]
          },
          "metadata": {}
        },
        {
          "output_type": "display_data",
          "data": {
            "text/plain": [
              "<IPython.core.display.Javascript object>"
            ],
            "application/javascript": [
              "window[\"c370c3d0-cf38-11ec-85fb-0242ac1c0002\"] = google.colab.output.setActiveOutputArea(window[\"c358caf0-cf38-11ec-85fb-0242ac1c0002\"]);\n",
              "//# sourceURL=js_d1468a1c9e"
            ]
          },
          "metadata": {}
        },
        {
          "output_type": "display_data",
          "data": {
            "text/plain": [
              "<IPython.core.display.Javascript object>"
            ],
            "application/javascript": [
              "window[\"c40c80cc-cf38-11ec-85fb-0242ac1c0002\"] = google.colab.output.getActiveOutputArea();\n",
              "//# sourceURL=js_9bdc93be7c"
            ]
          },
          "metadata": {}
        },
        {
          "output_type": "display_data",
          "data": {
            "text/plain": [
              "<IPython.core.display.Javascript object>"
            ],
            "application/javascript": [
              "window[\"c40cd928-cf38-11ec-85fb-0242ac1c0002\"] = document.querySelector(\"#id2-0-0\");\n",
              "//# sourceURL=js_818676cc35"
            ]
          },
          "metadata": {}
        },
        {
          "output_type": "display_data",
          "data": {
            "text/plain": [
              "<IPython.core.display.Javascript object>"
            ],
            "application/javascript": [
              "window[\"c40de12e-cf38-11ec-85fb-0242ac1c0002\"] = google.colab.output.setActiveOutputArea(window[\"c40cd928-cf38-11ec-85fb-0242ac1c0002\"]);\n",
              "//# sourceURL=js_c1c817f2f8"
            ]
          },
          "metadata": {}
        },
        {
          "output_type": "display_data",
          "data": {
            "text/plain": [
              "<IPython.core.display.Javascript object>"
            ],
            "application/javascript": [
              "window[\"c4252a6e-cf38-11ec-85fb-0242ac1c0002\"] = google.colab.output.setActiveOutputArea(window[\"c40c80cc-cf38-11ec-85fb-0242ac1c0002\"]);\n",
              "//# sourceURL=js_6be93f6672"
            ]
          },
          "metadata": {}
        },
        {
          "output_type": "display_data",
          "data": {
            "text/plain": [
              "<IPython.core.display.Javascript object>"
            ],
            "application/javascript": [
              "window[\"c4c1adee-cf38-11ec-85fb-0242ac1c0002\"] = google.colab.output.getActiveOutputArea();\n",
              "//# sourceURL=js_b37d298942"
            ]
          },
          "metadata": {}
        },
        {
          "output_type": "display_data",
          "data": {
            "text/plain": [
              "<IPython.core.display.Javascript object>"
            ],
            "application/javascript": [
              "window[\"c4c20fd2-cf38-11ec-85fb-0242ac1c0002\"] = document.querySelector(\"#id2-0-0\");\n",
              "//# sourceURL=js_e800563364"
            ]
          },
          "metadata": {}
        },
        {
          "output_type": "display_data",
          "data": {
            "text/plain": [
              "<IPython.core.display.Javascript object>"
            ],
            "application/javascript": [
              "window[\"c4c270e4-cf38-11ec-85fb-0242ac1c0002\"] = google.colab.output.setActiveOutputArea(window[\"c4c20fd2-cf38-11ec-85fb-0242ac1c0002\"]);\n",
              "//# sourceURL=js_ce4c6368f3"
            ]
          },
          "metadata": {}
        },
        {
          "output_type": "display_data",
          "data": {
            "text/plain": [
              "<IPython.core.display.Javascript object>"
            ],
            "application/javascript": [
              "window[\"c4da81d4-cf38-11ec-85fb-0242ac1c0002\"] = google.colab.output.setActiveOutputArea(window[\"c4c1adee-cf38-11ec-85fb-0242ac1c0002\"]);\n",
              "//# sourceURL=js_a9909a1813"
            ]
          },
          "metadata": {}
        },
        {
          "output_type": "display_data",
          "data": {
            "text/plain": [
              "<IPython.core.display.Javascript object>"
            ],
            "application/javascript": [
              "window[\"c576e344-cf38-11ec-85fb-0242ac1c0002\"] = google.colab.output.getActiveOutputArea();\n",
              "//# sourceURL=js_ddf297ec86"
            ]
          },
          "metadata": {}
        },
        {
          "output_type": "display_data",
          "data": {
            "text/plain": [
              "<IPython.core.display.Javascript object>"
            ],
            "application/javascript": [
              "window[\"c5772ff2-cf38-11ec-85fb-0242ac1c0002\"] = document.querySelector(\"#id2-0-0\");\n",
              "//# sourceURL=js_3d7f067ba1"
            ]
          },
          "metadata": {}
        },
        {
          "output_type": "display_data",
          "data": {
            "text/plain": [
              "<IPython.core.display.Javascript object>"
            ],
            "application/javascript": [
              "window[\"c5777412-cf38-11ec-85fb-0242ac1c0002\"] = google.colab.output.setActiveOutputArea(window[\"c5772ff2-cf38-11ec-85fb-0242ac1c0002\"]);\n",
              "//# sourceURL=js_0085587ff0"
            ]
          },
          "metadata": {}
        },
        {
          "output_type": "display_data",
          "data": {
            "text/plain": [
              "<IPython.core.display.Javascript object>"
            ],
            "application/javascript": [
              "window[\"c58f4bbe-cf38-11ec-85fb-0242ac1c0002\"] = google.colab.output.setActiveOutputArea(window[\"c576e344-cf38-11ec-85fb-0242ac1c0002\"]);\n",
              "//# sourceURL=js_6184e389ab"
            ]
          },
          "metadata": {}
        },
        {
          "output_type": "display_data",
          "data": {
            "text/plain": [
              "<IPython.core.display.Javascript object>"
            ],
            "application/javascript": [
              "window[\"c629fb8c-cf38-11ec-85fb-0242ac1c0002\"] = google.colab.output.getActiveOutputArea();\n",
              "//# sourceURL=js_a180422e71"
            ]
          },
          "metadata": {}
        },
        {
          "output_type": "display_data",
          "data": {
            "text/plain": [
              "<IPython.core.display.Javascript object>"
            ],
            "application/javascript": [
              "window[\"c62a5e1a-cf38-11ec-85fb-0242ac1c0002\"] = document.querySelector(\"#id2-0-0\");\n",
              "//# sourceURL=js_856b63cc53"
            ]
          },
          "metadata": {}
        },
        {
          "output_type": "display_data",
          "data": {
            "text/plain": [
              "<IPython.core.display.Javascript object>"
            ],
            "application/javascript": [
              "window[\"c62adbe2-cf38-11ec-85fb-0242ac1c0002\"] = google.colab.output.setActiveOutputArea(window[\"c62a5e1a-cf38-11ec-85fb-0242ac1c0002\"]);\n",
              "//# sourceURL=js_e6d8cbe89c"
            ]
          },
          "metadata": {}
        },
        {
          "output_type": "display_data",
          "data": {
            "text/plain": [
              "<IPython.core.display.Javascript object>"
            ],
            "application/javascript": [
              "window[\"c6422702-cf38-11ec-85fb-0242ac1c0002\"] = google.colab.output.setActiveOutputArea(window[\"c629fb8c-cf38-11ec-85fb-0242ac1c0002\"]);\n",
              "//# sourceURL=js_547a205a02"
            ]
          },
          "metadata": {}
        },
        {
          "output_type": "display_data",
          "data": {
            "text/plain": [
              "<IPython.core.display.Javascript object>"
            ],
            "application/javascript": [
              "window[\"c6dce756-cf38-11ec-85fb-0242ac1c0002\"] = google.colab.output.getActiveOutputArea();\n",
              "//# sourceURL=js_1b27082b80"
            ]
          },
          "metadata": {}
        },
        {
          "output_type": "display_data",
          "data": {
            "text/plain": [
              "<IPython.core.display.Javascript object>"
            ],
            "application/javascript": [
              "window[\"c6dd8b34-cf38-11ec-85fb-0242ac1c0002\"] = document.querySelector(\"#id2-0-0\");\n",
              "//# sourceURL=js_da3ae3e005"
            ]
          },
          "metadata": {}
        },
        {
          "output_type": "display_data",
          "data": {
            "text/plain": [
              "<IPython.core.display.Javascript object>"
            ],
            "application/javascript": [
              "window[\"c6ddea02-cf38-11ec-85fb-0242ac1c0002\"] = google.colab.output.setActiveOutputArea(window[\"c6dd8b34-cf38-11ec-85fb-0242ac1c0002\"]);\n",
              "//# sourceURL=js_5a0b5466ba"
            ]
          },
          "metadata": {}
        },
        {
          "output_type": "display_data",
          "data": {
            "text/plain": [
              "<IPython.core.display.Javascript object>"
            ],
            "application/javascript": [
              "window[\"c6f56bf0-cf38-11ec-85fb-0242ac1c0002\"] = google.colab.output.setActiveOutputArea(window[\"c6dce756-cf38-11ec-85fb-0242ac1c0002\"]);\n",
              "//# sourceURL=js_fb2f0bb35a"
            ]
          },
          "metadata": {}
        },
        {
          "output_type": "display_data",
          "data": {
            "text/plain": [
              "<IPython.core.display.Javascript object>"
            ],
            "application/javascript": [
              "window[\"c7901c86-cf38-11ec-85fb-0242ac1c0002\"] = google.colab.output.getActiveOutputArea();\n",
              "//# sourceURL=js_21d2186b0b"
            ]
          },
          "metadata": {}
        },
        {
          "output_type": "display_data",
          "data": {
            "text/plain": [
              "<IPython.core.display.Javascript object>"
            ],
            "application/javascript": [
              "window[\"c790710e-cf38-11ec-85fb-0242ac1c0002\"] = document.querySelector(\"#id2-0-0\");\n",
              "//# sourceURL=js_3c22da8246"
            ]
          },
          "metadata": {}
        },
        {
          "output_type": "display_data",
          "data": {
            "text/plain": [
              "<IPython.core.display.Javascript object>"
            ],
            "application/javascript": [
              "window[\"c791121c-cf38-11ec-85fb-0242ac1c0002\"] = google.colab.output.setActiveOutputArea(window[\"c790710e-cf38-11ec-85fb-0242ac1c0002\"]);\n",
              "//# sourceURL=js_9447d3160e"
            ]
          },
          "metadata": {}
        },
        {
          "output_type": "display_data",
          "data": {
            "text/plain": [
              "<IPython.core.display.Javascript object>"
            ],
            "application/javascript": [
              "window[\"c7a770de-cf38-11ec-85fb-0242ac1c0002\"] = google.colab.output.setActiveOutputArea(window[\"c7901c86-cf38-11ec-85fb-0242ac1c0002\"]);\n",
              "//# sourceURL=js_b9e691e556"
            ]
          },
          "metadata": {}
        },
        {
          "output_type": "display_data",
          "data": {
            "text/plain": [
              "<IPython.core.display.Javascript object>"
            ],
            "application/javascript": [
              "window[\"c8420d7e-cf38-11ec-85fb-0242ac1c0002\"] = google.colab.output.getActiveOutputArea();\n",
              "//# sourceURL=js_8fcc9ad189"
            ]
          },
          "metadata": {}
        },
        {
          "output_type": "display_data",
          "data": {
            "text/plain": [
              "<IPython.core.display.Javascript object>"
            ],
            "application/javascript": [
              "window[\"c842dab0-cf38-11ec-85fb-0242ac1c0002\"] = document.querySelector(\"#id2-0-0\");\n",
              "//# sourceURL=js_35b13a6ce4"
            ]
          },
          "metadata": {}
        },
        {
          "output_type": "display_data",
          "data": {
            "text/plain": [
              "<IPython.core.display.Javascript object>"
            ],
            "application/javascript": [
              "window[\"c8433b04-cf38-11ec-85fb-0242ac1c0002\"] = google.colab.output.setActiveOutputArea(window[\"c842dab0-cf38-11ec-85fb-0242ac1c0002\"]);\n",
              "//# sourceURL=js_f8db205e5e"
            ]
          },
          "metadata": {}
        },
        {
          "output_type": "display_data",
          "data": {
            "text/plain": [
              "<IPython.core.display.Javascript object>"
            ],
            "application/javascript": [
              "window[\"c8584c06-cf38-11ec-85fb-0242ac1c0002\"] = google.colab.output.setActiveOutputArea(window[\"c8420d7e-cf38-11ec-85fb-0242ac1c0002\"]);\n",
              "//# sourceURL=js_8869c203df"
            ]
          },
          "metadata": {}
        },
        {
          "output_type": "display_data",
          "data": {
            "text/plain": [
              "<IPython.core.display.Javascript object>"
            ],
            "application/javascript": [
              "window[\"c8f4b06e-cf38-11ec-85fb-0242ac1c0002\"] = google.colab.output.getActiveOutputArea();\n",
              "//# sourceURL=js_c6380c55ac"
            ]
          },
          "metadata": {}
        },
        {
          "output_type": "display_data",
          "data": {
            "text/plain": [
              "<IPython.core.display.Javascript object>"
            ],
            "application/javascript": [
              "window[\"c8f527f6-cf38-11ec-85fb-0242ac1c0002\"] = document.querySelector(\"#id2-0-0\");\n",
              "//# sourceURL=js_5c7f61bce3"
            ]
          },
          "metadata": {}
        },
        {
          "output_type": "display_data",
          "data": {
            "text/plain": [
              "<IPython.core.display.Javascript object>"
            ],
            "application/javascript": [
              "window[\"c8f5aa3c-cf38-11ec-85fb-0242ac1c0002\"] = google.colab.output.setActiveOutputArea(window[\"c8f527f6-cf38-11ec-85fb-0242ac1c0002\"]);\n",
              "//# sourceURL=js_f174e6684d"
            ]
          },
          "metadata": {}
        },
        {
          "output_type": "display_data",
          "data": {
            "text/plain": [
              "<IPython.core.display.Javascript object>"
            ],
            "application/javascript": [
              "window[\"c90d635c-cf38-11ec-85fb-0242ac1c0002\"] = google.colab.output.setActiveOutputArea(window[\"c8f4b06e-cf38-11ec-85fb-0242ac1c0002\"]);\n",
              "//# sourceURL=js_ca3f4cb1f9"
            ]
          },
          "metadata": {}
        },
        {
          "output_type": "display_data",
          "data": {
            "text/plain": [
              "<IPython.core.display.Javascript object>"
            ],
            "application/javascript": [
              "window[\"c9aa6864-cf38-11ec-85fb-0242ac1c0002\"] = google.colab.output.getActiveOutputArea();\n",
              "//# sourceURL=js_eb1965187a"
            ]
          },
          "metadata": {}
        },
        {
          "output_type": "display_data",
          "data": {
            "text/plain": [
              "<IPython.core.display.Javascript object>"
            ],
            "application/javascript": [
              "window[\"c9aac610-cf38-11ec-85fb-0242ac1c0002\"] = document.querySelector(\"#id2-0-0\");\n",
              "//# sourceURL=js_1656b10240"
            ]
          },
          "metadata": {}
        },
        {
          "output_type": "display_data",
          "data": {
            "text/plain": [
              "<IPython.core.display.Javascript object>"
            ],
            "application/javascript": [
              "window[\"c9abc8bc-cf38-11ec-85fb-0242ac1c0002\"] = google.colab.output.setActiveOutputArea(window[\"c9aac610-cf38-11ec-85fb-0242ac1c0002\"]);\n",
              "//# sourceURL=js_c989ad1ae6"
            ]
          },
          "metadata": {}
        },
        {
          "output_type": "display_data",
          "data": {
            "text/plain": [
              "<IPython.core.display.Javascript object>"
            ],
            "application/javascript": [
              "window[\"c9c3c4c6-cf38-11ec-85fb-0242ac1c0002\"] = google.colab.output.setActiveOutputArea(window[\"c9aa6864-cf38-11ec-85fb-0242ac1c0002\"]);\n",
              "//# sourceURL=js_8685dcb915"
            ]
          },
          "metadata": {}
        },
        {
          "output_type": "display_data",
          "data": {
            "text/plain": [
              "<IPython.core.display.Javascript object>"
            ],
            "application/javascript": [
              "window[\"ca5ef4b4-cf38-11ec-85fb-0242ac1c0002\"] = google.colab.output.getActiveOutputArea();\n",
              "//# sourceURL=js_8671bdf9ca"
            ]
          },
          "metadata": {}
        },
        {
          "output_type": "display_data",
          "data": {
            "text/plain": [
              "<IPython.core.display.Javascript object>"
            ],
            "application/javascript": [
              "window[\"ca5f585a-cf38-11ec-85fb-0242ac1c0002\"] = document.querySelector(\"#id2-0-0\");\n",
              "//# sourceURL=js_e9eeb5dfbc"
            ]
          },
          "metadata": {}
        },
        {
          "output_type": "display_data",
          "data": {
            "text/plain": [
              "<IPython.core.display.Javascript object>"
            ],
            "application/javascript": [
              "window[\"ca60785c-cf38-11ec-85fb-0242ac1c0002\"] = google.colab.output.setActiveOutputArea(window[\"ca5f585a-cf38-11ec-85fb-0242ac1c0002\"]);\n",
              "//# sourceURL=js_3cd4459d7a"
            ]
          },
          "metadata": {}
        },
        {
          "output_type": "display_data",
          "data": {
            "text/plain": [
              "<IPython.core.display.Javascript object>"
            ],
            "application/javascript": [
              "window[\"ca787f38-cf38-11ec-85fb-0242ac1c0002\"] = google.colab.output.setActiveOutputArea(window[\"ca5ef4b4-cf38-11ec-85fb-0242ac1c0002\"]);\n",
              "//# sourceURL=js_0a934a85ac"
            ]
          },
          "metadata": {}
        },
        {
          "output_type": "display_data",
          "data": {
            "text/plain": [
              "<IPython.core.display.Javascript object>"
            ],
            "application/javascript": [
              "window[\"cb134b12-cf38-11ec-85fb-0242ac1c0002\"] = google.colab.output.getActiveOutputArea();\n",
              "//# sourceURL=js_fd88f8f816"
            ]
          },
          "metadata": {}
        },
        {
          "output_type": "display_data",
          "data": {
            "text/plain": [
              "<IPython.core.display.Javascript object>"
            ],
            "application/javascript": [
              "window[\"cb13b764-cf38-11ec-85fb-0242ac1c0002\"] = document.querySelector(\"#id2-0-0\");\n",
              "//# sourceURL=js_6359928198"
            ]
          },
          "metadata": {}
        },
        {
          "output_type": "display_data",
          "data": {
            "text/plain": [
              "<IPython.core.display.Javascript object>"
            ],
            "application/javascript": [
              "window[\"cb142b7c-cf38-11ec-85fb-0242ac1c0002\"] = google.colab.output.setActiveOutputArea(window[\"cb13b764-cf38-11ec-85fb-0242ac1c0002\"]);\n",
              "//# sourceURL=js_b2438c86c3"
            ]
          },
          "metadata": {}
        },
        {
          "output_type": "display_data",
          "data": {
            "text/plain": [
              "<Figure size 432x288 with 1 Axes>"
            ],
            "image/png": "[encoded data removed]"
          },
          "metadata": {
            "needs_background": "light"
          }
        },
        {
          "output_type": "display_data",
          "data": {
            "text/plain": [
              "<IPython.core.display.Javascript object>"
            ],
            "application/javascript": [
              "window[\"cb2e09a2-cf38-11ec-85fb-0242ac1c0002\"] = google.colab.output.setActiveOutputArea(window[\"cb134b12-cf38-11ec-85fb-0242ac1c0002\"]);\n",
              "//# sourceURL=js_d5755bb958"
            ]
          },
          "metadata": {}
        },
        {
          "output_type": "display_data",
          "data": {
            "text/plain": [
              "<Figure size 432x288 with 1 Axes>"
            ],
            "image/png": "[encoded data removed]"
          },
          "metadata": {
            "needs_background": "light"
          }
        }
      ]
    },
    {
      "cell_type": "markdown",
      "source": [
        "## Double Q-Learning"
      ],
      "metadata": {
        "id": "lywL_4DRUwEz"
      }
    },
    {
      "cell_type": "code",
      "source": [
        "#Double Q-Learning: Deterministic with Greedy Epsilon Policy\n",
        "\n",
        "#Initialize Environment\n",
        "env = MAGridWorldTab(config['GRID_SIZE'], config['N_AGENTS'])\n",
        "numAgents = config['N_AGENTS']\n",
        "\n",
        "#Initialize Q values\n",
        "totalRewards = []\n",
        "cumRewards = [0]\n",
        "QA = {tuple(env.reset()):[np.random.choice(5) for i in range(5**numAgents)],tuple(env.getGoalPos()):[0 for i in range(5**numAgents)]}\n",
        "QB = {tuple(env.reset()):[np.random.choice(5) for i in range(5**numAgents)],tuple(env.getGoalPos()):[0 for i in range(5**numAgents)]}\n",
        "alpha = 0.01\n",
        "gamma = 0.99\n",
        "\n",
        "#Initialize Greedy Epsilon Agent\n",
        "epsilonA = 1\n",
        "endEpsilonA = 0.01\n",
        "agentA = GreedyEpsAgentTab(epsilonA, QA, env.action_space)\n",
        "epsilonB = 1\n",
        "endEpsilonB = 0.01\n",
        "agentB = GreedyEpsAgentTab(epsilonB, QB, env.action_space)\n",
        "\n",
        "#Our initial policy can be an even distribution\n",
        "numEpisodes = 30000\n",
        "episode = 0\n",
        "\n",
        "#Loop through episodes, training agent using Q-Learning\n",
        "while(episode < numEpisodes):\n",
        "  s = env.reset()\n",
        "  done = [False for i in range(numAgents)]\n",
        "\n",
        "  rTracker = 0\n",
        "  if max(QA[s]) > max(QB[s]):\n",
        "      a = agentA.get_action(s)\n",
        "  else:\n",
        "      a = agentB.get_action(s)\n",
        "  while not allDone(done):\n",
        "    sP, r, done, info = env.step(convertAction(a, config['GRID_SIZE'], config['N_AGENTS'], env.action_space.n))\n",
        "    r = sum(r)\n",
        "\n",
        "    #Check if state has been found yet, if not then add Q values for the state\n",
        "    if sP not in QA.keys():\n",
        "      QA[sP] = [np.random.choice(5) for i in range(5**numAgents)]\n",
        "      QB[sP] = [np.random.choice(5) for i in range(5**numAgents)]\n",
        "\n",
        "    #Pick one of the two Q values to use for choosing next action\n",
        "    if np.random.choice(2):\n",
        "      nextAction = QA[sP].index(max(QA[sP]))\n",
        "      QA[s][a] = QA[s][a] + (alpha*(r + (gamma*QB[sP][nextAction]) - QA[s][a]))\n",
        "    else:\n",
        "      nextAction = QB[sP].index(max(QB[sP]))\n",
        "      QB[s][a] = QB[s][a] + (alpha*(r + (gamma*QA[sP][nextAction]) - QB[s][a]))\n",
        "    a = nextAction\n",
        "    s = sP\n",
        "    rTracker += r\n",
        "\n",
        "  #Increment episode, yada yada yada\n",
        "  episode += 1\n",
        "  totalRewards.append(rTracker)\n",
        "  cumRewards.append(cumRewards[episode-1] + rTracker)\n",
        "  agentA.update_eps((endEpsilonA/epsilonA)**(episode/numEpisodes))\n",
        "  agentB.update_eps((endEpsilonB/epsilonB)**(episode/numEpisodes))\n",
        "\n",
        "\n",
        "#Create and reset Deterministic Grid Environment\n",
        "env = MAGridWorldTab(config['GRID_SIZE'], config['N_AGENTS'])\n",
        "s = env.reset()\n",
        "\n",
        "#Take random steps in environment until done\n",
        "done = [False for i in range(numAgents)]\n",
        "output_grid = widgets.Grid(2, 2)\n",
        "\n",
        "with output_grid.output_to(0, 0):\n",
        "  output_grid.clear_cell()\n",
        "  env.render()\n",
        "  time.sleep(1)\n",
        "\n",
        "if max(QA[s]) > max(QB[s]):\n",
        "  a = agentA.get_action(s)\n",
        "else:\n",
        "  a = agentB.get_action(s)\n",
        "while not allDone(done):\n",
        "  sP, reward, done, info = env.step(convertAction(a, config['GRID_SIZE'], config['N_AGENTS'], env.action_space.n))\n",
        "  if np.random.choice(2):\n",
        "    nextAction = QA[sP].index(max(QA[sP]))\n",
        "  else:\n",
        "    nextAction = QB[sP].index(max(QB[sP]))\n",
        "  a = nextAction\n",
        "  s = sP\n",
        "  with output_grid.output_to(0, 0):\n",
        "    output_grid.clear_cell()\n",
        "    env.render()\n",
        "  time.sleep(1)\n",
        "\n",
        "plt.plot([i for i in range(numEpisodes)], totalRewards)\n",
        "plt.xlabel(\"Episode\")\n",
        "plt.ylabel(\"Total Reward\")\n",
        "#plt.plot([i for i in range(len(cumRewards))], cumRewards)\n",
        "plt.show()"
      ],
      "metadata": {
        "id": "0JbcMdG3q4zm",
        "colab": {
          "base_uri": "https://localhost:8080/",
          "height": 534
        },
        "outputId": "df5cfce1-fcf0-4957-b0e5-f565c38d8b9b"
      },
      "execution_count": 15,
      "outputs": [
        {
          "output_type": "display_data",
          "data": {
            "text/plain": [
              "<IPython.core.display.HTML object>"
            ],
            "text/html": [
              "<style>\n",
              "       table#id4, #id4 > tbody > tr > th, #id4 > tbody > tr > td {\n",
              "         border: 1px solid lightgray;\n",
              "         border-collapse:collapse;\n",
              "         \n",
              "        }</style>"
            ]
          },
          "metadata": {}
        },
        {
          "output_type": "display_data",
          "data": {
            "text/plain": [
              "<IPython.core.display.HTML object>"
            ],
            "text/html": [
              "<table id=id4><tr><td id=id4-0-0></td><td id=id4-0-1></td></tr><tr><td id=id4-1-0></td><td id=id4-1-1></td></tr></table>"
            ]
          },
          "metadata": {}
        },
        {
          "output_type": "display_data",
          "data": {
            "text/plain": [
              "<IPython.core.display.Javascript object>"
            ],
            "application/javascript": [
              "window[\"fde1ce7e-cf38-11ec-85fb-0242ac1c0002\"] = google.colab.output.getActiveOutputArea();\n",
              "//# sourceURL=js_77242d6dc2"
            ]
          },
          "metadata": {}
        },
        {
          "output_type": "display_data",
          "data": {
            "text/plain": [
              "<IPython.core.display.Javascript object>"
            ],
            "application/javascript": [
              "window[\"fde2d0d0-cf38-11ec-85fb-0242ac1c0002\"] = document.querySelector(\"#id4-0-0\");\n",
              "//# sourceURL=js_bb6e59952d"
            ]
          },
          "metadata": {}
        },
        {
          "output_type": "display_data",
          "data": {
            "text/plain": [
              "<IPython.core.display.Javascript object>"
            ],
            "application/javascript": [
              "window[\"fde33aa2-cf38-11ec-85fb-0242ac1c0002\"] = google.colab.output.setActiveOutputArea(window[\"fde2d0d0-cf38-11ec-85fb-0242ac1c0002\"]);\n",
              "//# sourceURL=js_5a319a618f"
            ]
          },
          "metadata": {}
        },
        {
          "output_type": "display_data",
          "data": {
            "text/plain": [
              "<IPython.core.display.Javascript object>"
            ],
            "application/javascript": [
              "window[\"fe92d976-cf38-11ec-85fb-0242ac1c0002\"] = google.colab.output.setActiveOutputArea(window[\"fde1ce7e-cf38-11ec-85fb-0242ac1c0002\"]);\n",
              "//# sourceURL=js_b60470db7a"
            ]
          },
          "metadata": {}
        },
        {
          "output_type": "display_data",
          "data": {
            "text/plain": [
              "<IPython.core.display.Javascript object>"
            ],
            "application/javascript": [
              "window[\"fe95da7c-cf38-11ec-85fb-0242ac1c0002\"] = google.colab.output.getActiveOutputArea();\n",
              "//# sourceURL=js_a432bdb729"
            ]
          },
          "metadata": {}
        },
        {
          "output_type": "display_data",
          "data": {
            "text/plain": [
              "<IPython.core.display.Javascript object>"
            ],
            "application/javascript": [
              "window[\"fe9671c6-cf38-11ec-85fb-0242ac1c0002\"] = document.querySelector(\"#id4-0-0\");\n",
              "//# sourceURL=js_0fff07bc9c"
            ]
          },
          "metadata": {}
        },
        {
          "output_type": "display_data",
          "data": {
            "text/plain": [
              "<IPython.core.display.Javascript object>"
            ],
            "application/javascript": [
              "window[\"fe96e4ee-cf38-11ec-85fb-0242ac1c0002\"] = google.colab.output.setActiveOutputArea(window[\"fe9671c6-cf38-11ec-85fb-0242ac1c0002\"]);\n",
              "//# sourceURL=js_f174ead0b0"
            ]
          },
          "metadata": {}
        },
        {
          "output_type": "display_data",
          "data": {
            "text/plain": [
              "<IPython.core.display.Javascript object>"
            ],
            "application/javascript": [
              "window[\"fead5774-cf38-11ec-85fb-0242ac1c0002\"] = google.colab.output.setActiveOutputArea(window[\"fe95da7c-cf38-11ec-85fb-0242ac1c0002\"]);\n",
              "//# sourceURL=js_9b4dddfd45"
            ]
          },
          "metadata": {}
        },
        {
          "output_type": "display_data",
          "data": {
            "text/plain": [
              "<IPython.core.display.Javascript object>"
            ],
            "application/javascript": [
              "window[\"ff4a20d6-cf38-11ec-85fb-0242ac1c0002\"] = google.colab.output.getActiveOutputArea();\n",
              "//# sourceURL=js_2a869b6517"
            ]
          },
          "metadata": {}
        },
        {
          "output_type": "display_data",
          "data": {
            "text/plain": [
              "<IPython.core.display.Javascript object>"
            ],
            "application/javascript": [
              "window[\"ff4aee4e-cf38-11ec-85fb-0242ac1c0002\"] = document.querySelector(\"#id4-0-0\");\n",
              "//# sourceURL=js_58df05f117"
            ]
          },
          "metadata": {}
        },
        {
          "output_type": "display_data",
          "data": {
            "text/plain": [
              "<IPython.core.display.Javascript object>"
            ],
            "application/javascript": [
              "window[\"ff4bbf0e-cf38-11ec-85fb-0242ac1c0002\"] = google.colab.output.setActiveOutputArea(window[\"ff4aee4e-cf38-11ec-85fb-0242ac1c0002\"]);\n",
              "//# sourceURL=js_21523d50ad"
            ]
          },
          "metadata": {}
        },
        {
          "output_type": "display_data",
          "data": {
            "text/plain": [
              "<IPython.core.display.Javascript object>"
            ],
            "application/javascript": [
              "window[\"ff63d120-cf38-11ec-85fb-0242ac1c0002\"] = google.colab.output.setActiveOutputArea(window[\"ff4a20d6-cf38-11ec-85fb-0242ac1c0002\"]);\n",
              "//# sourceURL=js_56a989590a"
            ]
          },
          "metadata": {}
        },
        {
          "output_type": "display_data",
          "data": {
            "text/plain": [
              "<IPython.core.display.Javascript object>"
            ],
            "application/javascript": [
              "window[\"0000d4ca-cf39-11ec-85fb-0242ac1c0002\"] = google.colab.output.getActiveOutputArea();\n",
              "//# sourceURL=js_29c700ce4c"
            ]
          },
          "metadata": {}
        },
        {
          "output_type": "display_data",
          "data": {
            "text/plain": [
              "<IPython.core.display.Javascript object>"
            ],
            "application/javascript": [
              "window[\"00013a50-cf39-11ec-85fb-0242ac1c0002\"] = document.querySelector(\"#id4-0-0\");\n",
              "//# sourceURL=js_29741be60c"
            ]
          },
          "metadata": {}
        },
        {
          "output_type": "display_data",
          "data": {
            "text/plain": [
              "<IPython.core.display.Javascript object>"
            ],
            "application/javascript": [
              "window[\"0001d488-cf39-11ec-85fb-0242ac1c0002\"] = google.colab.output.setActiveOutputArea(window[\"00013a50-cf39-11ec-85fb-0242ac1c0002\"]);\n",
              "//# sourceURL=js_c3313cd32c"
            ]
          },
          "metadata": {}
        },
        {
          "output_type": "display_data",
          "data": {
            "text/plain": [
              "<IPython.core.display.Javascript object>"
            ],
            "application/javascript": [
              "window[\"001a9e5a-cf39-11ec-85fb-0242ac1c0002\"] = google.colab.output.setActiveOutputArea(window[\"0000d4ca-cf39-11ec-85fb-0242ac1c0002\"]);\n",
              "//# sourceURL=js_e7a3869c04"
            ]
          },
          "metadata": {}
        },
        {
          "output_type": "display_data",
          "data": {
            "text/plain": [
              "<IPython.core.display.Javascript object>"
            ],
            "application/javascript": [
              "window[\"00b72ed2-cf39-11ec-85fb-0242ac1c0002\"] = google.colab.output.getActiveOutputArea();\n",
              "//# sourceURL=js_e0d8d44535"
            ]
          },
          "metadata": {}
        },
        {
          "output_type": "display_data",
          "data": {
            "text/plain": [
              "<IPython.core.display.Javascript object>"
            ],
            "application/javascript": [
              "window[\"00b7ab96-cf39-11ec-85fb-0242ac1c0002\"] = document.querySelector(\"#id4-0-0\");\n",
              "//# sourceURL=js_bbf65901de"
            ]
          },
          "metadata": {}
        },
        {
          "output_type": "display_data",
          "data": {
            "text/plain": [
              "<IPython.core.display.Javascript object>"
            ],
            "application/javascript": [
              "window[\"00b823be-cf39-11ec-85fb-0242ac1c0002\"] = google.colab.output.setActiveOutputArea(window[\"00b7ab96-cf39-11ec-85fb-0242ac1c0002\"]);\n",
              "//# sourceURL=js_1ab0ab5970"
            ]
          },
          "metadata": {}
        },
        {
          "output_type": "display_data",
          "data": {
            "text/plain": [
              "<IPython.core.display.Javascript object>"
            ],
            "application/javascript": [
              "window[\"00d1e5e2-cf39-11ec-85fb-0242ac1c0002\"] = google.colab.output.setActiveOutputArea(window[\"00b72ed2-cf39-11ec-85fb-0242ac1c0002\"]);\n",
              "//# sourceURL=js_9d72f727e8"
            ]
          },
          "metadata": {}
        },
        {
          "output_type": "display_data",
          "data": {
            "text/plain": [
              "<IPython.core.display.Javascript object>"
            ],
            "application/javascript": [
              "window[\"016f415c-cf39-11ec-85fb-0242ac1c0002\"] = google.colab.output.getActiveOutputArea();\n",
              "//# sourceURL=js_cea5e62b4d"
            ]
          },
          "metadata": {}
        },
        {
          "output_type": "display_data",
          "data": {
            "text/plain": [
              "<IPython.core.display.Javascript object>"
            ],
            "application/javascript": [
              "window[\"016fc33e-cf39-11ec-85fb-0242ac1c0002\"] = document.querySelector(\"#id4-0-0\");\n",
              "//# sourceURL=js_7ee81a0a2d"
            ]
          },
          "metadata": {}
        },
        {
          "output_type": "display_data",
          "data": {
            "text/plain": [
              "<IPython.core.display.Javascript object>"
            ],
            "application/javascript": [
              "window[\"0170720c-cf39-11ec-85fb-0242ac1c0002\"] = google.colab.output.setActiveOutputArea(window[\"016fc33e-cf39-11ec-85fb-0242ac1c0002\"]);\n",
              "//# sourceURL=js_66652e8323"
            ]
          },
          "metadata": {}
        },
        {
          "output_type": "display_data",
          "data": {
            "text/plain": [
              "<IPython.core.display.Javascript object>"
            ],
            "application/javascript": [
              "window[\"018911ae-cf39-11ec-85fb-0242ac1c0002\"] = google.colab.output.setActiveOutputArea(window[\"016f415c-cf39-11ec-85fb-0242ac1c0002\"]);\n",
              "//# sourceURL=js_0c3b662c0e"
            ]
          },
          "metadata": {}
        },
        {
          "output_type": "display_data",
          "data": {
            "text/plain": [
              "<IPython.core.display.Javascript object>"
            ],
            "application/javascript": [
              "window[\"0226f0d6-cf39-11ec-85fb-0242ac1c0002\"] = google.colab.output.getActiveOutputArea();\n",
              "//# sourceURL=js_ceeca721f7"
            ]
          },
          "metadata": {}
        },
        {
          "output_type": "display_data",
          "data": {
            "text/plain": [
              "<IPython.core.display.Javascript object>"
            ],
            "application/javascript": [
              "window[\"02274662-cf39-11ec-85fb-0242ac1c0002\"] = document.querySelector(\"#id4-0-0\");\n",
              "//# sourceURL=js_7956d97bd2"
            ]
          },
          "metadata": {}
        },
        {
          "output_type": "display_data",
          "data": {
            "text/plain": [
              "<IPython.core.display.Javascript object>"
            ],
            "application/javascript": [
              "window[\"0227bee4-cf39-11ec-85fb-0242ac1c0002\"] = google.colab.output.setActiveOutputArea(window[\"02274662-cf39-11ec-85fb-0242ac1c0002\"]);\n",
              "//# sourceURL=js_6b72c5775c"
            ]
          },
          "metadata": {}
        },
        {
          "output_type": "display_data",
          "data": {
            "text/plain": [
              "<IPython.core.display.Javascript object>"
            ],
            "application/javascript": [
              "window[\"0241c550-cf39-11ec-85fb-0242ac1c0002\"] = google.colab.output.setActiveOutputArea(window[\"0226f0d6-cf39-11ec-85fb-0242ac1c0002\"]);\n",
              "//# sourceURL=js_cdeb6b8cd2"
            ]
          },
          "metadata": {}
        },
        {
          "output_type": "display_data",
          "data": {
            "text/plain": [
              "<IPython.core.display.Javascript object>"
            ],
            "application/javascript": [
              "window[\"02ddfc72-cf39-11ec-85fb-0242ac1c0002\"] = google.colab.output.getActiveOutputArea();\n",
              "//# sourceURL=js_5ead59afa6"
            ]
          },
          "metadata": {}
        },
        {
          "output_type": "display_data",
          "data": {
            "text/plain": [
              "<IPython.core.display.Javascript object>"
            ],
            "application/javascript": [
              "window[\"02df1e9a-cf39-11ec-85fb-0242ac1c0002\"] = document.querySelector(\"#id4-0-0\");\n",
              "//# sourceURL=js_5d8e35ea75"
            ]
          },
          "metadata": {}
        },
        {
          "output_type": "display_data",
          "data": {
            "text/plain": [
              "<IPython.core.display.Javascript object>"
            ],
            "application/javascript": [
              "window[\"02df86f0-cf39-11ec-85fb-0242ac1c0002\"] = google.colab.output.setActiveOutputArea(window[\"02df1e9a-cf39-11ec-85fb-0242ac1c0002\"]);\n",
              "//# sourceURL=js_a035a793ad"
            ]
          },
          "metadata": {}
        },
        {
          "output_type": "display_data",
          "data": {
            "text/plain": [
              "<IPython.core.display.Javascript object>"
            ],
            "application/javascript": [
              "window[\"02f7425e-cf39-11ec-85fb-0242ac1c0002\"] = google.colab.output.setActiveOutputArea(window[\"02ddfc72-cf39-11ec-85fb-0242ac1c0002\"]);\n",
              "//# sourceURL=js_96534c9912"
            ]
          },
          "metadata": {}
        },
        {
          "output_type": "display_data",
          "data": {
            "text/plain": [
              "<IPython.core.display.Javascript object>"
            ],
            "application/javascript": [
              "window[\"03944bee-cf39-11ec-85fb-0242ac1c0002\"] = google.colab.output.getActiveOutputArea();\n",
              "//# sourceURL=js_b3d52314b5"
            ]
          },
          "metadata": {}
        },
        {
          "output_type": "display_data",
          "data": {
            "text/plain": [
              "<IPython.core.display.Javascript object>"
            ],
            "application/javascript": [
              "window[\"0394c0ce-cf39-11ec-85fb-0242ac1c0002\"] = document.querySelector(\"#id4-0-0\");\n",
              "//# sourceURL=js_d356c05de0"
            ]
          },
          "metadata": {}
        },
        {
          "output_type": "display_data",
          "data": {
            "text/plain": [
              "<IPython.core.display.Javascript object>"
            ],
            "application/javascript": [
              "window[\"03958e78-cf39-11ec-85fb-0242ac1c0002\"] = google.colab.output.setActiveOutputArea(window[\"0394c0ce-cf39-11ec-85fb-0242ac1c0002\"]);\n",
              "//# sourceURL=js_6eb97220d7"
            ]
          },
          "metadata": {}
        },
        {
          "output_type": "display_data",
          "data": {
            "text/plain": [
              "<IPython.core.display.Javascript object>"
            ],
            "application/javascript": [
              "window[\"03af59d4-cf39-11ec-85fb-0242ac1c0002\"] = google.colab.output.setActiveOutputArea(window[\"03944bee-cf39-11ec-85fb-0242ac1c0002\"]);\n",
              "//# sourceURL=js_e4c8d0e5ba"
            ]
          },
          "metadata": {}
        },
        {
          "output_type": "display_data",
          "data": {
            "text/plain": [
              "<IPython.core.display.Javascript object>"
            ],
            "application/javascript": [
              "window[\"044be876-cf39-11ec-85fb-0242ac1c0002\"] = google.colab.output.getActiveOutputArea();\n",
              "//# sourceURL=js_82bbf2e557"
            ]
          },
          "metadata": {}
        },
        {
          "output_type": "display_data",
          "data": {
            "text/plain": [
              "<IPython.core.display.Javascript object>"
            ],
            "application/javascript": [
              "window[\"044c392a-cf39-11ec-85fb-0242ac1c0002\"] = document.querySelector(\"#id4-0-0\");\n",
              "//# sourceURL=js_d01c834b03"
            ]
          },
          "metadata": {}
        },
        {
          "output_type": "display_data",
          "data": {
            "text/plain": [
              "<IPython.core.display.Javascript object>"
            ],
            "application/javascript": [
              "window[\"044d6b10-cf39-11ec-85fb-0242ac1c0002\"] = google.colab.output.setActiveOutputArea(window[\"044c392a-cf39-11ec-85fb-0242ac1c0002\"]);\n",
              "//# sourceURL=js_357e637697"
            ]
          },
          "metadata": {}
        },
        {
          "output_type": "display_data",
          "data": {
            "text/plain": [
              "<IPython.core.display.Javascript object>"
            ],
            "application/javascript": [
              "window[\"046bd668-cf39-11ec-85fb-0242ac1c0002\"] = google.colab.output.setActiveOutputArea(window[\"044be876-cf39-11ec-85fb-0242ac1c0002\"]);\n",
              "//# sourceURL=js_f4c0c95f3f"
            ]
          },
          "metadata": {}
        },
        {
          "output_type": "display_data",
          "data": {
            "text/plain": [
              "<IPython.core.display.Javascript object>"
            ],
            "application/javascript": [
              "window[\"05074ecc-cf39-11ec-85fb-0242ac1c0002\"] = google.colab.output.getActiveOutputArea();\n",
              "//# sourceURL=js_0b67a387b4"
            ]
          },
          "metadata": {}
        },
        {
          "output_type": "display_data",
          "data": {
            "text/plain": [
              "<IPython.core.display.Javascript object>"
            ],
            "application/javascript": [
              "window[\"0507e58a-cf39-11ec-85fb-0242ac1c0002\"] = document.querySelector(\"#id4-0-0\");\n",
              "//# sourceURL=js_e33f332449"
            ]
          },
          "metadata": {}
        },
        {
          "output_type": "display_data",
          "data": {
            "text/plain": [
              "<IPython.core.display.Javascript object>"
            ],
            "application/javascript": [
              "window[\"05087e1e-cf39-11ec-85fb-0242ac1c0002\"] = google.colab.output.setActiveOutputArea(window[\"0507e58a-cf39-11ec-85fb-0242ac1c0002\"]);\n",
              "//# sourceURL=js_966c909792"
            ]
          },
          "metadata": {}
        },
        {
          "output_type": "display_data",
          "data": {
            "text/plain": [
              "<IPython.core.display.Javascript object>"
            ],
            "application/javascript": [
              "window[\"051f5c38-cf39-11ec-85fb-0242ac1c0002\"] = google.colab.output.setActiveOutputArea(window[\"05074ecc-cf39-11ec-85fb-0242ac1c0002\"]);\n",
              "//# sourceURL=js_111c6d2047"
            ]
          },
          "metadata": {}
        },
        {
          "output_type": "display_data",
          "data": {
            "text/plain": [
              "<IPython.core.display.Javascript object>"
            ],
            "application/javascript": [
              "window[\"05ba9c20-cf39-11ec-85fb-0242ac1c0002\"] = google.colab.output.getActiveOutputArea();\n",
              "//# sourceURL=js_9e165f9e0d"
            ]
          },
          "metadata": {}
        },
        {
          "output_type": "display_data",
          "data": {
            "text/plain": [
              "<IPython.core.display.Javascript object>"
            ],
            "application/javascript": [
              "window[\"05bb796a-cf39-11ec-85fb-0242ac1c0002\"] = document.querySelector(\"#id4-0-0\");\n",
              "//# sourceURL=js_c30196088d"
            ]
          },
          "metadata": {}
        },
        {
          "output_type": "display_data",
          "data": {
            "text/plain": [
              "<IPython.core.display.Javascript object>"
            ],
            "application/javascript": [
              "window[\"05bbfafc-cf39-11ec-85fb-0242ac1c0002\"] = google.colab.output.setActiveOutputArea(window[\"05bb796a-cf39-11ec-85fb-0242ac1c0002\"]);\n",
              "//# sourceURL=js_a150888f5d"
            ]
          },
          "metadata": {}
        },
        {
          "output_type": "display_data",
          "data": {
            "text/plain": [
              "<IPython.core.display.Javascript object>"
            ],
            "application/javascript": [
              "window[\"05d57f18-cf39-11ec-85fb-0242ac1c0002\"] = google.colab.output.setActiveOutputArea(window[\"05ba9c20-cf39-11ec-85fb-0242ac1c0002\"]);\n",
              "//# sourceURL=js_3ef133080d"
            ]
          },
          "metadata": {}
        },
        {
          "output_type": "display_data",
          "data": {
            "text/plain": [
              "<IPython.core.display.Javascript object>"
            ],
            "application/javascript": [
              "window[\"067062c6-cf39-11ec-85fb-0242ac1c0002\"] = google.colab.output.getActiveOutputArea();\n",
              "//# sourceURL=js_484a1ba0df"
            ]
          },
          "metadata": {}
        },
        {
          "output_type": "display_data",
          "data": {
            "text/plain": [
              "<IPython.core.display.Javascript object>"
            ],
            "application/javascript": [
              "window[\"06710686-cf39-11ec-85fb-0242ac1c0002\"] = document.querySelector(\"#id4-0-0\");\n",
              "//# sourceURL=js_9a584c776d"
            ]
          },
          "metadata": {}
        },
        {
          "output_type": "display_data",
          "data": {
            "text/plain": [
              "<IPython.core.display.Javascript object>"
            ],
            "application/javascript": [
              "window[\"06719920-cf39-11ec-85fb-0242ac1c0002\"] = google.colab.output.setActiveOutputArea(window[\"06710686-cf39-11ec-85fb-0242ac1c0002\"]);\n",
              "//# sourceURL=js_e242d6bdb9"
            ]
          },
          "metadata": {}
        },
        {
          "output_type": "display_data",
          "data": {
            "text/plain": [
              "<IPython.core.display.Javascript object>"
            ],
            "application/javascript": [
              "window[\"0687e86a-cf39-11ec-85fb-0242ac1c0002\"] = google.colab.output.setActiveOutputArea(window[\"067062c6-cf39-11ec-85fb-0242ac1c0002\"]);\n",
              "//# sourceURL=js_802d6e7bc3"
            ]
          },
          "metadata": {}
        },
        {
          "output_type": "display_data",
          "data": {
            "text/plain": [
              "<IPython.core.display.Javascript object>"
            ],
            "application/javascript": [
              "window[\"0722ddac-cf39-11ec-85fb-0242ac1c0002\"] = google.colab.output.getActiveOutputArea();\n",
              "//# sourceURL=js_8013e58532"
            ]
          },
          "metadata": {}
        },
        {
          "output_type": "display_data",
          "data": {
            "text/plain": [
              "<IPython.core.display.Javascript object>"
            ],
            "application/javascript": [
              "window[\"07233a68-cf39-11ec-85fb-0242ac1c0002\"] = document.querySelector(\"#id4-0-0\");\n",
              "//# sourceURL=js_c3b61ee39d"
            ]
          },
          "metadata": {}
        },
        {
          "output_type": "display_data",
          "data": {
            "text/plain": [
              "<IPython.core.display.Javascript object>"
            ],
            "application/javascript": [
              "window[\"0723f886-cf39-11ec-85fb-0242ac1c0002\"] = google.colab.output.setActiveOutputArea(window[\"07233a68-cf39-11ec-85fb-0242ac1c0002\"]);\n",
              "//# sourceURL=js_850f9d0db8"
            ]
          },
          "metadata": {}
        },
        {
          "output_type": "display_data",
          "data": {
            "text/plain": [
              "<IPython.core.display.Javascript object>"
            ],
            "application/javascript": [
              "window[\"073b1c96-cf39-11ec-85fb-0242ac1c0002\"] = google.colab.output.setActiveOutputArea(window[\"0722ddac-cf39-11ec-85fb-0242ac1c0002\"]);\n",
              "//# sourceURL=js_995af56d15"
            ]
          },
          "metadata": {}
        },
        {
          "output_type": "display_data",
          "data": {
            "text/plain": [
              "<IPython.core.display.Javascript object>"
            ],
            "application/javascript": [
              "window[\"07d6266e-cf39-11ec-85fb-0242ac1c0002\"] = google.colab.output.getActiveOutputArea();\n",
              "//# sourceURL=js_de4fa721ff"
            ]
          },
          "metadata": {}
        },
        {
          "output_type": "display_data",
          "data": {
            "text/plain": [
              "<IPython.core.display.Javascript object>"
            ],
            "application/javascript": [
              "window[\"07d68dac-cf39-11ec-85fb-0242ac1c0002\"] = document.querySelector(\"#id4-0-0\");\n",
              "//# sourceURL=js_142c9a34b4"
            ]
          },
          "metadata": {}
        },
        {
          "output_type": "display_data",
          "data": {
            "text/plain": [
              "<IPython.core.display.Javascript object>"
            ],
            "application/javascript": [
              "window[\"07d76a7e-cf39-11ec-85fb-0242ac1c0002\"] = google.colab.output.setActiveOutputArea(window[\"07d68dac-cf39-11ec-85fb-0242ac1c0002\"]);\n",
              "//# sourceURL=js_8fb4cd9e56"
            ]
          },
          "metadata": {}
        },
        {
          "output_type": "display_data",
          "data": {
            "text/plain": [
              "<IPython.core.display.Javascript object>"
            ],
            "application/javascript": [
              "window[\"08029578-cf39-11ec-85fb-0242ac1c0002\"] = google.colab.output.setActiveOutputArea(window[\"07d6266e-cf39-11ec-85fb-0242ac1c0002\"]);\n",
              "//# sourceURL=js_491b1351da"
            ]
          },
          "metadata": {}
        },
        {
          "output_type": "display_data",
          "data": {
            "text/plain": [
              "<IPython.core.display.Javascript object>"
            ],
            "application/javascript": [
              "window[\"089db80a-cf39-11ec-85fb-0242ac1c0002\"] = google.colab.output.getActiveOutputArea();\n",
              "//# sourceURL=js_9577ffdcfb"
            ]
          },
          "metadata": {}
        },
        {
          "output_type": "display_data",
          "data": {
            "text/plain": [
              "<IPython.core.display.Javascript object>"
            ],
            "application/javascript": [
              "window[\"089e1976-cf39-11ec-85fb-0242ac1c0002\"] = document.querySelector(\"#id4-0-0\");\n",
              "//# sourceURL=js_291cd230aa"
            ]
          },
          "metadata": {}
        },
        {
          "output_type": "display_data",
          "data": {
            "text/plain": [
              "<IPython.core.display.Javascript object>"
            ],
            "application/javascript": [
              "window[\"089e7506-cf39-11ec-85fb-0242ac1c0002\"] = google.colab.output.setActiveOutputArea(window[\"089e1976-cf39-11ec-85fb-0242ac1c0002\"]);\n",
              "//# sourceURL=js_4d4963efac"
            ]
          },
          "metadata": {}
        },
        {
          "output_type": "display_data",
          "data": {
            "text/plain": [
              "<Figure size 432x288 with 1 Axes>"
            ],
            "image/png": "[encoded data removed]"
          },
          "metadata": {
            "needs_background": "light"
          }
        },
        {
          "output_type": "display_data",
          "data": {
            "text/plain": [
              "<IPython.core.display.Javascript object>"
            ],
            "application/javascript": [
              "window[\"08b963e8-cf39-11ec-85fb-0242ac1c0002\"] = google.colab.output.setActiveOutputArea(window[\"089db80a-cf39-11ec-85fb-0242ac1c0002\"]);\n",
              "//# sourceURL=js_3516fc4054"
            ]
          },
          "metadata": {}
        },
        {
          "output_type": "display_data",
          "data": {
            "text/plain": [
              "<Figure size 432x288 with 1 Axes>"
            ],
            "image/png": "[encoded data removed]"
          },
          "metadata": {
            "needs_background": "light"
          }
        }
      ]
    },
    {
      "cell_type": "markdown",
      "metadata": {
        "id": "QzC-YX0iNgPX"
      },
      "source": [
        "# DQN - GridWorld 🌎"
      ]
    },
    {
      "cell_type": "markdown",
      "metadata": {
        "id": "8_3hk5P0eMjJ"
      },
      "source": [
        "## Environment Definition"
      ]
    },
    {
      "cell_type": "code",
      "execution_count": 16,
      "metadata": {
        "id": "fKpfGsDvBcbF"
      },
      "outputs": [],
      "source": [
        "#Environment Definition\n",
        "class MAGridWorld(gym.Env):\n",
        "    \n",
        "    metadata = { 'render.modes' : ['human', 'rgb_array'] }\n",
        "        \n",
        "    def __init__(self, size, n_agents):\n",
        "        self.size = size\n",
        "        self._grid_size = (self.size, self.size)\n",
        "        self.world = np.zeros((self._grid_size))\n",
        "        self._timestep = None\n",
        "        self._max_timestep = int(self.size*4)\n",
        "        self.n_agents = n_agents\n",
        "        self.dist = int((self.size-1)/(n_agents-1))\n",
        "        self._step_cost = -0.1\n",
        "        self.observation_space = spaces.Box(low=0, high=self.size, shape=(self.size, self.size))\n",
        "        self.action_space = spaces.Discrete(5)\n",
        "\n",
        "    def reset(self):\n",
        "        self.agent_pos = []\n",
        "        self.goal_pos = []\n",
        "        self._timestep = 0\n",
        "        self.done = [False for i in range(self.n_agents)]\n",
        "        for i in range(self.n_agents):\n",
        "            self.agent_pos.append([self.size-1, i*self.dist])\n",
        "            self.goal_pos.append([0, i*self.dist])\n",
        "        self.goal_pos.reverse()\n",
        "        observation = tuple([tuple(pos) for pos in self.agent_pos])\n",
        "        return observation\n",
        "\n",
        "\n",
        "    def _compute_distance(self, x, y):\n",
        "        dist = np.abs(x[0]-y[0]) + np.abs(x[1]-y[1])\n",
        "        return dist\n",
        "\n",
        "\n",
        "    def _is_inside_grid(self, pos):\n",
        "        return (0 <= pos[0] < self._grid_size[0]) and (0 <= pos[1] < self._grid_size[1])\n",
        "\n",
        "\n",
        "    def _is_collision(self, new_pos, agent):\n",
        "        for i in range(self.n_agents):\n",
        "            if i == agent:\n",
        "                continue\n",
        "            elif new_pos == self.agent_pos[i]:\n",
        "                return True\n",
        "            elif new_pos == self.goal_pos[i]:\n",
        "                return True\n",
        "\n",
        "    def step(self, actions):\n",
        "        self._timestep += 1\n",
        "        old_pos = self.agent_pos.copy()\n",
        "        rewards = [0 for _ in range(self.n_agents)]\n",
        "\n",
        "        for i in range(self.n_agents):\n",
        "            self.update_agent_pos(i, actions[i])\n",
        "            old_dist = self._compute_distance(old_pos[i], self.goal_pos[i])\n",
        "            new_dist = self._compute_distance(self.agent_pos[i], self.goal_pos[i])\n",
        "            \n",
        "            if new_dist < old_dist:\n",
        "                rewards[i] = -0.1\n",
        "            elif new_dist > old_dist:\n",
        "                rewards[i] = -0.5\n",
        "\n",
        "            elif (new_dist == old_dist) and not self.done[i]:\n",
        "                rewards[i] = -0.5\n",
        "            \n",
        "            if (self.agent_pos[i] == self.goal_pos[i]):\n",
        "                if not self.done[i]:\n",
        "                  rewards[i] = 10\n",
        "                self.done[i] = True\n",
        "                \n",
        "            else:\n",
        "                self.done[i] = False\n",
        "\n",
        "        if self._timestep >= self._max_timestep:\n",
        "            self.done = [True for i in range(self.n_agents)]\n",
        "            \n",
        "        observation = tuple([tuple(pos) for pos in self.agent_pos])\n",
        "        info = {}\n",
        "        return observation, rewards, self.done, info #all(done)\n",
        "\n",
        "\n",
        "\n",
        "    def update_agent_pos(self, agent, action):\n",
        "        next_pos = copy.copy(self.agent_pos[agent])\n",
        "        if self.done[agent]:\n",
        "          pass\n",
        "        elif action == 0: # Down\n",
        "            next_pos[0] += 1\n",
        "        elif action == 1: # Up\n",
        "            next_pos[0] -= 1\n",
        "        elif action == 2: # Right\n",
        "            next_pos[1] += 1\n",
        "        elif action == 3: # Left\n",
        "            next_pos[1] -= 1\n",
        "        elif action == 4: # No move\n",
        "            pass\n",
        "        else:\n",
        "            raise Exception('Action is not valid')\n",
        "            \n",
        "        if self._is_inside_grid(next_pos) and not self._is_collision(next_pos, agent):\n",
        "            self.agent_pos[agent] = next_pos\n",
        "        else:\n",
        "            pass\n",
        "        \n",
        "\n",
        "    def render(self):\n",
        "        state = np.copy(self.world)\n",
        "        for i in range(self.n_agents):\n",
        "            state[tuple(self.agent_pos[i])] = 1 - (0.1 * i)\n",
        "            state[tuple(self.goal_pos[i])] = 1 - (0.1 * i)\n",
        "        return plt.imshow(state)\n",
        "\n",
        "    def getGoalPos(self):\n",
        "      return tuple([tuple(pos) for pos in self.goal_pos])"
      ]
    },
    {
      "cell_type": "markdown",
      "metadata": {
        "id": "ajtHQbGfkXrH"
      },
      "source": [
        "## Greedy-EPS Agent "
      ]
    },
    {
      "cell_type": "code",
      "execution_count": 17,
      "metadata": {
        "id": "XygFmZcbm7r5"
      },
      "outputs": [],
      "source": [
        "#Agent that uses the greedy epsilon approach\n",
        "class GreedyEpsAgent():\n",
        "\n",
        "  def __init__(self, eps, Q, action_space):\n",
        "    self.eps = eps\n",
        "    self.Q = Q\n",
        "    self.action_space = action_space\n",
        "\n",
        "  def get_action(self, state):\n",
        "    eps_val = np.random.uniform(0, 1)\n",
        "\n",
        "    if eps_val < self.eps:\n",
        "      return self.action_space.sample()\n",
        "    else:\n",
        "      return int(torch.argmax(self.Q(state)))\n",
        "        \n",
        "\n",
        "  def update_eps(self, eps):\n",
        "    self.eps = eps\n",
        "\n",
        "  def __str__(self):\n",
        "    return f'This agent works in an environment with {len(self.Q)} states and {self.action_space.n} possible actions'"
      ]
    },
    {
      "cell_type": "markdown",
      "metadata": {
        "id": "TGXNsx1b0B_L"
      },
      "source": [
        "## Helper Functions"
      ]
    },
    {
      "cell_type": "code",
      "execution_count": 18,
      "metadata": {
        "id": "kjnfMKp94zaf"
      },
      "outputs": [],
      "source": [
        "#Check if all agents are done\n",
        "def allDone(done):\n",
        "  for d in done:\n",
        "    if not d:\n",
        "      return False\n",
        "  return True"
      ]
    },
    {
      "cell_type": "markdown",
      "metadata": {
        "id": "U-ia3O5SUoFl"
      },
      "source": [
        "## Config"
      ]
    },
    {
      "cell_type": "code",
      "execution_count": 19,
      "metadata": {
        "id": "kcyKAt9yCaQv"
      },
      "outputs": [],
      "source": [
        "config = {\n",
        "    'N_AGENTS': 2,\n",
        "    'GRID_SIZE': 5\n",
        "}"
      ]
    },
    {
      "cell_type": "markdown",
      "metadata": {
        "id": "8LOYFrUVeCIF"
      },
      "source": [
        "## DQN - Agents don't see each other"
      ]
    },
    {
      "cell_type": "markdown",
      "metadata": {
        "id": "66XRWhysL4_d"
      },
      "source": [
        "### NN Definition"
      ]
    },
    {
      "cell_type": "code",
      "execution_count": null,
      "metadata": {
        "id": "9-nRiEXYL4_l"
      },
      "outputs": [],
      "source": [
        "class Net(nn.Module):\n",
        "    def __init__(self):\n",
        "        super().__init__()\n",
        "        self.fc1 = nn.Linear(2, 30)\n",
        "        self.fc2 = nn.Linear(30, 5)\n",
        "\n",
        "    def forward(self, x):\n",
        "        x = F.relu(self.fc1(x))\n",
        "        x = self.fc2(x)\n",
        "        return x\n"
      ]
    },
    {
      "cell_type": "markdown",
      "metadata": {
        "id": "j-l24z2jL71z"
      },
      "source": [
        "### Training"
      ]
    },
    {
      "cell_type": "code",
      "execution_count": null,
      "metadata": {
        "id": "ojT3iJt6Jjpq",
        "colab": {
          "base_uri": "https://localhost:8080/",
          "height": 536
        },
        "outputId": "d7279616-3245-4214-c10b-5caf73be5d90"
      },
      "outputs": [
        {
          "output_type": "display_data",
          "data": {
            "text/plain": [
              "<IPython.core.display.HTML object>"
            ],
            "text/html": [
              "<style>\n",
              "       table#id2, #id2 > tbody > tr > th, #id2 > tbody > tr > td {\n",
              "         border: 1px solid lightgray;\n",
              "         border-collapse:collapse;\n",
              "         \n",
              "        }</style>"
            ]
          },
          "metadata": {}
        },
        {
          "output_type": "display_data",
          "data": {
            "text/plain": [
              "<IPython.core.display.HTML object>"
            ],
            "text/html": [
              "<table id=id2><tr><td id=id2-0-0></td><td id=id2-0-1></td></tr><tr><td id=id2-1-0></td><td id=id2-1-1></td></tr></table>"
            ]
          },
          "metadata": {}
        },
        {
          "output_type": "display_data",
          "data": {
            "text/plain": [
              "<IPython.core.display.Javascript object>"
            ],
            "application/javascript": [
              "window[\"8ee63e1a-cede-11ec-b42c-0242ac1c0002\"] = google.colab.output.getActiveOutputArea();\n",
              "//# sourceURL=js_dc5960eb7b"
            ]
          },
          "metadata": {}
        },
        {
          "output_type": "display_data",
          "data": {
            "text/plain": [
              "<IPython.core.display.Javascript object>"
            ],
            "application/javascript": [
              "window[\"8ee6ac4c-cede-11ec-b42c-0242ac1c0002\"] = document.querySelector(\"#id2-0-0\");\n",
              "//# sourceURL=js_c5cd908c7a"
            ]
          },
          "metadata": {}
        },
        {
          "output_type": "display_data",
          "data": {
            "text/plain": [
              "<IPython.core.display.Javascript object>"
            ],
            "application/javascript": [
              "window[\"8ee77cc6-cede-11ec-b42c-0242ac1c0002\"] = google.colab.output.setActiveOutputArea(window[\"8ee6ac4c-cede-11ec-b42c-0242ac1c0002\"]);\n",
              "//# sourceURL=js_524c121cff"
            ]
          },
          "metadata": {}
        },
        {
          "output_type": "display_data",
          "data": {
            "text/plain": [
              "<IPython.core.display.Javascript object>"
            ],
            "application/javascript": [
              "window[\"8f9ceea8-cede-11ec-b42c-0242ac1c0002\"] = google.colab.output.setActiveOutputArea(window[\"8ee63e1a-cede-11ec-b42c-0242ac1c0002\"]);\n",
              "//# sourceURL=js_969174911d"
            ]
          },
          "metadata": {}
        },
        {
          "output_type": "display_data",
          "data": {
            "text/plain": [
              "<IPython.core.display.Javascript object>"
            ],
            "application/javascript": [
              "window[\"8f9f9b80-cede-11ec-b42c-0242ac1c0002\"] = google.colab.output.getActiveOutputArea();\n",
              "//# sourceURL=js_6c03e9af4a"
            ]
          },
          "metadata": {}
        },
        {
          "output_type": "display_data",
          "data": {
            "text/plain": [
              "<IPython.core.display.Javascript object>"
            ],
            "application/javascript": [
              "window[\"8f9fed10-cede-11ec-b42c-0242ac1c0002\"] = document.querySelector(\"#id2-0-0\");\n",
              "//# sourceURL=js_83c71ce05a"
            ]
          },
          "metadata": {}
        },
        {
          "output_type": "display_data",
          "data": {
            "text/plain": [
              "<IPython.core.display.Javascript object>"
            ],
            "application/javascript": [
              "window[\"8fa043be-cede-11ec-b42c-0242ac1c0002\"] = google.colab.output.setActiveOutputArea(window[\"8f9fed10-cede-11ec-b42c-0242ac1c0002\"]);\n",
              "//# sourceURL=js_6f6008ca10"
            ]
          },
          "metadata": {}
        },
        {
          "output_type": "display_data",
          "data": {
            "text/plain": [
              "<IPython.core.display.Javascript object>"
            ],
            "application/javascript": [
              "window[\"8fb72c6e-cede-11ec-b42c-0242ac1c0002\"] = google.colab.output.setActiveOutputArea(window[\"8f9f9b80-cede-11ec-b42c-0242ac1c0002\"]);\n",
              "//# sourceURL=js_8b5bff762d"
            ]
          },
          "metadata": {}
        },
        {
          "output_type": "display_data",
          "data": {
            "text/plain": [
              "<IPython.core.display.Javascript object>"
            ],
            "application/javascript": [
              "window[\"9051fb5e-cede-11ec-b42c-0242ac1c0002\"] = google.colab.output.getActiveOutputArea();\n",
              "//# sourceURL=js_3b3990861f"
            ]
          },
          "metadata": {}
        },
        {
          "output_type": "display_data",
          "data": {
            "text/plain": [
              "<IPython.core.display.Javascript object>"
            ],
            "application/javascript": [
              "window[\"90525a40-cede-11ec-b42c-0242ac1c0002\"] = document.querySelector(\"#id2-0-0\");\n",
              "//# sourceURL=js_324f4ea8af"
            ]
          },
          "metadata": {}
        },
        {
          "output_type": "display_data",
          "data": {
            "text/plain": [
              "<IPython.core.display.Javascript object>"
            ],
            "application/javascript": [
              "window[\"9052bb02-cede-11ec-b42c-0242ac1c0002\"] = google.colab.output.setActiveOutputArea(window[\"90525a40-cede-11ec-b42c-0242ac1c0002\"]);\n",
              "//# sourceURL=js_fc751aeeba"
            ]
          },
          "metadata": {}
        },
        {
          "output_type": "display_data",
          "data": {
            "text/plain": [
              "<IPython.core.display.Javascript object>"
            ],
            "application/javascript": [
              "window[\"906eebf6-cede-11ec-b42c-0242ac1c0002\"] = google.colab.output.setActiveOutputArea(window[\"9051fb5e-cede-11ec-b42c-0242ac1c0002\"]);\n",
              "//# sourceURL=js_fef0590183"
            ]
          },
          "metadata": {}
        },
        {
          "output_type": "display_data",
          "data": {
            "text/plain": [
              "<IPython.core.display.Javascript object>"
            ],
            "application/javascript": [
              "window[\"910be1ae-cede-11ec-b42c-0242ac1c0002\"] = google.colab.output.getActiveOutputArea();\n",
              "//# sourceURL=js_0c49bea8fc"
            ]
          },
          "metadata": {}
        },
        {
          "output_type": "display_data",
          "data": {
            "text/plain": [
              "<IPython.core.display.Javascript object>"
            ],
            "application/javascript": [
              "window[\"910c39d8-cede-11ec-b42c-0242ac1c0002\"] = document.querySelector(\"#id2-0-0\");\n",
              "//# sourceURL=js_73047a4452"
            ]
          },
          "metadata": {}
        },
        {
          "output_type": "display_data",
          "data": {
            "text/plain": [
              "<IPython.core.display.Javascript object>"
            ],
            "application/javascript": [
              "window[\"910c9568-cede-11ec-b42c-0242ac1c0002\"] = google.colab.output.setActiveOutputArea(window[\"910c39d8-cede-11ec-b42c-0242ac1c0002\"]);\n",
              "//# sourceURL=js_dbbb8d7599"
            ]
          },
          "metadata": {}
        },
        {
          "output_type": "display_data",
          "data": {
            "text/plain": [
              "<IPython.core.display.Javascript object>"
            ],
            "application/javascript": [
              "window[\"91311154-cede-11ec-b42c-0242ac1c0002\"] = google.colab.output.setActiveOutputArea(window[\"910be1ae-cede-11ec-b42c-0242ac1c0002\"]);\n",
              "//# sourceURL=js_ca599b34d8"
            ]
          },
          "metadata": {}
        },
        {
          "output_type": "display_data",
          "data": {
            "text/plain": [
              "<IPython.core.display.Javascript object>"
            ],
            "application/javascript": [
              "window[\"91cde56a-cede-11ec-b42c-0242ac1c0002\"] = google.colab.output.getActiveOutputArea();\n",
              "//# sourceURL=js_7eb25b9364"
            ]
          },
          "metadata": {}
        },
        {
          "output_type": "display_data",
          "data": {
            "text/plain": [
              "<IPython.core.display.Javascript object>"
            ],
            "application/javascript": [
              "window[\"91ce8ae2-cede-11ec-b42c-0242ac1c0002\"] = document.querySelector(\"#id2-0-0\");\n",
              "//# sourceURL=js_50110344b0"
            ]
          },
          "metadata": {}
        },
        {
          "output_type": "display_data",
          "data": {
            "text/plain": [
              "<IPython.core.display.Javascript object>"
            ],
            "application/javascript": [
              "window[\"91ceeeb0-cede-11ec-b42c-0242ac1c0002\"] = google.colab.output.setActiveOutputArea(window[\"91ce8ae2-cede-11ec-b42c-0242ac1c0002\"]);\n",
              "//# sourceURL=js_5403f1c962"
            ]
          },
          "metadata": {}
        },
        {
          "output_type": "display_data",
          "data": {
            "text/plain": [
              "<IPython.core.display.Javascript object>"
            ],
            "application/javascript": [
              "window[\"91e63d22-cede-11ec-b42c-0242ac1c0002\"] = google.colab.output.setActiveOutputArea(window[\"91cde56a-cede-11ec-b42c-0242ac1c0002\"]);\n",
              "//# sourceURL=js_85340e6802"
            ]
          },
          "metadata": {}
        },
        {
          "output_type": "display_data",
          "data": {
            "text/plain": [
              "<IPython.core.display.Javascript object>"
            ],
            "application/javascript": [
              "window[\"92813098-cede-11ec-b42c-0242ac1c0002\"] = google.colab.output.getActiveOutputArea();\n",
              "//# sourceURL=js_def6946074"
            ]
          },
          "metadata": {}
        },
        {
          "output_type": "display_data",
          "data": {
            "text/plain": [
              "<IPython.core.display.Javascript object>"
            ],
            "application/javascript": [
              "window[\"9281871e-cede-11ec-b42c-0242ac1c0002\"] = document.querySelector(\"#id2-0-0\");\n",
              "//# sourceURL=js_011da853cd"
            ]
          },
          "metadata": {}
        },
        {
          "output_type": "display_data",
          "data": {
            "text/plain": [
              "<IPython.core.display.Javascript object>"
            ],
            "application/javascript": [
              "window[\"9282243a-cede-11ec-b42c-0242ac1c0002\"] = google.colab.output.setActiveOutputArea(window[\"9281871e-cede-11ec-b42c-0242ac1c0002\"]);\n",
              "//# sourceURL=js_9b5b19bb6b"
            ]
          },
          "metadata": {}
        },
        {
          "output_type": "display_data",
          "data": {
            "text/plain": [
              "<IPython.core.display.Javascript object>"
            ],
            "application/javascript": [
              "window[\"929a9916-cede-11ec-b42c-0242ac1c0002\"] = google.colab.output.setActiveOutputArea(window[\"92813098-cede-11ec-b42c-0242ac1c0002\"]);\n",
              "//# sourceURL=js_f2053b1cc4"
            ]
          },
          "metadata": {}
        },
        {
          "output_type": "display_data",
          "data": {
            "text/plain": [
              "<IPython.core.display.Javascript object>"
            ],
            "application/javascript": [
              "window[\"93374874-cede-11ec-b42c-0242ac1c0002\"] = google.colab.output.getActiveOutputArea();\n",
              "//# sourceURL=js_1f2f4032c8"
            ]
          },
          "metadata": {}
        },
        {
          "output_type": "display_data",
          "data": {
            "text/plain": [
              "<IPython.core.display.Javascript object>"
            ],
            "application/javascript": [
              "window[\"9337ce3e-cede-11ec-b42c-0242ac1c0002\"] = document.querySelector(\"#id2-0-0\");\n",
              "//# sourceURL=js_1fa9a7d01b"
            ]
          },
          "metadata": {}
        },
        {
          "output_type": "display_data",
          "data": {
            "text/plain": [
              "<IPython.core.display.Javascript object>"
            ],
            "application/javascript": [
              "window[\"933823c0-cede-11ec-b42c-0242ac1c0002\"] = google.colab.output.setActiveOutputArea(window[\"9337ce3e-cede-11ec-b42c-0242ac1c0002\"]);\n",
              "//# sourceURL=js_f4f54f9be8"
            ]
          },
          "metadata": {}
        },
        {
          "output_type": "display_data",
          "data": {
            "text/plain": [
              "<IPython.core.display.Javascript object>"
            ],
            "application/javascript": [
              "window[\"93526d02-cede-11ec-b42c-0242ac1c0002\"] = google.colab.output.setActiveOutputArea(window[\"93374874-cede-11ec-b42c-0242ac1c0002\"]);\n",
              "//# sourceURL=js_6e02b38e43"
            ]
          },
          "metadata": {}
        },
        {
          "output_type": "display_data",
          "data": {
            "text/plain": [
              "<IPython.core.display.Javascript object>"
            ],
            "application/javascript": [
              "window[\"93ef1800-cede-11ec-b42c-0242ac1c0002\"] = google.colab.output.getActiveOutputArea();\n",
              "//# sourceURL=js_98ed48a578"
            ]
          },
          "metadata": {}
        },
        {
          "output_type": "display_data",
          "data": {
            "text/plain": [
              "<IPython.core.display.Javascript object>"
            ],
            "application/javascript": [
              "window[\"93ef91b8-cede-11ec-b42c-0242ac1c0002\"] = document.querySelector(\"#id2-0-0\");\n",
              "//# sourceURL=js_95c898b79f"
            ]
          },
          "metadata": {}
        },
        {
          "output_type": "display_data",
          "data": {
            "text/plain": [
              "<IPython.core.display.Javascript object>"
            ],
            "application/javascript": [
              "window[\"93f02452-cede-11ec-b42c-0242ac1c0002\"] = google.colab.output.setActiveOutputArea(window[\"93ef91b8-cede-11ec-b42c-0242ac1c0002\"]);\n",
              "//# sourceURL=js_66bbec04c0"
            ]
          },
          "metadata": {}
        },
        {
          "output_type": "display_data",
          "data": {
            "text/plain": [
              "<IPython.core.display.Javascript object>"
            ],
            "application/javascript": [
              "window[\"940a5f16-cede-11ec-b42c-0242ac1c0002\"] = google.colab.output.setActiveOutputArea(window[\"93ef1800-cede-11ec-b42c-0242ac1c0002\"]);\n",
              "//# sourceURL=js_5090fd07d8"
            ]
          },
          "metadata": {}
        },
        {
          "output_type": "display_data",
          "data": {
            "text/plain": [
              "<IPython.core.display.Javascript object>"
            ],
            "application/javascript": [
              "window[\"94a53eb4-cede-11ec-b42c-0242ac1c0002\"] = google.colab.output.getActiveOutputArea();\n",
              "//# sourceURL=js_22fc3d3f1e"
            ]
          },
          "metadata": {}
        },
        {
          "output_type": "display_data",
          "data": {
            "text/plain": [
              "<IPython.core.display.Javascript object>"
            ],
            "application/javascript": [
              "window[\"94a59d1e-cede-11ec-b42c-0242ac1c0002\"] = document.querySelector(\"#id2-0-0\");\n",
              "//# sourceURL=js_57cad35a24"
            ]
          },
          "metadata": {}
        },
        {
          "output_type": "display_data",
          "data": {
            "text/plain": [
              "<IPython.core.display.Javascript object>"
            ],
            "application/javascript": [
              "window[\"94a5f9b2-cede-11ec-b42c-0242ac1c0002\"] = google.colab.output.setActiveOutputArea(window[\"94a59d1e-cede-11ec-b42c-0242ac1c0002\"]);\n",
              "//# sourceURL=js_4e1c5ed7b0"
            ]
          },
          "metadata": {}
        },
        {
          "output_type": "display_data",
          "data": {
            "text/plain": [
              "<Figure size 432x288 with 1 Axes>"
            ],
            "image/png": "[encoded data removed]"
          },
          "metadata": {
            "needs_background": "light"
          }
        },
        {
          "output_type": "display_data",
          "data": {
            "text/plain": [
              "<IPython.core.display.Javascript object>"
            ],
            "application/javascript": [
              "window[\"94c1725a-cede-11ec-b42c-0242ac1c0002\"] = google.colab.output.setActiveOutputArea(window[\"94a53eb4-cede-11ec-b42c-0242ac1c0002\"]);\n",
              "//# sourceURL=js_d1fec3a741"
            ]
          },
          "metadata": {}
        },
        {
          "output_type": "display_data",
          "data": {
            "text/plain": [
              "<Figure size 432x288 with 1 Axes>"
            ],
            "image/png": "[encoded data removed]"
          },
          "metadata": {
            "needs_background": "light"
          }
        }
      ],
      "source": [
        "#DQN-Learning: Applied to Deterministic Grid Environment\n",
        "\n",
        "#Initialize Environment\n",
        "env = MAGridWorld(config['GRID_SIZE'], config['N_AGENTS'])\n",
        "numAgents = config['N_AGENTS']\n",
        "\n",
        "#Create list for total rewards\n",
        "totalRewards = []\n",
        "\n",
        "#Initialize Networks\n",
        "Qs = [Net() for i in range(numAgents)]\n",
        "Q_Targets = [copy.deepcopy(Q) for Q in Qs]\n",
        "copyInterval = 500\n",
        "step = 0\n",
        "\n",
        "#Define the loss function\n",
        "criterion = nn.MSELoss()\n",
        "optimizers = [optim.Adam(Q.parameters(), lr=0.0001) for Q in Qs]\n",
        "\n",
        "#Define Discount Factor (gamma)\n",
        "gamma = 0.9\n",
        "\n",
        "#Initialize Greedy Epsilon Agent for Q\n",
        "epsilon = 1\n",
        "endEpsilon = 0.01\n",
        "agents = [GreedyEpsAgent(epsilon, Q, env.action_space) for Q in Qs]\n",
        "\n",
        "#Define Experience Replay list, its max size, and the mini batch size\n",
        "replays = [[] for i in range(numAgents)]\n",
        "maxReplay = 50\n",
        "miniBatchSize = 5\n",
        "\n",
        "#Our initial policy can be an even distribution\n",
        "numEpisodes = 1000\n",
        "episode = 0\n",
        "\n",
        "#Loop through episodes, training agent using Q-Learning\n",
        "while(episode < numEpisodes):\n",
        "  s = env.reset()\n",
        "  done = env.done\n",
        "\n",
        "  rTracker = 0\n",
        "  while not allDone(done):\n",
        "    step += 1\n",
        "\n",
        "    #Take action based on greatest Q-Value from Q for state s\n",
        "    a = [agent.get_action(torch.tensor([[si]]).float()) for agent, si in zip(agents, s)]\n",
        "    sP, r, done, info = env.step(a)\n",
        "\n",
        "    #Zero out gradient and take random minibatch\n",
        "    for optimizer in optimizers:\n",
        "      optimizer.zero_grad()\n",
        "    \n",
        "    for i in range(numAgents):\n",
        "      minibatch = random.sample(replays[i], min(len(replays[i]), miniBatchSize))\n",
        "      if len(minibatch) > 3:\n",
        "        #Break up minibatch into the different columns of values\n",
        "        columns = list(zip(*minibatch))\n",
        "        states = torch.reshape(torch.tensor(columns[0]).float(),[len(minibatch),2])\n",
        "        actions = torch.tensor(columns[1])\n",
        "        rewards = torch.tensor(columns[2])\n",
        "        newStates = torch.reshape(torch.tensor(columns[3]).float(),[len(minibatch), 2])\n",
        "\n",
        "        #Select Q and Q_Target\n",
        "        Q = Qs[i]\n",
        "        Q_Target = Q_Targets[i]\n",
        "\n",
        "        #Get targets and outputs\n",
        "        targets = (gamma*torch.max(Q_Target(newStates), 1)[0]) + rewards\n",
        "        outputs = torch.reshape(torch.gather(Q(states), 1, actions), [len(minibatch)])\n",
        "\n",
        "        #Calculate loss and gradients\n",
        "        loss = criterion(outputs, targets)\n",
        "        loss.backward()\n",
        "\n",
        "        optimizers[i].step()\n",
        "\n",
        "    #Take a step using SGD\n",
        "    optimizer.step()\n",
        "\n",
        "    #Storing in replay\n",
        "    for i,replay in enumerate(replays):\n",
        "      if len(replay) >= maxReplay:\n",
        "        replay.append([s[i],[a[i]],r[i],sP[i],done[i]])\n",
        "        replay.pop(0)\n",
        "      else:\n",
        "        replay.append([s[i],[a[i]],r[i],sP[i],done[i]])\n",
        "\n",
        "    #Updating target Q if necessary\n",
        "    if step % copyInterval == 0:\n",
        "      Q_Targets = [copy.deepcopy(Q) for Q in Qs]\n",
        "\n",
        "    s = sP\n",
        "    rTracker += sum(r)\n",
        "  episode += 1\n",
        "  totalRewards.append(rTracker)\n",
        "  #cumRewards.append(cumRewards[episode-1] + rTracker)\n",
        "  for agent in agents:\n",
        "      agent.update_eps((endEpsilon/epsilon)**(episode/numEpisodes))\n",
        "\n",
        "#policy = [int(agent.get_action(torch.tensor([[s]]).float())) for s in range(env.observation_space.n)]\n",
        "\n",
        "#Create and reset Deterministic Grid Environment\n",
        "env = MAGridWorld(config['GRID_SIZE'], config['N_AGENTS'])\n",
        "obs = env.reset()\n",
        "\n",
        "#Take random steps in environment until done\n",
        "done = env.done\n",
        "output_grid = widgets.Grid(2, 2)\n",
        "\n",
        "with output_grid.output_to(0, 0):\n",
        "  output_grid.clear_cell()\n",
        "  env.render()\n",
        "  time.sleep(1)\n",
        "\n",
        "while not allDone(done):\n",
        "  obs, reward, done, info = env.step([agent.get_action(torch.tensor([[si]]).float()) for agent, si in zip(agents, obs)])\n",
        "  with output_grid.output_to(0, 0):\n",
        "    output_grid.clear_cell()\n",
        "    env.render()\n",
        "  time.sleep(1)\n",
        "\n",
        "plt.plot([i for i in range(len(totalRewards))], totalRewards)\n",
        "plt.xlabel(\"Episode\")\n",
        "plt.ylabel(\"Total Reward\")\n",
        "#plt.plot([i for i in range(len(cumRewards))], cumRewards)\n",
        "plt.show()"
      ]
    },
    {
      "cell_type": "markdown",
      "metadata": {
        "id": "agqM_OAMHIsU"
      },
      "source": [
        "## DQN - Agents see each other"
      ]
    },
    {
      "cell_type": "markdown",
      "metadata": {
        "id": "JVjMoVF6MDDx"
      },
      "source": [
        "### NN Definition (Our Q-Approximation)"
      ]
    },
    {
      "cell_type": "code",
      "execution_count": 20,
      "metadata": {
        "id": "kbmzYnE3MDDy"
      },
      "outputs": [],
      "source": [
        "class NetFullView(nn.Module):\n",
        "    def __init__(self, nAgents):\n",
        "        super().__init__()\n",
        "        self.fc1 = nn.Linear(nAgents*2, 100)\n",
        "        self.fc2 = nn.Linear(100, 50)\n",
        "        self.fc3 = nn.Linear(50, 5)\n",
        "\n",
        "    def forward(self, x):\n",
        "        x = F.relu(self.fc1(x))\n",
        "        x = F.relu(self.fc2(x))\n",
        "        x = self.fc3(x)\n",
        "        return x\n"
      ]
    },
    {
      "cell_type": "markdown",
      "metadata": {
        "id": "qDaTeW3gMDxU"
      },
      "source": [
        "### Training"
      ]
    },
    {
      "cell_type": "code",
      "execution_count": 21,
      "metadata": {
        "id": "kFEfc3BkFtiE",
        "colab": {
          "base_uri": "https://localhost:8080/",
          "height": 536
        },
        "outputId": "9cdb1d07-5219-47af-93d7-6506045020d4"
      },
      "outputs": [
        {
          "output_type": "display_data",
          "data": {
            "text/plain": [
              "<IPython.core.display.HTML object>"
            ],
            "text/html": [
              "<style>\n",
              "       table#id6, #id6 > tbody > tr > th, #id6 > tbody > tr > td {\n",
              "         border: 1px solid lightgray;\n",
              "         border-collapse:collapse;\n",
              "         \n",
              "        }</style>"
            ]
          },
          "metadata": {}
        },
        {
          "output_type": "display_data",
          "data": {
            "text/plain": [
              "<IPython.core.display.HTML object>"
            ],
            "text/html": [
              "<table id=id6><tr><td id=id6-0-0></td><td id=id6-0-1></td></tr><tr><td id=id6-1-0></td><td id=id6-1-1></td></tr></table>"
            ]
          },
          "metadata": {}
        },
        {
          "output_type": "display_data",
          "data": {
            "text/plain": [
              "<IPython.core.display.Javascript object>"
            ],
            "application/javascript": [
              "window[\"60190da0-cf39-11ec-85fb-0242ac1c0002\"] = google.colab.output.getActiveOutputArea();\n",
              "//# sourceURL=js_d3841bdc67"
            ]
          },
          "metadata": {}
        },
        {
          "output_type": "display_data",
          "data": {
            "text/plain": [
              "<IPython.core.display.Javascript object>"
            ],
            "application/javascript": [
              "window[\"60198a64-cf39-11ec-85fb-0242ac1c0002\"] = document.querySelector(\"#id6-0-0\");\n",
              "//# sourceURL=js_f864b0dd94"
            ]
          },
          "metadata": {}
        },
        {
          "output_type": "display_data",
          "data": {
            "text/plain": [
              "<IPython.core.display.Javascript object>"
            ],
            "application/javascript": [
              "window[\"6019f8d2-cf39-11ec-85fb-0242ac1c0002\"] = google.colab.output.setActiveOutputArea(window[\"60198a64-cf39-11ec-85fb-0242ac1c0002\"]);\n",
              "//# sourceURL=js_2e304bf679"
            ]
          },
          "metadata": {}
        },
        {
          "output_type": "display_data",
          "data": {
            "text/plain": [
              "<IPython.core.display.Javascript object>"
            ],
            "application/javascript": [
              "window[\"60cba370-cf39-11ec-85fb-0242ac1c0002\"] = google.colab.output.setActiveOutputArea(window[\"60190da0-cf39-11ec-85fb-0242ac1c0002\"]);\n",
              "//# sourceURL=js_5105686200"
            ]
          },
          "metadata": {}
        },
        {
          "output_type": "display_data",
          "data": {
            "text/plain": [
              "<IPython.core.display.Javascript object>"
            ],
            "application/javascript": [
              "window[\"60ce6fd8-cf39-11ec-85fb-0242ac1c0002\"] = google.colab.output.getActiveOutputArea();\n",
              "//# sourceURL=js_e2c6dce672"
            ]
          },
          "metadata": {}
        },
        {
          "output_type": "display_data",
          "data": {
            "text/plain": [
              "<IPython.core.display.Javascript object>"
            ],
            "application/javascript": [
              "window[\"60ced77a-cf39-11ec-85fb-0242ac1c0002\"] = document.querySelector(\"#id6-0-0\");\n",
              "//# sourceURL=js_7017b2c2eb"
            ]
          },
          "metadata": {}
        },
        {
          "output_type": "display_data",
          "data": {
            "text/plain": [
              "<IPython.core.display.Javascript object>"
            ],
            "application/javascript": [
              "window[\"60cf4bc4-cf39-11ec-85fb-0242ac1c0002\"] = google.colab.output.setActiveOutputArea(window[\"60ced77a-cf39-11ec-85fb-0242ac1c0002\"]);\n",
              "//# sourceURL=js_31408161c9"
            ]
          },
          "metadata": {}
        },
        {
          "output_type": "display_data",
          "data": {
            "text/plain": [
              "<IPython.core.display.Javascript object>"
            ],
            "application/javascript": [
              "window[\"60e45a50-cf39-11ec-85fb-0242ac1c0002\"] = google.colab.output.setActiveOutputArea(window[\"60ce6fd8-cf39-11ec-85fb-0242ac1c0002\"]);\n",
              "//# sourceURL=js_ea18fab618"
            ]
          },
          "metadata": {}
        },
        {
          "output_type": "display_data",
          "data": {
            "text/plain": [
              "<IPython.core.display.Javascript object>"
            ],
            "application/javascript": [
              "window[\"617f63b0-cf39-11ec-85fb-0242ac1c0002\"] = google.colab.output.getActiveOutputArea();\n",
              "//# sourceURL=js_6e599f5841"
            ]
          },
          "metadata": {}
        },
        {
          "output_type": "display_data",
          "data": {
            "text/plain": [
              "<IPython.core.display.Javascript object>"
            ],
            "application/javascript": [
              "window[\"617ff7d0-cf39-11ec-85fb-0242ac1c0002\"] = document.querySelector(\"#id6-0-0\");\n",
              "//# sourceURL=js_f87eaa6c28"
            ]
          },
          "metadata": {}
        },
        {
          "output_type": "display_data",
          "data": {
            "text/plain": [
              "<IPython.core.display.Javascript object>"
            ],
            "application/javascript": [
              "window[\"61808844-cf39-11ec-85fb-0242ac1c0002\"] = google.colab.output.setActiveOutputArea(window[\"617ff7d0-cf39-11ec-85fb-0242ac1c0002\"]);\n",
              "//# sourceURL=js_3d54e5ac49"
            ]
          },
          "metadata": {}
        },
        {
          "output_type": "display_data",
          "data": {
            "text/plain": [
              "<IPython.core.display.Javascript object>"
            ],
            "application/javascript": [
              "window[\"619918fa-cf39-11ec-85fb-0242ac1c0002\"] = google.colab.output.setActiveOutputArea(window[\"617f63b0-cf39-11ec-85fb-0242ac1c0002\"]);\n",
              "//# sourceURL=js_a92e234a1f"
            ]
          },
          "metadata": {}
        },
        {
          "output_type": "display_data",
          "data": {
            "text/plain": [
              "<IPython.core.display.Javascript object>"
            ],
            "application/javascript": [
              "window[\"6235c6c8-cf39-11ec-85fb-0242ac1c0002\"] = google.colab.output.getActiveOutputArea();\n",
              "//# sourceURL=js_97a96200b4"
            ]
          },
          "metadata": {}
        },
        {
          "output_type": "display_data",
          "data": {
            "text/plain": [
              "<IPython.core.display.Javascript object>"
            ],
            "application/javascript": [
              "window[\"62362046-cf39-11ec-85fb-0242ac1c0002\"] = document.querySelector(\"#id6-0-0\");\n",
              "//# sourceURL=js_7a1d136fe8"
            ]
          },
          "metadata": {}
        },
        {
          "output_type": "display_data",
          "data": {
            "text/plain": [
              "<IPython.core.display.Javascript object>"
            ],
            "application/javascript": [
              "window[\"62367fc8-cf39-11ec-85fb-0242ac1c0002\"] = google.colab.output.setActiveOutputArea(window[\"62362046-cf39-11ec-85fb-0242ac1c0002\"]);\n",
              "//# sourceURL=js_7b726b7572"
            ]
          },
          "metadata": {}
        },
        {
          "output_type": "display_data",
          "data": {
            "text/plain": [
              "<IPython.core.display.Javascript object>"
            ],
            "application/javascript": [
              "window[\"624d037e-cf39-11ec-85fb-0242ac1c0002\"] = google.colab.output.setActiveOutputArea(window[\"6235c6c8-cf39-11ec-85fb-0242ac1c0002\"]);\n",
              "//# sourceURL=js_3d904f1ba7"
            ]
          },
          "metadata": {}
        },
        {
          "output_type": "display_data",
          "data": {
            "text/plain": [
              "<IPython.core.display.Javascript object>"
            ],
            "application/javascript": [
              "window[\"62e812e2-cf39-11ec-85fb-0242ac1c0002\"] = google.colab.output.getActiveOutputArea();\n",
              "//# sourceURL=js_ee4ea2f804"
            ]
          },
          "metadata": {}
        },
        {
          "output_type": "display_data",
          "data": {
            "text/plain": [
              "<IPython.core.display.Javascript object>"
            ],
            "application/javascript": [
              "window[\"62e879f8-cf39-11ec-85fb-0242ac1c0002\"] = document.querySelector(\"#id6-0-0\");\n",
              "//# sourceURL=js_0b70319d8b"
            ]
          },
          "metadata": {}
        },
        {
          "output_type": "display_data",
          "data": {
            "text/plain": [
              "<IPython.core.display.Javascript object>"
            ],
            "application/javascript": [
              "window[\"62e94734-cf39-11ec-85fb-0242ac1c0002\"] = google.colab.output.setActiveOutputArea(window[\"62e879f8-cf39-11ec-85fb-0242ac1c0002\"]);\n",
              "//# sourceURL=js_c80cc645b9"
            ]
          },
          "metadata": {}
        },
        {
          "output_type": "display_data",
          "data": {
            "text/plain": [
              "<IPython.core.display.Javascript object>"
            ],
            "application/javascript": [
              "window[\"63011b0c-cf39-11ec-85fb-0242ac1c0002\"] = google.colab.output.setActiveOutputArea(window[\"62e812e2-cf39-11ec-85fb-0242ac1c0002\"]);\n",
              "//# sourceURL=js_0d3bc00aa7"
            ]
          },
          "metadata": {}
        },
        {
          "output_type": "display_data",
          "data": {
            "text/plain": [
              "<IPython.core.display.Javascript object>"
            ],
            "application/javascript": [
              "window[\"639e1d4e-cf39-11ec-85fb-0242ac1c0002\"] = google.colab.output.getActiveOutputArea();\n",
              "//# sourceURL=js_a0507a2c2f"
            ]
          },
          "metadata": {}
        },
        {
          "output_type": "display_data",
          "data": {
            "text/plain": [
              "<IPython.core.display.Javascript object>"
            ],
            "application/javascript": [
              "window[\"639e6b1e-cf39-11ec-85fb-0242ac1c0002\"] = document.querySelector(\"#id6-0-0\");\n",
              "//# sourceURL=js_75b0d7e0ab"
            ]
          },
          "metadata": {}
        },
        {
          "output_type": "display_data",
          "data": {
            "text/plain": [
              "<IPython.core.display.Javascript object>"
            ],
            "application/javascript": [
              "window[\"639eba42-cf39-11ec-85fb-0242ac1c0002\"] = google.colab.output.setActiveOutputArea(window[\"639e6b1e-cf39-11ec-85fb-0242ac1c0002\"]);\n",
              "//# sourceURL=js_e2b7f3553a"
            ]
          },
          "metadata": {}
        },
        {
          "output_type": "display_data",
          "data": {
            "text/plain": [
              "<IPython.core.display.Javascript object>"
            ],
            "application/javascript": [
              "window[\"63b7cce4-cf39-11ec-85fb-0242ac1c0002\"] = google.colab.output.setActiveOutputArea(window[\"639e1d4e-cf39-11ec-85fb-0242ac1c0002\"]);\n",
              "//# sourceURL=js_94288044bb"
            ]
          },
          "metadata": {}
        },
        {
          "output_type": "display_data",
          "data": {
            "text/plain": [
              "<IPython.core.display.Javascript object>"
            ],
            "application/javascript": [
              "window[\"6454a528-cf39-11ec-85fb-0242ac1c0002\"] = google.colab.output.getActiveOutputArea();\n",
              "//# sourceURL=js_3aa7c2ac89"
            ]
          },
          "metadata": {}
        },
        {
          "output_type": "display_data",
          "data": {
            "text/plain": [
              "<IPython.core.display.Javascript object>"
            ],
            "application/javascript": [
              "window[\"64552d7c-cf39-11ec-85fb-0242ac1c0002\"] = document.querySelector(\"#id6-0-0\");\n",
              "//# sourceURL=js_b7160821e2"
            ]
          },
          "metadata": {}
        },
        {
          "output_type": "display_data",
          "data": {
            "text/plain": [
              "<IPython.core.display.Javascript object>"
            ],
            "application/javascript": [
              "window[\"6455dee8-cf39-11ec-85fb-0242ac1c0002\"] = google.colab.output.setActiveOutputArea(window[\"64552d7c-cf39-11ec-85fb-0242ac1c0002\"]);\n",
              "//# sourceURL=js_032e3c135e"
            ]
          },
          "metadata": {}
        },
        {
          "output_type": "display_data",
          "data": {
            "text/plain": [
              "<IPython.core.display.Javascript object>"
            ],
            "application/javascript": [
              "window[\"646ed722-cf39-11ec-85fb-0242ac1c0002\"] = google.colab.output.setActiveOutputArea(window[\"6454a528-cf39-11ec-85fb-0242ac1c0002\"]);\n",
              "//# sourceURL=js_8ea4b1c1e1"
            ]
          },
          "metadata": {}
        },
        {
          "output_type": "display_data",
          "data": {
            "text/plain": [
              "<IPython.core.display.Javascript object>"
            ],
            "application/javascript": [
              "window[\"650ba12e-cf39-11ec-85fb-0242ac1c0002\"] = google.colab.output.getActiveOutputArea();\n",
              "//# sourceURL=js_1cfeda4676"
            ]
          },
          "metadata": {}
        },
        {
          "output_type": "display_data",
          "data": {
            "text/plain": [
              "<IPython.core.display.Javascript object>"
            ],
            "application/javascript": [
              "window[\"650c1fd2-cf39-11ec-85fb-0242ac1c0002\"] = document.querySelector(\"#id6-0-0\");\n",
              "//# sourceURL=js_f7854d33ac"
            ]
          },
          "metadata": {}
        },
        {
          "output_type": "display_data",
          "data": {
            "text/plain": [
              "<IPython.core.display.Javascript object>"
            ],
            "application/javascript": [
              "window[\"650cb8d4-cf39-11ec-85fb-0242ac1c0002\"] = google.colab.output.setActiveOutputArea(window[\"650c1fd2-cf39-11ec-85fb-0242ac1c0002\"]);\n",
              "//# sourceURL=js_5644bd25fd"
            ]
          },
          "metadata": {}
        },
        {
          "output_type": "display_data",
          "data": {
            "text/plain": [
              "<IPython.core.display.Javascript object>"
            ],
            "application/javascript": [
              "window[\"6524ac3c-cf39-11ec-85fb-0242ac1c0002\"] = google.colab.output.setActiveOutputArea(window[\"650ba12e-cf39-11ec-85fb-0242ac1c0002\"]);\n",
              "//# sourceURL=js_fd0cb88929"
            ]
          },
          "metadata": {}
        },
        {
          "output_type": "display_data",
          "data": {
            "text/plain": [
              "<IPython.core.display.Javascript object>"
            ],
            "application/javascript": [
              "window[\"65c10528-cf39-11ec-85fb-0242ac1c0002\"] = google.colab.output.getActiveOutputArea();\n",
              "//# sourceURL=js_aa11ac04d3"
            ]
          },
          "metadata": {}
        },
        {
          "output_type": "display_data",
          "data": {
            "text/plain": [
              "<IPython.core.display.Javascript object>"
            ],
            "application/javascript": [
              "window[\"65c16950-cf39-11ec-85fb-0242ac1c0002\"] = document.querySelector(\"#id6-0-0\");\n",
              "//# sourceURL=js_41925ce770"
            ]
          },
          "metadata": {}
        },
        {
          "output_type": "display_data",
          "data": {
            "text/plain": [
              "<IPython.core.display.Javascript object>"
            ],
            "application/javascript": [
              "window[\"65c2737c-cf39-11ec-85fb-0242ac1c0002\"] = google.colab.output.setActiveOutputArea(window[\"65c16950-cf39-11ec-85fb-0242ac1c0002\"]);\n",
              "//# sourceURL=js_2e405a0a35"
            ]
          },
          "metadata": {}
        },
        {
          "output_type": "display_data",
          "data": {
            "text/plain": [
              "<IPython.core.display.Javascript object>"
            ],
            "application/javascript": [
              "window[\"65d9d3be-cf39-11ec-85fb-0242ac1c0002\"] = google.colab.output.setActiveOutputArea(window[\"65c10528-cf39-11ec-85fb-0242ac1c0002\"]);\n",
              "//# sourceURL=js_47801d9af9"
            ]
          },
          "metadata": {}
        },
        {
          "output_type": "display_data",
          "data": {
            "text/plain": [
              "<IPython.core.display.Javascript object>"
            ],
            "application/javascript": [
              "window[\"66755e1a-cf39-11ec-85fb-0242ac1c0002\"] = google.colab.output.getActiveOutputArea();\n",
              "//# sourceURL=js_a3ca492fff"
            ]
          },
          "metadata": {}
        },
        {
          "output_type": "display_data",
          "data": {
            "text/plain": [
              "<IPython.core.display.Javascript object>"
            ],
            "application/javascript": [
              "window[\"6675da52-cf39-11ec-85fb-0242ac1c0002\"] = document.querySelector(\"#id6-0-0\");\n",
              "//# sourceURL=js_62b4f2b1dc"
            ]
          },
          "metadata": {}
        },
        {
          "output_type": "display_data",
          "data": {
            "text/plain": [
              "<IPython.core.display.Javascript object>"
            ],
            "application/javascript": [
              "window[\"6676483e-cf39-11ec-85fb-0242ac1c0002\"] = google.colab.output.setActiveOutputArea(window[\"6675da52-cf39-11ec-85fb-0242ac1c0002\"]);\n",
              "//# sourceURL=js_47864e875c"
            ]
          },
          "metadata": {}
        },
        {
          "output_type": "display_data",
          "data": {
            "text/plain": [
              "<Figure size 432x288 with 1 Axes>"
            ],
            "image/png": "[encoded data removed]"
          },
          "metadata": {
            "needs_background": "light"
          }
        },
        {
          "output_type": "display_data",
          "data": {
            "text/plain": [
              "<IPython.core.display.Javascript object>"
            ],
            "application/javascript": [
              "window[\"668c4008-cf39-11ec-85fb-0242ac1c0002\"] = google.colab.output.setActiveOutputArea(window[\"66755e1a-cf39-11ec-85fb-0242ac1c0002\"]);\n",
              "//# sourceURL=js_1e67b4f908"
            ]
          },
          "metadata": {}
        },
        {
          "output_type": "display_data",
          "data": {
            "text/plain": [
              "<Figure size 432x288 with 1 Axes>"
            ],
            "image/png": "[encoded data removed]"
          },
          "metadata": {
            "needs_background": "light"
          }
        }
      ],
      "source": [
        "#DQN-Learning: Applied to Deterministic Grid Environment\n",
        "\n",
        "#Initialize Environment\n",
        "env = MAGridWorld(config['GRID_SIZE'], config['N_AGENTS'])\n",
        "numAgents = config['N_AGENTS']\n",
        "\n",
        "#Create list for total rewards\n",
        "totalRewards = []\n",
        "\n",
        "#Initialize Networks\n",
        "Qs = [NetFullView(numAgents) for i in range(numAgents)]\n",
        "Q_Targets = [copy.deepcopy(Q) for Q in Qs]\n",
        "copyInterval = 500\n",
        "step = 0\n",
        "\n",
        "#Define the loss function\n",
        "criterion = nn.MSELoss()\n",
        "optimizers = [optim.SGD(Q.parameters(), lr=0.0001, momentum=0.9) for Q in Qs]\n",
        "\n",
        "#Define Discount Factor (gamma)\n",
        "gamma = 0.9\n",
        "\n",
        "#Initialize Greedy Epsilon Agent for Q\n",
        "epsilon = 1\n",
        "endEpsilon = 0.01\n",
        "agents = [GreedyEpsAgent(epsilon, Q, env.action_space) for Q in Qs]\n",
        "\n",
        "#Define Experience Replay list, its max size, and the mini batch size\n",
        "replays = [[] for i in range(numAgents)]\n",
        "maxReplay = 100\n",
        "miniBatchSize = 10\n",
        "\n",
        "#Our initial policy can be an even distribution\n",
        "numEpisodes = 1000\n",
        "episode = 0\n",
        "\n",
        "#Loop through episodes, training agent using Q-Learning\n",
        "while(episode < numEpisodes):\n",
        "  s = env.reset()\n",
        "  s = [element for sublist in s for element in sublist]\n",
        "  done = env.done\n",
        "\n",
        "  rTracker = 0\n",
        "  while not allDone(done):\n",
        "    step += 1\n",
        "\n",
        "    #Take action based on greatest Q-Value from Q for state s\n",
        "    a = [agent.get_action(torch.tensor([[s]]).float()) for agent in agents]\n",
        "    sP, r, done, info = env.step(a)\n",
        "    sP = [element for sublist in sP for element in sublist]\n",
        "\n",
        "    #Zero out gradient and take random minibatch\n",
        "    for optimizer in optimizers:\n",
        "      optimizer.zero_grad()\n",
        "    \n",
        "    for i in range(numAgents):\n",
        "      minibatch = random.sample(replays[i], min(len(replays[i]), miniBatchSize))\n",
        "      if len(minibatch) > 3:\n",
        "        #Break up minibatch into the different columns of values\n",
        "        columns = list(zip(*minibatch))\n",
        "        states = torch.reshape(torch.tensor(columns[0]).float(),[len(minibatch),2*numAgents])\n",
        "        actions = torch.tensor(columns[1])\n",
        "        rewards = torch.tensor(columns[2])\n",
        "        newStates = torch.reshape(torch.tensor(columns[3]).float(),[len(minibatch), 2*numAgents])\n",
        "\n",
        "        #Select Q and Q_Target\n",
        "        Q = Qs[i]\n",
        "        Q_Target = Q_Targets[i]\n",
        "\n",
        "        #Get targets and outputs\n",
        "        targets = (gamma*torch.max(Q_Target(newStates), 1)[0]) + rewards\n",
        "        outputs = torch.reshape(torch.gather(Q(states), 1, actions), [len(minibatch)])\n",
        "\n",
        "        #Calculate loss and gradients\n",
        "        loss = criterion(outputs, targets)\n",
        "        #loss = torch.mean(outputs - targets)\n",
        "        loss.backward()\n",
        "\n",
        "        optimizers[i].step()\n",
        "\n",
        "    #Take a step using SGD\n",
        "    #for optimizer in optimizers:\n",
        "    #  optimizer.step()\n",
        "\n",
        "    #Storing in replay\n",
        "    for i,replay in enumerate(replays):\n",
        "      if len(replay) >= maxReplay:\n",
        "        replay.append([s,[a[i]],r[i],sP,done[i]])\n",
        "        replay.pop(0)\n",
        "      else:\n",
        "        replay.append([s,[a[i]],r[i],sP,done[i]])\n",
        "\n",
        "    #Updating target Q if necessary\n",
        "    if step % copyInterval == 0:\n",
        "      Q_Targets = [copy.deepcopy(Q) for Q in Qs]\n",
        "\n",
        "    s = sP\n",
        "    rTracker += sum(r)\n",
        "  episode += 1\n",
        "  totalRewards.append(rTracker)\n",
        "  #cumRewards.append(cumRewards[episode-1] + rTracker)\n",
        "  for agent in agents:\n",
        "      agent.update_eps((endEpsilon/epsilon)**(episode/numEpisodes))\n",
        "\n",
        "#policy = [int(agent.get_action(torch.tensor([[s]]).float())) for s in range(env.observation_space.n)]\n",
        "\n",
        "#Create and reset Deterministic Grid Environment\n",
        "env = MAGridWorld(config['GRID_SIZE'], config['N_AGENTS'])\n",
        "obs = env.reset()\n",
        "obs = [element for sublist in obs for element in sublist]\n",
        "\n",
        "#Take random steps in environment until done\n",
        "done = env.done\n",
        "output_grid = widgets.Grid(2, 2)\n",
        "\n",
        "with output_grid.output_to(0, 0):\n",
        "  output_grid.clear_cell()\n",
        "  env.render()\n",
        "  time.sleep(1)\n",
        "\n",
        "while not allDone(done):\n",
        "  obs, reward, done, info = env.step([agent.get_action(torch.tensor([[obs]]).float()) for agent in agents])\n",
        "  obs = [element for sublist in obs for element in sublist]\n",
        "  with output_grid.output_to(0, 0):\n",
        "    output_grid.clear_cell()\n",
        "    env.render()\n",
        "  time.sleep(1)\n",
        "\n",
        "plt.plot([i for i in range(len(totalRewards))], totalRewards)\n",
        "plt.xlabel(\"Episode\")\n",
        "plt.ylabel(\"Total Reward\")\n",
        "#plt.plot([i for i in range(len(cumRewards))], cumRewards)\n",
        "plt.show()"
      ]
    },
    {
      "cell_type": "markdown",
      "metadata": {
        "id": "q3hJan6fdx_N"
      },
      "source": [
        "# DQN - MA_GYM ENVs 🌎"
      ]
    },
    {
      "cell_type": "markdown",
      "metadata": {
        "id": "WkX6wEdIRaml"
      },
      "source": [
        "## Greedy Eps Agent"
      ]
    },
    {
      "cell_type": "code",
      "execution_count": null,
      "metadata": {
        "id": "llm6co-1hSIR"
      },
      "outputs": [],
      "source": [
        "#Agent that uses the greedy epsilon approach\n",
        "class GreedyEpsAgent2():\n",
        "\n",
        "  def __init__(self, eps, Q, action_space):\n",
        "    self.eps = eps\n",
        "    self.Q = Q\n",
        "    self.action_space = action_space\n",
        "\n",
        "  def get_action(self, state):\n",
        "    eps_val = np.random.uniform(0, 1)\n",
        "\n",
        "    if eps_val < self.eps:\n",
        "      return self.action_space.sample()[0]\n",
        "    else:\n",
        "      return int(torch.argmax(self.Q(state)))\n",
        "        \n",
        "\n",
        "  def update_eps(self, eps):\n",
        "    self.eps = eps\n",
        "\n",
        "  def __str__(self):\n",
        "    return f'This agent works in an environment with {len(self.Q)} states and {self.action_space.n} possible actions'"
      ]
    },
    {
      "cell_type": "markdown",
      "metadata": {
        "id": "t2elR3NvByPT"
      },
      "source": [
        "## Switch 2 🎮 🎮"
      ]
    },
    {
      "cell_type": "markdown",
      "metadata": {
        "id": "K_vbKS5DMuip"
      },
      "source": [
        "### NN Definition (Our Q-Approximation)"
      ]
    },
    {
      "cell_type": "code",
      "execution_count": null,
      "metadata": {
        "id": "JUDMrY5zL4_m"
      },
      "outputs": [],
      "source": [
        "class Switch2Net(nn.Module):\n",
        "    def __init__(self, nAgents):\n",
        "        super().__init__()\n",
        "        self.fc1 = nn.Linear(nAgents*2, 100)\n",
        "        self.fc2 = nn.Linear(100, 50)\n",
        "        self.fc3 = nn.Linear(50, 5)\n",
        "\n",
        "    def forward(self, x):\n",
        "        x = F.relu(self.fc1(x))\n",
        "        x = F.relu(self.fc2(x))\n",
        "        x = self.fc3(x)\n",
        "        return x\n"
      ]
    },
    {
      "cell_type": "markdown",
      "metadata": {
        "id": "u9fznWLnMqOx"
      },
      "source": [
        "### Training"
      ]
    },
    {
      "cell_type": "code",
      "execution_count": null,
      "metadata": {
        "colab": {
          "base_uri": "https://localhost:8080/",
          "height": 1000
        },
        "id": "N3klnULxB05s",
        "outputId": "c48c742c-07f1-4288-ca5e-cc716fde89d4"
      },
      "outputs": [
        {
          "output_type": "stream",
          "name": "stderr",
          "text": [
            "/usr/local/lib/python3.7/dist-packages/gym/logger.py:34: UserWarning: \u001b[33mWARN: Box bound precision lowered by casting to float32\u001b[0m\n",
            "  warnings.warn(colorize(\"%s: %s\" % (\"WARN\", msg % args), \"yellow\"))\n"
          ]
        },
        {
          "output_type": "stream",
          "name": "stdout",
          "text": [
            "1 :  -9.999999999999996\n",
            "2 :  -3.7000000000000046\n",
            "3 :  -9.999999999999996\n",
            "4 :  -9.999999999999996\n",
            "5 :  -9.999999999999996\n",
            "6 :  -9.999999999999996\n",
            "7 :  -9.999999999999996\n",
            "8 :  -9.999999999999996\n",
            "9 :  -9.999999999999996\n",
            "10 :  -9.999999999999996\n",
            "11 :  -9.999999999999996\n",
            "12 :  -9.999999999999996\n",
            "13 :  -2.300000000000002\n",
            "14 :  -3.7000000000000046\n",
            "15 :  -9.999999999999996\n",
            "16 :  -9.999999999999996\n",
            "17 :  -9.999999999999996\n",
            "18 :  -9.999999999999996\n",
            "19 :  -9.999999999999996\n",
            "20 :  -9.999999999999996\n",
            "21 :  -9.999999999999996\n",
            "22 :  -9.999999999999996\n",
            "23 :  -9.999999999999996\n",
            "24 :  -3.200000000000004\n",
            "25 :  -9.999999999999996\n",
            "26 :  -9.999999999999996\n",
            "27 :  -3.6000000000000045\n",
            "28 :  -2.5000000000000027\n",
            "29 :  -9.999999999999996\n",
            "30 :  -9.999999999999996\n",
            "31 :  -9.999999999999996\n",
            "32 :  -9.999999999999996\n",
            "33 :  -9.999999999999996\n",
            "34 :  -9.999999999999996\n",
            "35 :  -4.200000000000001\n",
            "36 :  -9.999999999999996\n",
            "37 :  -1.8000000000000014\n",
            "38 :  -9.999999999999996\n",
            "39 :  -3.8000000000000047\n",
            "40 :  -9.999999999999996\n",
            "41 :  -3.000000000000004\n",
            "42 :  -9.999999999999996\n",
            "43 :  -3.8000000000000047\n",
            "44 :  -4.899999999999997\n",
            "45 :  -9.999999999999996\n",
            "46 :  -9.999999999999996\n",
            "47 :  -9.999999999999996\n",
            "48 :  -9.999999999999996\n",
            "49 :  -9.999999999999996\n",
            "50 :  -9.999999999999996\n",
            "51 :  -2.200000000000002\n",
            "52 :  -9.999999999999996\n",
            "53 :  -9.999999999999996\n",
            "54 :  -9.999999999999996\n",
            "55 :  -9.999999999999996\n",
            "56 :  -2.400000000000002\n",
            "57 :  -9.999999999999996\n",
            "58 :  -4.599999999999998\n",
            "59 :  -4.6999999999999975\n",
            "60 :  -4.899999999999997\n",
            "61 :  -9.999999999999996\n",
            "62 :  -4.6999999999999975\n",
            "63 :  -2.900000000000004\n",
            "64 :  -9.999999999999996\n",
            "65 :  -4.499999999999998\n",
            "66 :  -9.999999999999996\n",
            "67 :  -4.100000000000002\n",
            "68 :  5.899999999999999\n",
            "69 :  -3.6000000000000045\n",
            "70 :  -4.100000000000002\n",
            "71 :  -3.8000000000000047\n",
            "72 :  -9.999999999999996\n",
            "73 :  -9.999999999999996\n",
            "74 :  -1.8000000000000014\n",
            "75 :  -1.400000000000001\n",
            "76 :  -9.999999999999996\n",
            "77 :  -2.6000000000000028\n",
            "78 :  -3.8000000000000047\n",
            "79 :  -9.999999999999996\n",
            "80 :  4.299999999999999\n",
            "81 :  3.999999999999999\n",
            "82 :  -9.999999999999996\n",
            "83 :  -9.999999999999996\n",
            "84 :  -9.999999999999996\n",
            "85 :  -9.999999999999996\n",
            "86 :  -9.999999999999996\n",
            "87 :  -9.999999999999996\n",
            "88 :  -3.5000000000000044\n",
            "89 :  -1.300000000000001\n",
            "90 :  -1.1000000000000008\n",
            "91 :  -9.999999999999996\n",
            "92 :  -9.999999999999996\n",
            "93 :  -9.999999999999996\n",
            "94 :  -9.999999999999996\n",
            "95 :  -9.999999999999996\n",
            "96 :  4.099999999999998\n",
            "97 :  -9.999999999999996\n",
            "98 :  -9.999999999999996\n",
            "99 :  -1.8000000000000014\n",
            "100 :  -9.999999999999996\n",
            "101 :  3.8999999999999995\n",
            "102 :  -2.8000000000000034\n",
            "103 :  -4.100000000000002\n",
            "104 :  3.2999999999999985\n",
            "105 :  -3.6000000000000045\n",
            "106 :  -9.999999999999996\n",
            "107 :  3.999999999999999\n",
            "108 :  -9.999999999999996\n",
            "109 :  -9.999999999999996\n",
            "110 :  -9.999999999999996\n",
            "111 :  -1.9000000000000015\n",
            "112 :  -3.8000000000000047\n",
            "113 :  -3.200000000000004\n",
            "114 :  4.799999999999999\n",
            "115 :  -9.999999999999996\n",
            "116 :  -9.999999999999996\n",
            "117 :  2.099999999999996\n",
            "118 :  -9.999999999999996\n",
            "119 :  -3.900000000000005\n",
            "120 :  -9.999999999999996\n",
            "121 :  6.3999999999999995\n",
            "122 :  -9.999999999999996\n",
            "123 :  -3.900000000000005\n",
            "124 :  4.599999999999999\n",
            "125 :  -4.399999999999999\n",
            "126 :  -4.6999999999999975\n",
            "127 :  -3.200000000000004\n",
            "128 :  -1.6000000000000012\n",
            "129 :  5.1\n",
            "130 :  -3.3000000000000043\n",
            "131 :  1.899999999999996\n",
            "132 :  -9.999999999999996\n",
            "133 :  -3.8000000000000047\n",
            "134 :  -9.999999999999996\n",
            "135 :  3.7999999999999976\n",
            "136 :  -4.899999999999997\n",
            "137 :  -9.999999999999996\n",
            "138 :  -1.9000000000000015\n",
            "139 :  -2.400000000000002\n",
            "140 :  4.999999999999998\n",
            "141 :  -1.9000000000000015\n",
            "142 :  -1.000000000000001\n",
            "143 :  4.399999999999999\n",
            "144 :  -2.7000000000000033\n",
            "145 :  -3.100000000000004\n",
            "146 :  3.499999999999999\n",
            "147 :  -1.400000000000001\n",
            "148 :  -2.7000000000000033\n",
            "149 :  -9.999999999999996\n",
            "150 :  3.1999999999999984\n",
            "151 :  3.5999999999999974\n",
            "152 :  -3.7000000000000046\n",
            "153 :  -3.6000000000000045\n",
            "154 :  -9.999999999999996\n",
            "155 :  -3.3000000000000043\n",
            "156 :  4.6\n",
            "157 :  -3.100000000000004\n",
            "158 :  2.399999999999997\n",
            "159 :  3.699999999999999\n",
            "160 :  -9.999999999999996\n",
            "161 :  5.799999999999999\n",
            "162 :  -3.4000000000000044\n",
            "163 :  -3.200000000000004\n",
            "164 :  4.799999999999999\n",
            "165 :  -3.900000000000005\n",
            "166 :  4.3999999999999995\n",
            "167 :  -2.5000000000000027\n",
            "168 :  -9.999999999999996\n",
            "169 :  5.499999999999999\n",
            "170 :  -2.8000000000000034\n",
            "171 :  -4.399999999999999\n",
            "172 :  -4.0000000000000036\n",
            "173 :  1.3999999999999955\n",
            "174 :  -2.200000000000002\n",
            "175 :  -4.599999999999998\n",
            "176 :  -4.0000000000000036\n",
            "177 :  -1.6000000000000012\n",
            "178 :  1.7999999999999972\n",
            "179 :  5.999999999999999\n",
            "180 :  3.9999999999999996\n",
            "181 :  4.3999999999999995\n",
            "182 :  -9.999999999999996\n",
            "183 :  0.7999999999999998\n",
            "184 :  3.3999999999999977\n",
            "185 :  4.699999999999999\n",
            "186 :  5.999999999999999\n",
            "187 :  -1.8000000000000014\n",
            "188 :  6.1\n",
            "189 :  -9.999999999999996\n",
            "190 :  -9.999999999999996\n",
            "191 :  -1.500000000000001\n",
            "192 :  5.1\n",
            "193 :  5.199999999999999\n",
            "194 :  4.199999999999999\n",
            "195 :  1.899999999999996\n",
            "196 :  2.3999999999999964\n",
            "197 :  -3.200000000000004\n",
            "198 :  3.5999999999999988\n",
            "199 :  4.3\n",
            "200 :  6.3999999999999995\n",
            "201 :  -2.8000000000000034\n",
            "202 :  -1.7000000000000013\n",
            "203 :  5.199999999999999\n",
            "204 :  -4.200000000000001\n",
            "205 :  -4.6999999999999975\n",
            "206 :  5.199999999999999\n",
            "207 :  7.5\n",
            "208 :  3.2999999999999985\n",
            "209 :  -3.200000000000004\n",
            "210 :  3.799999999999999\n",
            "211 :  -9.999999999999996\n",
            "212 :  -1.1000000000000008\n",
            "213 :  5.899999999999998\n",
            "214 :  -3.000000000000004\n",
            "215 :  6.699999999999999\n",
            "216 :  -4.100000000000002\n",
            "217 :  5.1\n",
            "218 :  3.3999999999999972\n",
            "219 :  5.8999999999999995\n",
            "220 :  -4.200000000000001\n",
            "221 :  -9.999999999999996\n",
            "222 :  -1.300000000000001\n",
            "223 :  -2.7000000000000033\n",
            "224 :  -3.5000000000000044\n",
            "225 :  4.3999999999999995\n",
            "226 :  4.799999999999999\n",
            "227 :  1.099999999999997\n",
            "228 :  4.6\n",
            "229 :  -4.499999999999998\n",
            "230 :  4.899999999999999\n",
            "231 :  5.8999999999999995\n",
            "232 :  7.1\n",
            "233 :  5.799999999999999\n",
            "234 :  4.8999999999999995\n",
            "235 :  3.799999999999998\n",
            "236 :  6.199999999999999\n",
            "237 :  4.699999999999999\n",
            "238 :  6.799999999999999\n",
            "239 :  4.3999999999999995\n",
            "240 :  5.6\n",
            "241 :  3.5999999999999988\n",
            "242 :  4.5\n",
            "243 :  7.6\n",
            "244 :  5.299999999999999\n",
            "245 :  5.799999999999999\n",
            "246 :  5.099999999999999\n",
            "247 :  6.699999999999999\n",
            "248 :  -1.7000000000000013\n",
            "249 :  6.6\n",
            "250 :  6.1\n",
            "251 :  5.199999999999999\n",
            "252 :  3.899999999999998\n",
            "253 :  6.199999999999999\n",
            "254 :  5.6\n",
            "255 :  4.299999999999999\n",
            "256 :  -9.999999999999996\n",
            "257 :  3.599999999999999\n",
            "258 :  4.499999999999999\n",
            "259 :  6.399999999999999\n",
            "260 :  7.199999999999999\n",
            "261 :  5.3999999999999995\n",
            "262 :  7.199999999999999\n",
            "263 :  3.3999999999999986\n",
            "264 :  1.899999999999996\n",
            "265 :  5.1\n",
            "266 :  2.999999999999998\n",
            "267 :  4.999999999999999\n",
            "268 :  4.799999999999999\n",
            "269 :  4.499999999999999\n",
            "270 :  7.1\n",
            "271 :  4.8999999999999995\n",
            "272 :  6.8\n",
            "273 :  6.1\n",
            "274 :  -1.9000000000000015\n",
            "275 :  4.699999999999999\n",
            "276 :  -4.499999999999998\n",
            "277 :  5.1\n",
            "278 :  7.499999999999999\n",
            "279 :  5.299999999999999\n",
            "280 :  6.699999999999999\n",
            "281 :  3.3999999999999977\n",
            "282 :  4.299999999999999\n",
            "283 :  7.399999999999999\n",
            "284 :  5.3999999999999995\n",
            "285 :  -4.499999999999998\n",
            "286 :  2.899999999999997\n",
            "287 :  5.799999999999999\n",
            "288 :  8.0\n",
            "289 :  4.6\n",
            "290 :  6.1\n",
            "291 :  5.499999999999999\n",
            "292 :  3.499999999999998\n",
            "293 :  3.1999999999999984\n",
            "294 :  6.699999999999999\n",
            "295 :  7.2\n",
            "296 :  6.699999999999999\n",
            "297 :  6.199999999999999\n",
            "298 :  2.999999999999997\n",
            "299 :  5.999999999999999\n",
            "300 :  5.499999999999999\n",
            "301 :  -2.7000000000000033\n",
            "302 :  6.299999999999999\n",
            "303 :  5.199999999999999\n",
            "304 :  3.6999999999999993\n",
            "305 :  6.899999999999999\n",
            "306 :  7.1\n",
            "307 :  4.299999999999999\n",
            "308 :  5.699999999999999\n",
            "309 :  2.7999999999999976\n",
            "310 :  -3.200000000000004\n",
            "311 :  -3.8000000000000047\n",
            "312 :  -9.999999999999996\n",
            "313 :  3.8999999999999977\n",
            "314 :  5.1\n",
            "315 :  3.899999999999999\n",
            "316 :  7.199999999999999\n",
            "317 :  7.3\n",
            "318 :  2.899999999999997\n",
            "319 :  6.699999999999999\n",
            "320 :  5.199999999999999\n",
            "321 :  5.699999999999999\n",
            "322 :  5.499999999999999\n",
            "323 :  4.8\n",
            "324 :  5.999999999999999\n",
            "325 :  3.4999999999999973\n",
            "326 :  3.6999999999999975\n",
            "327 :  -4.499999999999998\n",
            "328 :  7.3\n",
            "329 :  4.499999999999999\n",
            "330 :  7.300000000000001\n",
            "331 :  6.1\n",
            "332 :  6.8999999999999995\n",
            "333 :  3.3999999999999986\n",
            "334 :  5.699999999999999\n",
            "335 :  5.6\n",
            "336 :  5.299999999999999\n",
            "337 :  4.3999999999999995\n",
            "338 :  7.3\n",
            "339 :  5.999999999999999\n",
            "340 :  4.699999999999999\n",
            "341 :  5.199999999999999\n",
            "342 :  7.5\n",
            "343 :  7.199999999999999\n",
            "344 :  5.999999999999999\n",
            "345 :  4.6\n",
            "346 :  4.8999999999999995\n",
            "347 :  6.5\n",
            "348 :  5.3999999999999995\n",
            "349 :  7.7\n",
            "350 :  6.8\n",
            "351 :  7.800000000000001\n",
            "352 :  7.0\n",
            "353 :  7.4\n",
            "354 :  3.799999999999999\n",
            "355 :  7.4\n",
            "356 :  6.1\n",
            "357 :  6.3999999999999995\n",
            "358 :  7.199999999999999\n",
            "359 :  5.199999999999999\n",
            "360 :  5.799999999999999\n",
            "361 :  6.199999999999999\n",
            "362 :  4.299999999999999\n",
            "363 :  5.999999999999999\n",
            "364 :  6.499999999999999\n",
            "365 :  6.199999999999999\n",
            "366 :  6.6\n",
            "367 :  6.1\n",
            "368 :  5.6\n",
            "369 :  3.6999999999999993\n",
            "370 :  -9.999999999999996\n",
            "371 :  7.8999999999999995\n",
            "372 :  6.299999999999999\n",
            "373 :  6.8999999999999995\n",
            "374 :  5.6\n",
            "375 :  6.199999999999999\n",
            "376 :  5.6\n",
            "377 :  8.0\n",
            "378 :  3.8999999999999995\n",
            "379 :  7.3\n",
            "380 :  6.299999999999999\n",
            "381 :  2.099999999999996\n",
            "382 :  5.599999999999999\n",
            "383 :  6.8999999999999995\n",
            "384 :  4.1\n",
            "385 :  6.6\n",
            "386 :  5.999999999999999\n",
            "387 :  7.6\n",
            "388 :  6.799999999999999\n",
            "389 :  5.3999999999999995\n",
            "390 :  5.999999999999999\n",
            "391 :  6.799999999999999\n",
            "392 :  4.6\n",
            "393 :  5.299999999999999\n",
            "394 :  7.2\n",
            "395 :  6.9\n",
            "396 :  4.999999999999999\n",
            "397 :  4.599999999999999\n",
            "398 :  7.1\n",
            "399 :  6.9\n",
            "400 :  7.0\n",
            "401 :  2.9999999999999973\n",
            "402 :  3.3999999999999977\n",
            "403 :  6.6\n",
            "404 :  6.499999999999999\n",
            "405 :  6.199999999999999\n",
            "406 :  7.5\n",
            "407 :  5.3999999999999995\n",
            "408 :  6.5\n",
            "409 :  4.799999999999999\n",
            "410 :  6.199999999999999\n",
            "411 :  5.8999999999999995\n",
            "412 :  7.7\n",
            "413 :  6.5\n",
            "414 :  8.0\n",
            "415 :  6.799999999999999\n",
            "416 :  6.5\n",
            "417 :  7.199999999999999\n",
            "418 :  6.5\n",
            "419 :  5.3\n",
            "420 :  5.999999999999999\n",
            "421 :  7.6\n",
            "422 :  7.9\n",
            "423 :  7.4\n",
            "424 :  6.299999999999999\n",
            "425 :  6.799999999999999\n",
            "426 :  6.1\n",
            "427 :  7.3\n",
            "428 :  7.6\n",
            "429 :  6.599999999999999\n",
            "430 :  7.4\n",
            "431 :  4.199999999999999\n",
            "432 :  6.5\n",
            "433 :  6.699999999999999\n",
            "434 :  7.3999999999999995\n",
            "435 :  7.299999999999999\n",
            "436 :  7.1\n",
            "437 :  5.8999999999999995\n",
            "438 :  7.699999999999999\n",
            "439 :  7.6\n",
            "440 :  7.0\n",
            "441 :  7.3\n",
            "442 :  7.4\n",
            "443 :  7.0\n",
            "444 :  -9.999999999999996\n",
            "445 :  7.3\n",
            "446 :  8.1\n",
            "447 :  3.9999999999999987\n",
            "448 :  5.699999999999999\n",
            "449 :  6.799999999999999\n",
            "450 :  7.199999999999999\n",
            "451 :  6.8\n",
            "452 :  6.9\n",
            "453 :  6.6\n",
            "454 :  7.1\n",
            "455 :  7.1\n",
            "456 :  6.5\n",
            "457 :  5.699999999999999\n",
            "458 :  -2.8000000000000034\n",
            "459 :  6.799999999999999\n",
            "460 :  5.999999999999999\n",
            "461 :  8.0\n",
            "462 :  7.3999999999999995\n",
            "463 :  7.1\n",
            "464 :  5.999999999999999\n",
            "465 :  7.1\n",
            "466 :  6.1999999999999975\n",
            "467 :  6.3999999999999995\n",
            "468 :  7.199999999999999\n",
            "469 :  6.3999999999999995\n",
            "470 :  6.299999999999999\n",
            "471 :  7.9\n",
            "472 :  6.8\n",
            "473 :  4.199999999999999\n",
            "474 :  7.5\n",
            "475 :  1.099999999999996\n",
            "476 :  7.8999999999999995\n",
            "477 :  6.6\n",
            "478 :  6.499999999999998\n",
            "479 :  5.1\n",
            "480 :  7.8\n",
            "481 :  6.399999999999999\n",
            "482 :  3.5999999999999974\n",
            "483 :  8.1\n",
            "484 :  6.6\n",
            "485 :  6.8\n",
            "486 :  7.8\n",
            "487 :  -3.6000000000000045\n",
            "488 :  7.0\n",
            "489 :  7.800000000000001\n",
            "490 :  7.5\n",
            "491 :  6.1\n",
            "492 :  7.1\n",
            "493 :  6.299999999999999\n",
            "494 :  -4.899999999999997\n",
            "495 :  7.7\n",
            "496 :  7.6\n",
            "497 :  8.2\n",
            "498 :  5.999999999999999\n",
            "499 :  5.799999999999999\n",
            "500 :  -2.8000000000000034\n",
            "501 :  4.999999999999999\n",
            "502 :  6.199999999999999\n",
            "503 :  7.0\n",
            "504 :  7.699999999999999\n",
            "505 :  4.299999999999999\n",
            "506 :  8.2\n",
            "507 :  5.699999999999998\n",
            "508 :  6.799999999999999\n",
            "509 :  6.299999999999999\n",
            "510 :  7.9\n",
            "511 :  6.199999999999999\n",
            "512 :  8.0\n",
            "513 :  7.5\n",
            "514 :  8.2\n",
            "515 :  7.7\n",
            "516 :  7.7\n",
            "517 :  6.3999999999999995\n",
            "518 :  7.0\n",
            "519 :  7.7\n",
            "520 :  4.8999999999999995\n",
            "521 :  6.799999999999999\n",
            "522 :  7.3\n",
            "523 :  -9.999999999999996\n",
            "524 :  7.2\n",
            "525 :  6.6\n",
            "526 :  6.699999999999999\n",
            "527 :  6.699999999999999\n",
            "528 :  7.3\n",
            "529 :  6.799999999999999\n",
            "530 :  7.5\n",
            "531 :  5.299999999999999\n",
            "532 :  6.199999999999999\n",
            "533 :  8.1\n",
            "534 :  7.0\n",
            "535 :  7.1\n",
            "536 :  8.2\n",
            "537 :  4.8999999999999995\n",
            "538 :  7.3\n",
            "539 :  6.8\n",
            "540 :  7.8999999999999995\n",
            "541 :  7.4\n",
            "542 :  6.6\n",
            "543 :  8.1\n",
            "544 :  7.5\n",
            "545 :  6.9\n",
            "546 :  7.8\n",
            "547 :  5.3999999999999995\n",
            "548 :  7.799999999999999\n",
            "549 :  7.300000000000001\n",
            "550 :  7.9\n",
            "551 :  7.699999999999999\n",
            "552 :  8.0\n",
            "553 :  7.5\n",
            "554 :  8.1\n",
            "555 :  8.2\n",
            "556 :  6.699999999999999\n",
            "557 :  5.499999999999999\n",
            "558 :  7.6\n",
            "559 :  6.299999999999999\n",
            "560 :  7.3\n",
            "561 :  7.3999999999999995\n",
            "562 :  7.9\n",
            "563 :  7.6\n",
            "564 :  6.699999999999999\n",
            "565 :  7.199999999999999\n",
            "566 :  7.0\n",
            "567 :  5.199999999999999\n",
            "568 :  7.300000000000001\n",
            "569 :  7.6\n",
            "570 :  8.3\n",
            "571 :  8.1\n",
            "572 :  7.7\n",
            "573 :  7.9\n",
            "574 :  4.799999999999998\n",
            "575 :  8.1\n",
            "576 :  7.4\n",
            "577 :  6.9\n",
            "578 :  5.599999999999998\n",
            "579 :  4.899999999999999\n",
            "580 :  5.899999999999999\n",
            "581 :  7.800000000000001\n",
            "582 :  7.699999999999999\n",
            "583 :  7.8\n",
            "584 :  4.799999999999999\n",
            "585 :  7.6\n",
            "586 :  -4.200000000000001\n",
            "587 :  7.9\n",
            "588 :  -2.5000000000000027\n",
            "589 :  2.899999999999997\n",
            "590 :  4.699999999999999\n",
            "591 :  7.6\n",
            "592 :  5.099999999999999\n",
            "593 :  7.7\n",
            "594 :  7.9\n",
            "595 :  6.6\n",
            "596 :  6.8\n",
            "597 :  7.199999999999999\n",
            "598 :  7.800000000000001\n",
            "599 :  7.0\n",
            "600 :  6.699999999999999\n",
            "601 :  6.199999999999999\n",
            "602 :  5.399999999999999\n",
            "603 :  7.0\n",
            "604 :  1.899999999999996\n",
            "605 :  7.6\n",
            "606 :  8.2\n",
            "607 :  6.6\n",
            "608 :  7.0\n",
            "609 :  8.1\n",
            "610 :  7.800000000000001\n",
            "611 :  7.3\n",
            "612 :  7.800000000000001\n",
            "613 :  -9.999999999999996\n",
            "614 :  7.5\n",
            "615 :  -1.300000000000001\n",
            "616 :  8.3\n",
            "617 :  5.6\n",
            "618 :  7.199999999999999\n",
            "619 :  7.1\n",
            "620 :  7.8999999999999995\n",
            "621 :  8.1\n",
            "622 :  4.699999999999999\n",
            "623 :  7.499999999999999\n",
            "624 :  8.0\n",
            "625 :  7.0\n",
            "626 :  6.399999999999999\n",
            "627 :  8.1\n",
            "628 :  8.1\n",
            "629 :  8.0\n",
            "630 :  7.199999999999999\n",
            "631 :  -9.999999999999996\n",
            "632 :  4.199999999999999\n",
            "633 :  8.1\n",
            "634 :  7.300000000000001\n",
            "635 :  8.2\n",
            "636 :  8.1\n",
            "637 :  4.499999999999999\n",
            "638 :  7.800000000000001\n",
            "639 :  7.1\n",
            "640 :  7.3\n",
            "641 :  7.5\n",
            "642 :  6.5\n",
            "643 :  6.8\n",
            "644 :  7.5\n",
            "645 :  8.0\n",
            "646 :  7.9\n",
            "647 :  6.799999999999999\n",
            "648 :  7.4\n",
            "649 :  7.6\n",
            "650 :  7.8\n",
            "651 :  7.5\n",
            "652 :  6.6\n",
            "653 :  7.399999999999999\n",
            "654 :  7.9\n",
            "655 :  8.1\n",
            "656 :  7.3\n",
            "657 :  8.3\n",
            "658 :  8.1\n",
            "659 :  7.7\n",
            "660 :  7.800000000000001\n",
            "661 :  8.0\n",
            "662 :  8.3\n",
            "663 :  7.5\n",
            "664 :  8.1\n",
            "665 :  7.3\n",
            "666 :  7.4\n",
            "667 :  8.0\n",
            "668 :  8.2\n",
            "669 :  2.7999999999999967\n",
            "670 :  6.699999999999999\n",
            "671 :  7.199999999999999\n",
            "672 :  7.4\n",
            "673 :  4.699999999999999\n",
            "674 :  8.1\n",
            "675 :  7.300000000000001\n",
            "676 :  7.8999999999999995\n",
            "677 :  7.4\n",
            "678 :  8.0\n",
            "679 :  5.3999999999999995\n",
            "680 :  0.6000000000000014\n",
            "681 :  8.2\n",
            "682 :  8.1\n",
            "683 :  7.4\n",
            "684 :  8.100000000000001\n",
            "685 :  7.6\n",
            "686 :  7.9\n",
            "687 :  7.5\n",
            "688 :  8.2\n",
            "689 :  7.2\n",
            "690 :  7.9\n",
            "691 :  7.0\n",
            "692 :  7.0\n",
            "693 :  6.8\n",
            "694 :  -4.499999999999998\n",
            "695 :  7.8\n",
            "696 :  8.0\n",
            "697 :  7.9\n",
            "698 :  8.0\n",
            "699 :  8.3\n",
            "700 :  4.199999999999998\n",
            "701 :  1.7999999999999958\n",
            "702 :  7.9\n",
            "703 :  7.9\n",
            "704 :  7.9\n",
            "705 :  5.8999999999999995\n",
            "706 :  -0.7000000000000015\n",
            "707 :  7.800000000000001\n",
            "708 :  7.6\n",
            "709 :  7.4\n",
            "710 :  7.800000000000001\n",
            "711 :  7.6\n",
            "712 :  8.3\n",
            "713 :  8.1\n",
            "714 :  7.800000000000001\n",
            "715 :  7.699999999999999\n",
            "716 :  7.8999999999999995\n",
            "717 :  7.9\n",
            "718 :  8.1\n",
            "719 :  8.0\n",
            "720 :  8.3\n",
            "721 :  8.1\n",
            "722 :  8.1\n",
            "723 :  -3.900000000000005\n",
            "724 :  7.3\n",
            "725 :  8.2\n",
            "726 :  7.299999999999999\n",
            "727 :  7.6\n",
            "728 :  8.1\n",
            "729 :  8.0\n",
            "730 :  -0.900000000000001\n",
            "731 :  8.0\n",
            "732 :  7.8\n",
            "733 :  8.1\n",
            "734 :  8.1\n",
            "735 :  7.800000000000001\n",
            "736 :  8.1\n",
            "737 :  7.299999999999999\n",
            "738 :  8.2\n",
            "739 :  8.1\n",
            "740 :  6.8\n",
            "741 :  7.5\n",
            "742 :  3.6999999999999993\n",
            "743 :  6.399999999999999\n",
            "744 :  7.1\n",
            "745 :  7.6\n",
            "746 :  8.2\n",
            "747 :  7.8999999999999995\n",
            "748 :  8.1\n",
            "749 :  7.2\n",
            "750 :  7.800000000000001\n",
            "751 :  8.1\n",
            "752 :  7.199999999999999\n",
            "753 :  7.7\n",
            "754 :  7.5\n",
            "755 :  8.1\n",
            "756 :  6.9\n",
            "757 :  7.6\n",
            "758 :  8.1\n",
            "759 :  -9.999999999999996\n",
            "760 :  5.899999999999999\n",
            "761 :  7.300000000000001\n",
            "762 :  8.1\n",
            "763 :  8.2\n",
            "764 :  8.3\n",
            "765 :  6.299999999999999\n",
            "766 :  5.799999999999999\n",
            "767 :  7.3\n",
            "768 :  7.499999999999999\n",
            "769 :  5.8999999999999995\n",
            "770 :  4.299999999999999\n",
            "771 :  8.0\n",
            "772 :  8.2\n",
            "773 :  7.300000000000001\n",
            "774 :  8.3\n",
            "775 :  2.4999999999999964\n",
            "776 :  4.399999999999999\n",
            "777 :  5.699999999999999\n",
            "778 :  -0.600000000000002\n",
            "779 :  7.199999999999999\n",
            "780 :  7.699999999999999\n",
            "781 :  5.599999999999998\n",
            "782 :  7.699999999999999\n",
            "783 :  7.699999999999999\n",
            "784 :  -0.900000000000001\n",
            "785 :  7.1\n",
            "786 :  8.3\n",
            "787 :  7.6\n",
            "788 :  7.7\n",
            "789 :  7.6\n",
            "790 :  8.0\n",
            "791 :  7.9\n",
            "792 :  7.9\n",
            "793 :  8.0\n",
            "794 :  8.3\n",
            "795 :  7.800000000000001\n",
            "796 :  8.0\n",
            "797 :  8.2\n",
            "798 :  8.2\n",
            "799 :  8.2\n",
            "800 :  7.799999999999999\n",
            "801 :  7.3\n",
            "802 :  8.3\n",
            "803 :  7.9\n",
            "804 :  8.0\n",
            "805 :  8.0\n",
            "806 :  8.1\n",
            "807 :  8.3\n",
            "808 :  8.1\n",
            "809 :  5.1\n",
            "810 :  8.1\n",
            "811 :  8.3\n",
            "812 :  8.3\n",
            "813 :  8.2\n",
            "814 :  8.2\n",
            "815 :  8.1\n",
            "816 :  5.6\n",
            "817 :  8.0\n",
            "818 :  -1.8000000000000014\n",
            "819 :  7.6\n",
            "820 :  3.9999999999999982\n",
            "821 :  8.2\n",
            "822 :  7.4\n",
            "823 :  7.9\n",
            "824 :  7.6\n",
            "825 :  -9.999999999999996\n",
            "826 :  7.8999999999999995\n",
            "827 :  8.2\n",
            "828 :  8.0\n",
            "829 :  8.1\n",
            "830 :  7.9\n",
            "831 :  7.2\n",
            "832 :  5.8999999999999995\n",
            "833 :  7.9\n",
            "834 :  7.7\n",
            "835 :  7.1\n",
            "836 :  7.8\n",
            "837 :  -1.1000000000000008\n",
            "838 :  8.1\n",
            "839 :  8.0\n",
            "840 :  8.0\n",
            "841 :  7.9\n",
            "842 :  8.1\n",
            "843 :  8.3\n",
            "844 :  8.2\n",
            "845 :  8.0\n",
            "846 :  7.8\n",
            "847 :  7.6\n",
            "848 :  8.3\n",
            "849 :  8.0\n",
            "850 :  8.0\n",
            "851 :  8.3\n",
            "852 :  7.8999999999999995\n",
            "853 :  8.3\n",
            "854 :  8.3\n",
            "855 :  7.800000000000001\n",
            "856 :  8.3\n",
            "857 :  8.3\n",
            "858 :  8.3\n",
            "859 :  7.9\n",
            "860 :  8.2\n",
            "861 :  8.3\n",
            "862 :  7.9\n",
            "863 :  8.1\n",
            "864 :  8.2\n",
            "865 :  8.0\n",
            "866 :  7.6\n",
            "867 :  8.3\n",
            "868 :  8.2\n",
            "869 :  7.399999999999999\n",
            "870 :  8.1\n",
            "871 :  8.1\n",
            "872 :  8.2\n",
            "873 :  8.3\n",
            "874 :  8.1\n",
            "875 :  7.6\n",
            "876 :  7.9\n",
            "877 :  7.9\n",
            "878 :  8.3\n",
            "879 :  5.499999999999998\n",
            "880 :  7.3\n",
            "881 :  8.0\n",
            "882 :  6.199999999999999\n",
            "883 :  -3.6000000000000045\n",
            "884 :  1.4999999999999956\n",
            "885 :  8.0\n",
            "886 :  -9.999999999999996\n",
            "887 :  8.1\n",
            "888 :  8.1\n",
            "889 :  -0.7000000000000015\n",
            "890 :  5.3\n",
            "891 :  7.699999999999999\n",
            "892 :  8.2\n",
            "893 :  7.9\n",
            "894 :  8.0\n",
            "895 :  8.0\n",
            "896 :  7.5\n",
            "897 :  8.1\n",
            "898 :  7.8999999999999995\n",
            "899 :  7.5\n",
            "900 :  7.1\n",
            "901 :  7.800000000000001\n",
            "902 :  8.2\n",
            "903 :  8.2\n",
            "904 :  8.2\n",
            "905 :  8.0\n",
            "906 :  7.800000000000001\n",
            "907 :  7.300000000000001\n",
            "908 :  8.3\n",
            "909 :  8.0\n",
            "910 :  8.0\n",
            "911 :  7.7\n",
            "912 :  8.3\n",
            "913 :  7.9\n",
            "914 :  8.3\n",
            "915 :  8.2\n",
            "916 :  7.9\n",
            "917 :  7.7\n",
            "918 :  -0.600000000000002\n",
            "919 :  8.1\n",
            "920 :  8.1\n",
            "921 :  8.1\n",
            "922 :  8.2\n",
            "923 :  8.1\n",
            "924 :  7.4\n",
            "925 :  8.1\n",
            "926 :  8.1\n",
            "927 :  7.800000000000001\n",
            "928 :  8.1\n",
            "929 :  7.4\n",
            "930 :  8.3\n",
            "931 :  7.8999999999999995\n",
            "932 :  -9.999999999999996\n",
            "933 :  8.2\n",
            "934 :  8.1\n",
            "935 :  8.3\n",
            "936 :  8.3\n",
            "937 :  8.3\n",
            "938 :  8.3\n",
            "939 :  8.0\n",
            "940 :  -1.400000000000001\n",
            "941 :  8.3\n",
            "942 :  7.7\n",
            "943 :  -3.5000000000000044\n",
            "944 :  8.3\n",
            "945 :  8.0\n",
            "946 :  8.1\n",
            "947 :  8.1\n",
            "948 :  7.9\n",
            "949 :  7.9\n",
            "950 :  8.1\n",
            "951 :  7.6\n",
            "952 :  -9.999999999999996\n",
            "953 :  7.8999999999999995\n",
            "954 :  -0.600000000000002\n",
            "955 :  7.6\n",
            "956 :  7.5\n",
            "957 :  8.1\n",
            "958 :  -9.999999999999996\n",
            "959 :  1.3999999999999955\n",
            "960 :  8.1\n",
            "961 :  7.7\n",
            "962 :  8.2\n",
            "963 :  7.699999999999999\n",
            "964 :  7.9\n",
            "965 :  7.8999999999999995\n",
            "966 :  8.1\n",
            "967 :  8.1\n",
            "968 :  7.3999999999999995\n",
            "969 :  -9.999999999999996\n",
            "970 :  8.2\n",
            "971 :  8.1\n",
            "972 :  8.2\n",
            "973 :  7.799999999999999\n",
            "974 :  8.1\n",
            "975 :  7.6\n",
            "976 :  8.2\n",
            "977 :  8.1\n",
            "978 :  -2.0000000000000013\n",
            "979 :  8.2\n",
            "980 :  7.5\n",
            "981 :  8.1\n",
            "982 :  -1.300000000000001\n",
            "983 :  4.699999999999998\n",
            "984 :  8.3\n",
            "985 :  8.1\n",
            "986 :  8.1\n",
            "987 :  7.699999999999999\n",
            "988 :  7.9\n",
            "989 :  5.6\n",
            "990 :  7.800000000000001\n",
            "991 :  8.1\n",
            "992 :  7.1\n",
            "993 :  5.6999999999999975\n",
            "994 :  -0.600000000000002\n",
            "995 :  7.399999999999999\n",
            "996 :  7.7\n",
            "997 :  -1.000000000000001\n",
            "998 :  -1.300000000000001\n",
            "999 :  -1.6000000000000012\n",
            "1000 :  -3.900000000000005\n",
            "1001 :  7.6\n",
            "1002 :  5.899999999999998\n",
            "1003 :  8.1\n",
            "1004 :  8.3\n",
            "1005 :  -9.999999999999996\n",
            "1006 :  6.699999999999999\n",
            "1007 :  3.8999999999999986\n",
            "1008 :  -9.999999999999996\n",
            "1009 :  4.099999999999998\n",
            "1010 :  6.699999999999999\n",
            "1011 :  2.7999999999999967\n",
            "1012 :  6.099999999999999\n",
            "1013 :  7.8\n",
            "1014 :  -9.999999999999996\n",
            "1015 :  7.8\n",
            "1016 :  7.9\n",
            "1017 :  7.7\n",
            "1018 :  7.7\n",
            "1019 :  5.699999999999999\n",
            "1020 :  -3.5000000000000044\n",
            "1021 :  -1.500000000000001\n",
            "1022 :  4.8999999999999995\n",
            "1023 :  6.5\n",
            "1024 :  8.0\n",
            "1025 :  8.2\n",
            "1026 :  8.2\n",
            "1027 :  8.0\n",
            "1028 :  8.1\n",
            "1029 :  8.2\n",
            "1030 :  5.1\n",
            "1031 :  7.9\n",
            "1032 :  8.1\n",
            "1033 :  7.9\n",
            "1034 :  8.2\n",
            "1035 :  7.6\n",
            "1036 :  6.8999999999999995\n",
            "1037 :  4.599999999999999\n",
            "1038 :  4.699999999999998\n",
            "1039 :  8.0\n",
            "1040 :  6.3999999999999995\n",
            "1041 :  8.2\n",
            "1042 :  7.699999999999999\n",
            "1043 :  8.2\n",
            "1044 :  8.0\n",
            "1045 :  8.2\n",
            "1046 :  7.7\n",
            "1047 :  8.0\n",
            "1048 :  8.2\n",
            "1049 :  -9.999999999999996\n",
            "1050 :  8.1\n",
            "1051 :  7.7\n",
            "1052 :  7.9\n",
            "1053 :  8.3\n",
            "1054 :  8.3\n",
            "1055 :  8.3\n",
            "1056 :  8.3\n",
            "1057 :  8.1\n",
            "1058 :  8.2\n",
            "1059 :  8.3\n",
            "1060 :  8.1\n",
            "1061 :  8.3\n",
            "1062 :  8.0\n",
            "1063 :  4.1\n",
            "1064 :  7.800000000000001\n",
            "1065 :  7.0\n",
            "1066 :  7.800000000000001\n",
            "1067 :  -9.999999999999996\n",
            "1068 :  8.1\n",
            "1069 :  8.1\n",
            "1070 :  -9.999999999999996\n",
            "1071 :  -2.6000000000000028\n",
            "1072 :  7.199999999999999\n",
            "1073 :  7.9\n",
            "1074 :  8.1\n",
            "1075 :  7.5\n",
            "1076 :  7.8\n",
            "1077 :  8.0\n",
            "1078 :  8.0\n",
            "1079 :  8.2\n",
            "1080 :  8.2\n",
            "1081 :  8.1\n",
            "1082 :  8.2\n",
            "1083 :  8.3\n",
            "1084 :  8.0\n",
            "1085 :  8.1\n",
            "1086 :  8.3\n",
            "1087 :  8.2\n",
            "1088 :  8.3\n",
            "1089 :  7.9\n",
            "1090 :  8.2\n",
            "1091 :  -1.400000000000001\n",
            "1092 :  -1.2000000000000008\n",
            "1093 :  -1.300000000000001\n",
            "1094 :  7.199999999999999\n",
            "1095 :  6.9\n",
            "1096 :  7.4\n",
            "1097 :  6.199999999999999\n",
            "1098 :  7.800000000000001\n",
            "1099 :  7.5\n",
            "1100 :  8.3\n",
            "1101 :  7.800000000000001\n",
            "1102 :  7.7\n",
            "1103 :  8.0\n",
            "1104 :  8.3\n",
            "1105 :  7.9\n",
            "1106 :  7.6\n",
            "1107 :  8.1\n",
            "1108 :  8.0\n",
            "1109 :  8.3\n",
            "1110 :  8.2\n",
            "1111 :  8.3\n",
            "1112 :  7.8999999999999995\n",
            "1113 :  8.3\n",
            "1114 :  8.3\n",
            "1115 :  7.699999999999999\n",
            "1116 :  7.1\n",
            "1117 :  -1.1000000000000008\n",
            "1118 :  4.799999999999999\n",
            "1119 :  7.0\n",
            "1120 :  7.4\n",
            "1121 :  8.1\n",
            "1122 :  8.3\n",
            "1123 :  8.3\n",
            "1124 :  8.2\n",
            "1125 :  8.3\n",
            "1126 :  8.2\n",
            "1127 :  8.1\n",
            "1128 :  8.0\n",
            "1129 :  8.3\n",
            "1130 :  8.3\n",
            "1131 :  8.1\n",
            "1132 :  -0.600000000000002\n",
            "1133 :  4.299999999999999\n",
            "1134 :  7.699999999999999\n",
            "1135 :  8.1\n",
            "1136 :  4.699999999999998\n",
            "1137 :  8.1\n",
            "1138 :  7.300000000000001\n",
            "1139 :  7.6\n",
            "1140 :  8.3\n",
            "1141 :  8.0\n",
            "1142 :  8.2\n",
            "1143 :  8.3\n",
            "1144 :  8.1\n",
            "1145 :  8.3\n",
            "1146 :  8.3\n",
            "1147 :  8.2\n",
            "1148 :  7.9\n",
            "1149 :  8.3\n",
            "1150 :  8.1\n",
            "1151 :  6.799999999999999\n",
            "1152 :  7.5\n",
            "1153 :  7.5\n",
            "1154 :  7.800000000000001\n",
            "1155 :  7.800000000000001\n",
            "1156 :  7.800000000000001\n",
            "1157 :  7.5\n",
            "1158 :  7.5\n",
            "1159 :  7.0\n",
            "1160 :  7.4\n",
            "1161 :  7.9\n",
            "1162 :  8.3\n",
            "1163 :  8.3\n",
            "1164 :  8.3\n",
            "1165 :  4.8999999999999995\n",
            "1166 :  8.3\n",
            "1167 :  8.3\n",
            "1168 :  -9.999999999999996\n",
            "1169 :  8.3\n",
            "1170 :  7.7\n",
            "1171 :  8.1\n",
            "1172 :  7.6\n",
            "1173 :  8.0\n",
            "1174 :  7.800000000000001\n",
            "1175 :  8.3\n",
            "1176 :  7.9\n",
            "1177 :  7.9\n",
            "1178 :  8.3\n",
            "1179 :  6.5\n",
            "1180 :  8.1\n",
            "1181 :  8.2\n",
            "1182 :  -0.800000000000001\n",
            "1183 :  6.9\n",
            "1184 :  4.799999999999999\n",
            "1185 :  8.2\n",
            "1186 :  6.3999999999999995\n",
            "1187 :  7.300000000000001\n",
            "1188 :  7.700000000000001\n",
            "1189 :  6.6\n",
            "1190 :  8.0\n",
            "1191 :  8.1\n",
            "1192 :  7.9\n",
            "1193 :  8.0\n",
            "1194 :  7.799999999999999\n",
            "1195 :  8.1\n",
            "1196 :  8.1\n",
            "1197 :  8.0\n",
            "1198 :  7.8999999999999995\n",
            "1199 :  8.3\n",
            "1200 :  8.3\n",
            "1201 :  5.499999999999999\n",
            "1202 :  5.499999999999998\n",
            "1203 :  8.0\n",
            "1204 :  8.3\n",
            "1205 :  8.2\n",
            "1206 :  6.8\n",
            "1207 :  8.2\n",
            "1208 :  8.3\n",
            "1209 :  7.7\n",
            "1210 :  8.2\n",
            "1211 :  8.1\n",
            "1212 :  7.699999999999999\n",
            "1213 :  8.1\n",
            "1214 :  8.1\n",
            "1215 :  8.1\n",
            "1216 :  8.1\n",
            "1217 :  8.1\n",
            "1218 :  8.1\n",
            "1219 :  8.0\n",
            "1220 :  8.1\n",
            "1221 :  7.7\n",
            "1222 :  7.6000000000000005\n",
            "1223 :  7.5\n",
            "1224 :  -9.999999999999996\n",
            "1225 :  6.9\n",
            "1226 :  7.5\n",
            "1227 :  7.5\n",
            "1228 :  8.2\n",
            "1229 :  8.1\n",
            "1230 :  8.0\n",
            "1231 :  7.9\n",
            "1232 :  8.0\n",
            "1233 :  8.2\n",
            "1234 :  8.1\n",
            "1235 :  6.1999999999999975\n",
            "1236 :  8.1\n",
            "1237 :  8.1\n",
            "1238 :  8.1\n",
            "1239 :  7.8999999999999995\n",
            "1240 :  8.1\n",
            "1241 :  7.5\n",
            "1242 :  8.2\n",
            "1243 :  7.8\n",
            "1244 :  8.2\n",
            "1245 :  8.2\n",
            "1246 :  8.2\n",
            "1247 :  7.6\n",
            "1248 :  8.3\n",
            "1249 :  8.2\n",
            "1250 :  8.2\n",
            "1251 :  8.2\n",
            "1252 :  8.2\n",
            "1253 :  8.1\n",
            "1254 :  8.0\n",
            "1255 :  8.2\n",
            "1256 :  8.0\n",
            "1257 :  8.2\n",
            "1258 :  8.1\n",
            "1259 :  7.800000000000001\n",
            "1260 :  7.199999999999999\n",
            "1261 :  8.1\n",
            "1262 :  8.1\n",
            "1263 :  8.1\n",
            "1264 :  7.8999999999999995\n",
            "1265 :  8.0\n",
            "1266 :  8.0\n",
            "1267 :  8.1\n",
            "1268 :  8.1\n",
            "1269 :  7.499999999999999\n",
            "1270 :  8.1\n",
            "1271 :  8.1\n",
            "1272 :  8.1\n",
            "1273 :  8.2\n",
            "1274 :  8.1\n",
            "1275 :  8.1\n",
            "1276 :  8.1\n",
            "1277 :  8.2\n",
            "1278 :  7.8999999999999995\n",
            "1279 :  8.0\n",
            "1280 :  8.2\n",
            "1281 :  7.9\n",
            "1282 :  7.9\n",
            "1283 :  8.2\n",
            "1284 :  8.2\n",
            "1285 :  7.9\n",
            "1286 :  8.1\n",
            "1287 :  8.1\n",
            "1288 :  7.6\n",
            "1289 :  8.2\n",
            "1290 :  8.2\n",
            "1291 :  8.0\n",
            "1292 :  8.1\n",
            "1293 :  7.099999999999999\n",
            "1294 :  8.0\n",
            "1295 :  4.399999999999999\n",
            "1296 :  8.0\n",
            "1297 :  8.1\n",
            "1298 :  8.1\n",
            "1299 :  7.799999999999999\n",
            "1300 :  8.1\n",
            "1301 :  8.1\n",
            "1302 :  8.1\n",
            "1303 :  8.1\n",
            "1304 :  8.1\n",
            "1305 :  8.1\n",
            "1306 :  7.8999999999999995\n",
            "1307 :  8.1\n",
            "1308 :  8.1\n",
            "1309 :  7.799999999999999\n",
            "1310 :  8.0\n",
            "1311 :  5.599999999999998\n",
            "1312 :  8.1\n",
            "1313 :  8.0\n",
            "1314 :  8.2\n",
            "1315 :  7.7\n",
            "1316 :  8.1\n",
            "1317 :  8.1\n",
            "1318 :  8.2\n",
            "1319 :  8.2\n",
            "1320 :  8.2\n",
            "1321 :  8.2\n",
            "1322 :  8.2\n",
            "1323 :  8.2\n",
            "1324 :  8.2\n",
            "1325 :  7.800000000000001\n",
            "1326 :  7.8\n",
            "1327 :  8.2\n",
            "1328 :  7.7\n",
            "1329 :  7.9\n",
            "1330 :  8.1\n",
            "1331 :  7.9\n",
            "1332 :  8.2\n",
            "1333 :  8.1\n",
            "1334 :  6.799999999999999\n",
            "1335 :  8.2\n",
            "1336 :  7.8999999999999995\n",
            "1337 :  4.499999999999998\n",
            "1338 :  8.0\n",
            "1339 :  8.1\n",
            "1340 :  8.1\n",
            "1341 :  8.1\n",
            "1342 :  8.1\n",
            "1343 :  7.8999999999999995\n",
            "1344 :  8.1\n",
            "1345 :  7.9\n",
            "1346 :  5.399999999999998\n",
            "1347 :  -0.600000000000002\n",
            "1348 :  -0.600000000000002\n",
            "1349 :  7.199999999999999\n",
            "1350 :  7.9\n",
            "1351 :  7.9\n",
            "1352 :  7.7\n",
            "1353 :  7.799999999999999\n",
            "1354 :  5.6999999999999975\n",
            "1355 :  -0.600000000000002\n",
            "1356 :  7.699999999999999\n",
            "1357 :  7.7\n",
            "1358 :  8.1\n",
            "1359 :  -0.600000000000002\n",
            "1360 :  -0.600000000000002\n",
            "1361 :  -0.600000000000002\n",
            "1362 :  -9.999999999999996\n",
            "1363 :  8.1\n",
            "1364 :  8.1\n",
            "1365 :  7.9\n",
            "1366 :  8.1\n",
            "1367 :  8.1\n",
            "1368 :  8.1\n",
            "1369 :  7.7\n",
            "1370 :  8.1\n",
            "1371 :  7.9\n",
            "1372 :  8.1\n",
            "1373 :  7.7\n",
            "1374 :  8.2\n",
            "1375 :  8.0\n",
            "1376 :  8.1\n",
            "1377 :  -0.600000000000002\n",
            "1378 :  8.1\n",
            "1379 :  8.2\n",
            "1380 :  7.9\n",
            "1381 :  7.9\n",
            "1382 :  8.3\n",
            "1383 :  8.2\n",
            "1384 :  8.2\n",
            "1385 :  8.0\n",
            "1386 :  8.0\n",
            "1387 :  8.2\n",
            "1388 :  8.0\n",
            "1389 :  6.599999999999998\n",
            "1390 :  8.3\n",
            "1391 :  6.899999999999999\n",
            "1392 :  7.799999999999999\n",
            "1393 :  8.3\n",
            "1394 :  8.2\n",
            "1395 :  -9.999999999999996\n",
            "1396 :  -9.999999999999996\n",
            "1397 :  -0.600000000000002\n",
            "1398 :  7.799999999999999\n",
            "1399 :  8.3\n",
            "1400 :  8.0\n",
            "1401 :  8.2\n",
            "1402 :  8.1\n",
            "1403 :  7.6\n",
            "1404 :  7.3\n",
            "1405 :  8.1\n",
            "1406 :  8.1\n",
            "1407 :  8.1\n",
            "1408 :  7.9\n",
            "1409 :  8.1\n",
            "1410 :  7.9\n",
            "1411 :  8.1\n",
            "1412 :  7.9\n",
            "1413 :  8.1\n",
            "1414 :  7.7\n",
            "1415 :  7.8999999999999995\n",
            "1416 :  8.2\n",
            "1417 :  8.3\n",
            "1418 :  8.1\n",
            "1419 :  8.3\n",
            "1420 :  8.1\n",
            "1421 :  7.7\n",
            "1422 :  6.799999999999999\n",
            "1423 :  8.2\n",
            "1424 :  8.3\n",
            "1425 :  8.3\n",
            "1426 :  8.2\n",
            "1427 :  8.0\n",
            "1428 :  8.3\n",
            "1429 :  8.3\n",
            "1430 :  8.3\n",
            "1431 :  8.3\n",
            "1432 :  8.3\n",
            "1433 :  8.2\n",
            "1434 :  8.2\n",
            "1435 :  7.9\n",
            "1436 :  8.2\n",
            "1437 :  8.2\n",
            "1438 :  8.2\n",
            "1439 :  8.2\n",
            "1440 :  8.2\n",
            "1441 :  8.2\n",
            "1442 :  8.1\n",
            "1443 :  8.3\n",
            "1444 :  8.3\n",
            "1445 :  8.3\n",
            "1446 :  8.2\n",
            "1447 :  -0.7000000000000015\n",
            "1448 :  8.1\n",
            "1449 :  8.3\n",
            "1450 :  7.9\n",
            "1451 :  8.3\n",
            "1452 :  8.3\n",
            "1453 :  8.3\n",
            "1454 :  8.3\n",
            "1455 :  8.3\n",
            "1456 :  -9.999999999999996\n",
            "1457 :  8.1\n",
            "1458 :  8.3\n",
            "1459 :  -0.600000000000002\n",
            "1460 :  7.8\n",
            "1461 :  8.0\n",
            "1462 :  8.2\n",
            "1463 :  8.2\n",
            "1464 :  8.1\n",
            "1465 :  8.1\n",
            "1466 :  8.2\n",
            "1467 :  8.1\n",
            "1468 :  8.1\n",
            "1469 :  7.800000000000001\n",
            "1470 :  8.2\n",
            "1471 :  7.9\n",
            "1472 :  8.1\n",
            "1473 :  8.2\n",
            "1474 :  8.1\n",
            "1475 :  8.1\n",
            "1476 :  8.2\n",
            "1477 :  8.2\n",
            "1478 :  8.1\n",
            "1479 :  8.0\n",
            "1480 :  8.3\n",
            "1481 :  8.3\n",
            "1482 :  8.3\n",
            "1483 :  8.3\n",
            "1484 :  8.3\n",
            "1485 :  8.3\n",
            "1486 :  8.2\n",
            "1487 :  8.0\n",
            "1488 :  8.3\n",
            "1489 :  8.3\n",
            "1490 :  8.3\n",
            "1491 :  8.2\n",
            "1492 :  -9.999999999999996\n",
            "1493 :  5.299999999999999\n",
            "1494 :  8.2\n",
            "1495 :  8.2\n",
            "1496 :  8.3\n",
            "1497 :  7.8999999999999995\n",
            "1498 :  8.1\n",
            "1499 :  8.1\n",
            "1500 :  8.1\n",
            "1501 :  8.1\n",
            "1502 :  8.1\n",
            "1503 :  8.1\n",
            "1504 :  7.8999999999999995\n",
            "1505 :  8.1\n",
            "1506 :  8.1\n",
            "1507 :  7.9\n",
            "1508 :  8.1\n",
            "1509 :  7.9\n",
            "1510 :  8.1\n",
            "1511 :  8.1\n",
            "1512 :  7.7\n",
            "1513 :  8.1\n",
            "1514 :  8.1\n",
            "1515 :  8.1\n",
            "1516 :  8.1\n",
            "1517 :  8.1\n",
            "1518 :  7.9\n",
            "1519 :  8.1\n",
            "1520 :  8.1\n",
            "1521 :  8.1\n",
            "1522 :  8.1\n",
            "1523 :  8.1\n",
            "1524 :  8.1\n",
            "1525 :  8.1\n",
            "1526 :  8.1\n",
            "1527 :  8.1\n",
            "1528 :  8.0\n",
            "1529 :  7.7\n",
            "1530 :  -0.600000000000002\n",
            "1531 :  8.1\n",
            "1532 :  8.1\n",
            "1533 :  8.1\n",
            "1534 :  8.1\n",
            "1535 :  8.1\n",
            "1536 :  8.1\n",
            "1537 :  8.1\n",
            "1538 :  7.8999999999999995\n",
            "1539 :  8.1\n",
            "1540 :  8.1\n",
            "1541 :  7.8999999999999995\n",
            "1542 :  8.1\n",
            "1543 :  8.1\n",
            "1544 :  8.1\n",
            "1545 :  8.1\n",
            "1546 :  7.9\n",
            "1547 :  8.2\n",
            "1548 :  8.1\n",
            "1549 :  8.1\n",
            "1550 :  8.1\n",
            "1551 :  8.2\n",
            "1552 :  8.3\n",
            "1553 :  7.4\n",
            "1554 :  8.1\n",
            "1555 :  8.3\n",
            "1556 :  8.2\n",
            "1557 :  8.2\n",
            "1558 :  4.699999999999998\n",
            "1559 :  8.2\n",
            "1560 :  8.2\n",
            "1561 :  8.2\n",
            "1562 :  8.1\n",
            "1563 :  8.0\n",
            "1564 :  7.9\n",
            "1565 :  7.8999999999999995\n",
            "1566 :  8.1\n",
            "1567 :  8.1\n",
            "1568 :  8.1\n",
            "1569 :  8.1\n",
            "1570 :  8.1\n",
            "1571 :  8.1\n",
            "1572 :  8.1\n",
            "1573 :  8.1\n",
            "1574 :  8.2\n",
            "1575 :  8.2\n",
            "1576 :  8.0\n",
            "1577 :  8.3\n",
            "1578 :  8.3\n",
            "1579 :  8.3\n",
            "1580 :  8.3\n",
            "1581 :  8.3\n",
            "1582 :  8.3\n",
            "1583 :  7.700000000000001\n",
            "1584 :  8.3\n",
            "1585 :  8.3\n",
            "1586 :  8.3\n",
            "1587 :  4.799999999999999\n",
            "1588 :  7.7\n",
            "1589 :  8.3\n",
            "1590 :  7.9\n",
            "1591 :  8.3\n",
            "1592 :  8.3\n",
            "1593 :  8.2\n",
            "1594 :  8.3\n",
            "1595 :  8.3\n",
            "1596 :  8.3\n",
            "1597 :  8.2\n",
            "1598 :  8.2\n",
            "1599 :  8.3\n",
            "1600 :  8.3\n",
            "1601 :  8.1\n",
            "1602 :  8.3\n",
            "1603 :  8.3\n",
            "1604 :  8.3\n",
            "1605 :  7.9\n",
            "1606 :  8.3\n",
            "1607 :  8.3\n",
            "1608 :  7.7\n",
            "1609 :  -1.7000000000000013\n",
            "1610 :  -9.999999999999996\n",
            "1611 :  8.3\n",
            "1612 :  8.3\n",
            "1613 :  8.3\n",
            "1614 :  8.3\n",
            "1615 :  8.1\n",
            "1616 :  8.1\n",
            "1617 :  8.2\n",
            "1618 :  8.2\n",
            "1619 :  8.2\n",
            "1620 :  8.2\n",
            "1621 :  7.699999999999999\n",
            "1622 :  8.1\n",
            "1623 :  8.1\n",
            "1624 :  8.1\n",
            "1625 :  8.1\n",
            "1626 :  8.0\n",
            "1627 :  8.1\n",
            "1628 :  8.2\n",
            "1629 :  8.3\n",
            "1630 :  8.3\n",
            "1631 :  8.3\n",
            "1632 :  8.3\n",
            "1633 :  8.3\n",
            "1634 :  8.3\n",
            "1635 :  8.3\n",
            "1636 :  7.4\n",
            "1637 :  8.1\n",
            "1638 :  8.3\n",
            "1639 :  7.9\n",
            "1640 :  8.1\n",
            "1641 :  8.1\n",
            "1642 :  8.3\n",
            "1643 :  8.3\n",
            "1644 :  8.3\n",
            "1645 :  -0.600000000000002\n",
            "1646 :  6.299999999999998\n",
            "1647 :  8.3\n",
            "1648 :  8.2\n",
            "1649 :  8.3\n",
            "1650 :  8.3\n",
            "1651 :  8.3\n",
            "1652 :  8.3\n",
            "1653 :  8.3\n",
            "1654 :  8.1\n",
            "1655 :  8.2\n",
            "1656 :  8.2\n",
            "1657 :  8.3\n",
            "1658 :  8.2\n",
            "1659 :  7.799999999999999\n",
            "1660 :  8.2\n",
            "1661 :  8.1\n",
            "1662 :  8.1\n",
            "1663 :  8.1\n",
            "1664 :  8.1\n",
            "1665 :  8.1\n",
            "1666 :  8.1\n",
            "1667 :  7.8999999999999995\n",
            "1668 :  8.3\n",
            "1669 :  8.3\n",
            "1670 :  8.3\n",
            "1671 :  8.3\n",
            "1672 :  8.3\n",
            "1673 :  -9.999999999999996\n",
            "1674 :  8.3\n",
            "1675 :  8.3\n",
            "1676 :  8.3\n",
            "1677 :  7.6\n",
            "1678 :  8.3\n",
            "1679 :  8.3\n",
            "1680 :  7.9\n",
            "1681 :  8.3\n",
            "1682 :  8.3\n",
            "1683 :  8.3\n",
            "1684 :  8.3\n",
            "1685 :  8.3\n",
            "1686 :  8.3\n",
            "1687 :  8.3\n",
            "1688 :  8.3\n",
            "1689 :  8.3\n",
            "1690 :  8.3\n",
            "1691 :  8.3\n",
            "1692 :  8.3\n",
            "1693 :  8.3\n",
            "1694 :  8.3\n",
            "1695 :  8.3\n",
            "1696 :  8.3\n",
            "1697 :  8.3\n",
            "1698 :  -9.999999999999996\n",
            "1699 :  8.3\n",
            "1700 :  8.3\n",
            "1701 :  8.1\n",
            "1702 :  8.3\n",
            "1703 :  8.3\n",
            "1704 :  8.2\n",
            "1705 :  7.9\n",
            "1706 :  8.3\n",
            "1707 :  8.3\n",
            "1708 :  7.9\n",
            "1709 :  8.3\n",
            "1710 :  8.2\n",
            "1711 :  8.3\n",
            "1712 :  8.3\n",
            "1713 :  8.3\n",
            "1714 :  8.3\n",
            "1715 :  8.3\n",
            "1716 :  8.3\n",
            "1717 :  8.3\n",
            "1718 :  8.3\n",
            "1719 :  8.1\n",
            "1720 :  8.3\n",
            "1721 :  8.3\n",
            "1722 :  8.3\n",
            "1723 :  8.3\n",
            "1724 :  8.3\n",
            "1725 :  8.3\n",
            "1726 :  8.3\n",
            "1727 :  8.3\n",
            "1728 :  8.3\n",
            "1729 :  8.3\n",
            "1730 :  8.1\n",
            "1731 :  8.3\n",
            "1732 :  8.3\n",
            "1733 :  8.3\n",
            "1734 :  8.1\n",
            "1735 :  8.3\n",
            "1736 :  8.3\n",
            "1737 :  8.3\n",
            "1738 :  8.3\n",
            "1739 :  8.3\n",
            "1740 :  8.3\n",
            "1741 :  8.3\n",
            "1742 :  8.3\n",
            "1743 :  8.3\n",
            "1744 :  8.3\n",
            "1745 :  8.3\n",
            "1746 :  8.3\n",
            "1747 :  8.2\n",
            "1748 :  8.3\n",
            "1749 :  8.3\n",
            "1750 :  8.3\n",
            "1751 :  8.3\n",
            "1752 :  8.3\n",
            "1753 :  8.3\n",
            "1754 :  7.7\n",
            "1755 :  8.3\n",
            "1756 :  8.3\n",
            "1757 :  8.3\n",
            "1758 :  -0.600000000000002\n",
            "1759 :  8.3\n",
            "1760 :  8.3\n",
            "1761 :  8.3\n",
            "1762 :  8.3\n",
            "1763 :  8.3\n",
            "1764 :  8.3\n",
            "1765 :  8.1\n",
            "1766 :  8.3\n",
            "1767 :  8.3\n",
            "1768 :  8.3\n",
            "1769 :  8.3\n",
            "1770 :  8.1\n",
            "1771 :  8.3\n",
            "1772 :  8.3\n",
            "1773 :  8.3\n",
            "1774 :  8.3\n",
            "1775 :  8.3\n",
            "1776 :  8.3\n",
            "1777 :  8.3\n",
            "1778 :  8.3\n",
            "1779 :  8.3\n",
            "1780 :  8.3\n",
            "1781 :  8.1\n",
            "1782 :  8.3\n",
            "1783 :  8.3\n",
            "1784 :  7.9\n",
            "1785 :  8.3\n",
            "1786 :  8.3\n",
            "1787 :  8.3\n",
            "1788 :  8.1\n",
            "1789 :  8.3\n",
            "1790 :  8.3\n",
            "1791 :  8.3\n",
            "1792 :  8.1\n",
            "1793 :  8.3\n",
            "1794 :  8.3\n",
            "1795 :  8.3\n",
            "1796 :  8.3\n",
            "1797 :  8.3\n",
            "1798 :  8.3\n",
            "1799 :  8.3\n",
            "1800 :  8.3\n",
            "1801 :  8.3\n",
            "1802 :  8.3\n",
            "1803 :  8.3\n",
            "1804 :  8.3\n",
            "1805 :  8.3\n",
            "1806 :  7.9\n",
            "1807 :  8.3\n",
            "1808 :  8.3\n",
            "1809 :  8.3\n",
            "1810 :  8.3\n",
            "1811 :  8.2\n",
            "1812 :  8.3\n",
            "1813 :  8.3\n",
            "1814 :  8.1\n",
            "1815 :  8.3\n",
            "1816 :  8.3\n",
            "1817 :  8.3\n",
            "1818 :  8.3\n",
            "1819 :  8.3\n",
            "1820 :  8.3\n",
            "1821 :  8.1\n",
            "1822 :  8.3\n",
            "1823 :  8.3\n",
            "1824 :  8.3\n",
            "1825 :  8.3\n",
            "1826 :  8.3\n",
            "1827 :  8.3\n",
            "1828 :  8.3\n",
            "1829 :  8.3\n",
            "1830 :  8.3\n",
            "1831 :  8.3\n",
            "1832 :  8.3\n",
            "1833 :  8.3\n",
            "1834 :  8.3\n",
            "1835 :  8.3\n",
            "1836 :  8.3\n",
            "1837 :  8.3\n",
            "1838 :  8.1\n",
            "1839 :  8.3\n",
            "1840 :  8.3\n",
            "1841 :  8.3\n",
            "1842 :  7.9\n",
            "1843 :  8.3\n",
            "1844 :  8.3\n",
            "1845 :  8.3\n",
            "1846 :  8.3\n",
            "1847 :  8.3\n",
            "1848 :  8.3\n",
            "1849 :  8.2\n",
            "1850 :  8.3\n",
            "1851 :  7.9\n",
            "1852 :  8.3\n",
            "1853 :  8.3\n",
            "1854 :  8.2\n",
            "1855 :  8.3\n",
            "1856 :  8.1\n",
            "1857 :  8.3\n",
            "1858 :  8.3\n",
            "1859 :  8.3\n",
            "1860 :  8.3\n",
            "1861 :  8.3\n",
            "1862 :  8.3\n",
            "1863 :  8.3\n",
            "1864 :  8.1\n",
            "1865 :  8.3\n",
            "1866 :  8.3\n",
            "1867 :  8.3\n",
            "1868 :  8.3\n",
            "1869 :  8.3\n",
            "1870 :  8.3\n",
            "1871 :  8.3\n",
            "1872 :  8.3\n",
            "1873 :  8.3\n",
            "1874 :  8.3\n",
            "1875 :  8.3\n",
            "1876 :  8.1\n",
            "1877 :  8.3\n",
            "1878 :  8.3\n",
            "1879 :  8.3\n",
            "1880 :  8.3\n",
            "1881 :  8.3\n",
            "1882 :  8.3\n",
            "1883 :  8.3\n",
            "1884 :  8.3\n",
            "1885 :  8.3\n",
            "1886 :  8.3\n",
            "1887 :  8.3\n",
            "1888 :  8.3\n",
            "1889 :  8.3\n",
            "1890 :  8.3\n",
            "1891 :  8.3\n",
            "1892 :  8.3\n",
            "1893 :  8.3\n",
            "1894 :  8.3\n",
            "1895 :  8.3\n",
            "1896 :  8.3\n",
            "1897 :  8.1\n",
            "1898 :  8.3\n",
            "1899 :  8.3\n",
            "1900 :  8.3\n",
            "1901 :  8.3\n",
            "1902 :  8.3\n",
            "1903 :  8.3\n",
            "1904 :  8.3\n",
            "1905 :  8.3\n",
            "1906 :  8.3\n",
            "1907 :  8.3\n",
            "1908 :  8.3\n",
            "1909 :  8.3\n",
            "1910 :  8.3\n",
            "1911 :  8.3\n",
            "1912 :  7.9\n",
            "1913 :  8.3\n",
            "1914 :  8.3\n",
            "1915 :  8.3\n",
            "1916 :  8.3\n",
            "1917 :  8.3\n",
            "1918 :  8.3\n",
            "1919 :  8.1\n",
            "1920 :  8.3\n",
            "1921 :  8.3\n",
            "1922 :  8.3\n",
            "1923 :  8.3\n",
            "1924 :  8.3\n",
            "1925 :  8.3\n",
            "1926 :  8.3\n",
            "1927 :  8.3\n",
            "1928 :  8.3\n",
            "1929 :  8.3\n",
            "1930 :  8.3\n",
            "1931 :  8.3\n",
            "1932 :  8.2\n",
            "1933 :  8.3\n",
            "1934 :  8.3\n",
            "1935 :  8.3\n",
            "1936 :  8.3\n",
            "1937 :  8.3\n",
            "1938 :  8.3\n",
            "1939 :  8.3\n",
            "1940 :  8.3\n",
            "1941 :  8.3\n",
            "1942 :  8.3\n",
            "1943 :  8.1\n",
            "1944 :  8.3\n",
            "1945 :  8.1\n",
            "1946 :  8.1\n",
            "1947 :  8.3\n",
            "1948 :  8.3\n",
            "1949 :  8.3\n",
            "1950 :  8.3\n",
            "1951 :  8.3\n",
            "1952 :  8.2\n",
            "1953 :  8.3\n",
            "1954 :  8.3\n",
            "1955 :  8.1\n",
            "1956 :  8.2\n",
            "1957 :  8.3\n",
            "1958 :  8.3\n",
            "1959 :  8.3\n",
            "1960 :  8.3\n",
            "1961 :  8.3\n",
            "1962 :  8.3\n",
            "1963 :  8.3\n",
            "1964 :  8.3\n",
            "1965 :  8.3\n",
            "1966 :  8.3\n",
            "1967 :  8.3\n",
            "1968 :  8.3\n",
            "1969 :  8.3\n",
            "1970 :  8.3\n",
            "1971 :  7.9\n",
            "1972 :  8.3\n",
            "1973 :  8.2\n",
            "1974 :  8.3\n",
            "1975 :  8.3\n",
            "1976 :  8.3\n",
            "1977 :  8.3\n",
            "1978 :  8.3\n",
            "1979 :  8.3\n",
            "1980 :  8.3\n",
            "1981 :  8.3\n",
            "1982 :  8.3\n",
            "1983 :  8.3\n",
            "1984 :  8.3\n",
            "1985 :  8.3\n",
            "1986 :  8.3\n",
            "1987 :  8.3\n",
            "1988 :  8.3\n",
            "1989 :  8.3\n",
            "1990 :  8.3\n",
            "1991 :  8.3\n",
            "1992 :  8.3\n",
            "1993 :  8.3\n",
            "1994 :  8.3\n",
            "1995 :  8.3\n",
            "1996 :  8.3\n",
            "1997 :  8.3\n",
            "1998 :  8.3\n",
            "1999 :  8.3\n",
            "2000 :  8.3\n"
          ]
        },
        {
          "output_type": "display_data",
          "data": {
            "text/plain": [
              "<Figure size 432x288 with 1 Axes>"
            ],
            "image/png": "[encoded data removed]"
          },
          "metadata": {
            "needs_background": "light"
          }
        },
        {
          "output_type": "execute_result",
          "data": {
            "text/plain": [
              "<matplotlib.image.AxesImage at 0x7f2902363890>"
            ]
          },
          "metadata": {},
          "execution_count": 20
        },
        {
          "output_type": "display_data",
          "data": {
            "text/plain": [
              "<Figure size 432x288 with 1 Axes>"
            ],
            "image/png": "[encoded data removed]"
          },
          "metadata": {
            "needs_background": "light"
          }
        }
      ],
      "source": [
        "#DQN-Learning: Applied to Deterministic Grid Environment\n",
        "\n",
        "#Initialize Environment\n",
        "env = gym.make('ma_gym:Switch2-v0')\n",
        "numAgents = 2\n",
        "\n",
        "#Create list for total rewards\n",
        "totalRewards = []\n",
        "\n",
        "#Initialize Networks\n",
        "Qs = [Switch2Net(numAgents) for i in range(numAgents)]\n",
        "Q_Targets = [copy.deepcopy(Q) for Q in Qs]\n",
        "copyInterval = 50\n",
        "step = 0\n",
        "\n",
        "#Define the loss function\n",
        "criterion = nn.MSELoss()\n",
        "optimizers = [optim.Adam(Q.parameters(), lr=0.0001) for Q in Qs]\n",
        "\n",
        "#Define Discount Factor (gamma)\n",
        "gamma = 0.9\n",
        "\n",
        "#Initialize Greedy Epsilon Agent for Q\n",
        "epsilon = 1\n",
        "endEpsilon = 0.01\n",
        "agents = [GreedyEpsAgent2(epsilon, Q, env.action_space) for Q in Qs]\n",
        "\n",
        "#Define Experience Replay list, its max size, and the mini batch size\n",
        "replays = [[] for i in range(numAgents)]\n",
        "maxReplay = 256\n",
        "miniBatchSize = 30\n",
        "\n",
        "#Our initial policy can be an even distribution\n",
        "numEpisodes = 2000\n",
        "episode = 0\n",
        "\n",
        "#Loop through episodes, training agent using Q-Learning\n",
        "#and (sum(totalRewards[max(-10,-len(totalRewards)):])/10) < 8\n",
        "while(episode < numEpisodes):\n",
        "  s = env.reset()\n",
        "  s = [element for sublist in s for element in sublist]\n",
        "  done = [False for i in range(env.n_agents)]\n",
        "\n",
        "  rTracker = 0\n",
        "  while not all(done):\n",
        "    step += 1\n",
        "\n",
        "    #Take action based on greatest Q-Value from Q for state s\n",
        "    a = [agent.get_action(torch.tensor([[s]]).float()) for agent in agents]\n",
        "    sP, r, done, info = env.step(a)\n",
        "    sP = [element for sublist in sP for element in sublist]\n",
        "\n",
        "    #Zero out gradient and take random minibatch\n",
        "    for optimizer in optimizers:\n",
        "      optimizer.zero_grad()\n",
        "    \n",
        "    for i in range(numAgents):\n",
        "      minibatch = random.sample(replays[i], min(len(replays[i]), miniBatchSize))\n",
        "      if len(minibatch) > 3:\n",
        "        #Break up minibatch into the different columns of values\n",
        "        columns = list(zip(*minibatch))\n",
        "        states = torch.reshape(torch.tensor(columns[0]).float(),[len(minibatch),2*numAgents])\n",
        "        actions = torch.tensor(columns[1])\n",
        "        rewards = torch.tensor(columns[2])\n",
        "        newStates = torch.reshape(torch.tensor(columns[3]).float(),[len(minibatch), 2*numAgents])\n",
        "\n",
        "        #Select Q and Q_Target\n",
        "        Q = Qs[i]\n",
        "        Q_Target = Q_Targets[i]\n",
        "\n",
        "        #Get targets and outputs\n",
        "        targets = (gamma*torch.max(Q_Target(newStates), 1)[0]) + rewards\n",
        "        outputs = torch.reshape(torch.gather(Q(states), 1, actions), [len(minibatch)])\n",
        "\n",
        "        #Calculate loss and gradients\n",
        "        #loss = criterion(outputs, targets)\n",
        "        loss = torch.mean(torch.abs(outputs - targets))\n",
        "        loss.backward()\n",
        "\n",
        "        optimizers[i].step()\n",
        "\n",
        "    #Take a step using SGD\n",
        "    #for optimizer in optimizers:\n",
        "    #  optimizer.step()\n",
        "\n",
        "    #Storing in replay\n",
        "    for i,replay in enumerate(replays):\n",
        "      if len(replay) >= maxReplay:\n",
        "        replay.append([s,[a[i]],r[i],sP,done[i]])\n",
        "        replay.pop(0)\n",
        "      else:\n",
        "        replay.append([s,[a[i]],r[i],sP,done[i]])\n",
        "\n",
        "    #Updating target Q if necessary\n",
        "    if step % copyInterval == 0:\n",
        "      Q_Targets = [copy.deepcopy(Q) for Q in Qs]\n",
        "\n",
        "    s = sP\n",
        "    rTracker += sum(r)\n",
        "  episode += 1\n",
        "  totalRewards.append(rTracker)\n",
        "  #print(episode,': ', rTracker)\n",
        "  #cumRewards.append(cumRewards[episode-1] + rTracker)\n",
        "  for agent in agents:\n",
        "      agent.update_eps((endEpsilon/epsilon)**(episode/numEpisodes))\n",
        "\n",
        "#policy = [int(agent.get_action(torch.tensor([[s]]).float())) for s in range(env.observation_space.n)]\n",
        "\n",
        "plt.plot([i for i in range(len(totalRewards))], totalRewards)\n",
        "plt.xlabel(\"Episode\")\n",
        "plt.ylabel(\"Total Reward\")\n",
        "#plt.plot([i for i in range(len(cumRewards))], cumRewards)\n",
        "plt.show()\n",
        "\n",
        "#Create and reset Deterministic Grid Environment\n",
        "env = gym.make('ma_gym:Switch2-v0')\n",
        "\n",
        "#Take random steps in environment until done\n",
        "for agent in agents:\n",
        "  agent.update_eps(0)\n",
        "s = env.reset()\n",
        "s = [element for sublist in s for element in sublist]\n",
        "done = [False for i in range(env.n_agents)]\n",
        "while not all(done):\n",
        "  a = [agent.get_action(torch.tensor([[s]]).float()) for agent in agents]\n",
        "  s, r, done, info = env.step(a)\n",
        "  s = [element for sublist in s for element in sublist]\n",
        "plt.imshow(env.render('rgb_array'))"
      ]
    },
    {
      "cell_type": "markdown",
      "metadata": {
        "id": "5l1ggKbPBjl2"
      },
      "source": [
        "## Switch 4 🎮 🎮 🎮 🎮"
      ]
    },
    {
      "cell_type": "markdown",
      "metadata": {
        "id": "s7PX3gN1M9YG"
      },
      "source": [
        "### NN Definition (Our Q-Approximation)"
      ]
    },
    {
      "cell_type": "code",
      "execution_count": null,
      "metadata": {
        "id": "1ZI8bWuaM9YG"
      },
      "outputs": [],
      "source": [
        "class Switch4Net(nn.Module):\n",
        "    def __init__(self, nAgents):\n",
        "        super().__init__()\n",
        "        self.fc1 = nn.Linear(nAgents*2, 100)\n",
        "        self.fc2 = nn.Linear(100, 50)\n",
        "        self.fc3 = nn.Linear(50, 5)\n",
        "\n",
        "    def forward(self, x):\n",
        "        x = F.relu(self.fc1(x))\n",
        "        x = F.relu(self.fc2(x))\n",
        "        x = self.fc3(x)\n",
        "        return x\n"
      ]
    },
    {
      "cell_type": "markdown",
      "metadata": {
        "id": "79yLj1rvM6VK"
      },
      "source": [
        "### Training"
      ]
    },
    {
      "cell_type": "code",
      "execution_count": null,
      "metadata": {
        "colab": {
          "base_uri": "https://localhost:8080/",
          "height": 1000
        },
        "id": "dgb9Avvvd5-X",
        "outputId": "4d57abe6-06e9-4e17-92a1-dbd0d1aedba4"
      },
      "outputs": [
        {
          "output_type": "stream",
          "name": "stderr",
          "text": [
            "/usr/local/lib/python3.7/dist-packages/gym/logger.py:34: UserWarning: \u001b[33mWARN: Box bound precision lowered by casting to float32\u001b[0m\n",
            "  warnings.warn(colorize(\"%s: %s\" % (\"WARN\", msg % args), \"yellow\"))\n"
          ]
        },
        {
          "output_type": "stream",
          "name": "stdout",
          "text": [
            "1 :  -19.999999999999993\n",
            "2 :  -19.999999999999993\n",
            "3 :  -19.999999999999993\n",
            "4 :  -19.999999999999993\n",
            "5 :  -13.600000000000016\n",
            "6 :  -19.999999999999993\n",
            "7 :  -19.999999999999993\n",
            "8 :  -19.999999999999993\n",
            "9 :  -14.500000000000002\n",
            "10 :  -19.999999999999993\n",
            "11 :  -19.999999999999993\n",
            "12 :  -19.999999999999993\n",
            "13 :  -13.000000000000016\n",
            "14 :  -19.999999999999993\n",
            "15 :  -19.999999999999993\n",
            "16 :  -19.999999999999993\n",
            "17 :  -14.799999999999997\n",
            "18 :  -19.999999999999993\n",
            "19 :  -19.999999999999993\n",
            "20 :  -19.999999999999993\n",
            "21 :  -12.900000000000016\n",
            "22 :  -19.999999999999993\n",
            "23 :  -14.500000000000004\n",
            "24 :  -19.999999999999993\n",
            "25 :  -14.200000000000008\n",
            "26 :  -19.999999999999993\n",
            "27 :  -19.999999999999993\n",
            "28 :  -19.999999999999993\n",
            "29 :  -19.999999999999993\n",
            "30 :  -19.999999999999993\n",
            "31 :  -19.999999999999993\n",
            "32 :  -19.999999999999993\n",
            "33 :  -19.999999999999993\n",
            "34 :  -19.999999999999993\n",
            "35 :  -19.999999999999993\n",
            "36 :  -19.999999999999993\n",
            "37 :  -19.999999999999993\n",
            "38 :  -13.600000000000016\n",
            "39 :  -14.300000000000006\n",
            "40 :  -19.999999999999993\n",
            "41 :  -19.999999999999993\n",
            "42 :  -19.999999999999993\n",
            "43 :  -19.999999999999993\n",
            "44 :  -19.999999999999993\n",
            "45 :  -14.000000000000012\n",
            "46 :  -19.999999999999993\n",
            "47 :  -13.000000000000016\n",
            "48 :  -19.999999999999993\n",
            "49 :  -19.999999999999993\n",
            "50 :  -19.999999999999993\n",
            "51 :  -11.800000000000006\n",
            "52 :  -12.600000000000014\n",
            "53 :  -19.999999999999993\n",
            "54 :  -19.999999999999993\n",
            "55 :  -7.600000000000015\n",
            "56 :  -19.999999999999993\n",
            "57 :  -13.000000000000016\n",
            "58 :  -19.999999999999993\n",
            "59 :  -12.000000000000007\n",
            "60 :  -13.200000000000017\n",
            "61 :  -14.20000000000001\n",
            "62 :  -19.999999999999993\n",
            "63 :  -19.999999999999993\n",
            "64 :  -19.999999999999993\n",
            "65 :  -19.999999999999993\n",
            "66 :  -19.999999999999993\n",
            "67 :  -19.999999999999993\n",
            "68 :  -19.999999999999993\n",
            "69 :  -13.100000000000017\n",
            "70 :  -12.900000000000016\n",
            "71 :  -12.600000000000014\n",
            "72 :  -13.400000000000016\n",
            "73 :  -19.999999999999993\n",
            "74 :  -12.100000000000009\n",
            "75 :  -14.400000000000004\n",
            "76 :  -13.400000000000016\n",
            "77 :  -19.999999999999993\n",
            "78 :  -19.999999999999993\n",
            "79 :  -19.999999999999993\n",
            "80 :  -19.999999999999993\n",
            "81 :  -19.999999999999993\n",
            "82 :  -19.999999999999993\n",
            "83 :  -13.300000000000018\n",
            "84 :  -19.999999999999993\n",
            "85 :  -7.500000000000012\n",
            "86 :  -13.200000000000017\n",
            "87 :  -19.999999999999993\n",
            "88 :  -19.999999999999993\n",
            "89 :  -19.999999999999993\n",
            "90 :  -19.999999999999993\n",
            "91 :  -19.999999999999993\n",
            "92 :  -13.500000000000018\n",
            "93 :  -13.600000000000016\n",
            "94 :  -19.999999999999993\n",
            "95 :  -13.500000000000016\n",
            "96 :  -12.700000000000014\n",
            "97 :  -19.999999999999993\n",
            "98 :  -19.999999999999993\n",
            "99 :  -19.999999999999993\n",
            "100 :  -19.999999999999993\n",
            "101 :  -14.300000000000006\n",
            "102 :  -19.999999999999993\n",
            "103 :  -14.799999999999995\n",
            "104 :  -13.900000000000016\n",
            "105 :  -12.900000000000016\n",
            "106 :  -19.999999999999993\n",
            "107 :  -19.999999999999993\n",
            "108 :  -19.999999999999993\n",
            "109 :  -11.900000000000007\n",
            "110 :  -12.000000000000007\n",
            "111 :  -14.20000000000001\n",
            "112 :  -19.999999999999993\n",
            "113 :  -19.999999999999993\n",
            "114 :  -19.999999999999993\n",
            "115 :  -19.999999999999993\n",
            "116 :  -14.200000000000008\n",
            "117 :  -11.600000000000005\n",
            "118 :  -14.799999999999995\n",
            "119 :  -13.300000000000018\n",
            "120 :  -19.999999999999993\n",
            "121 :  -6.700000000000009\n",
            "122 :  -11.700000000000006\n",
            "123 :  -19.999999999999993\n",
            "124 :  -14.000000000000014\n",
            "125 :  -19.999999999999993\n",
            "126 :  -19.999999999999993\n",
            "127 :  -13.700000000000015\n",
            "128 :  -11.700000000000006\n",
            "129 :  -13.700000000000015\n",
            "130 :  -8.700000000000014\n",
            "131 :  -13.100000000000017\n",
            "132 :  -12.200000000000008\n",
            "133 :  -14.300000000000006\n",
            "134 :  -14.300000000000008\n",
            "135 :  -19.999999999999993\n",
            "136 :  -11.100000000000003\n",
            "137 :  -13.900000000000015\n",
            "138 :  -19.999999999999993\n",
            "139 :  -12.400000000000011\n",
            "140 :  -19.999999999999993\n",
            "141 :  -14.000000000000014\n",
            "142 :  -19.999999999999993\n",
            "143 :  -13.500000000000016\n",
            "144 :  -4.100000000000002\n",
            "145 :  -19.999999999999993\n",
            "146 :  -19.999999999999993\n",
            "147 :  -12.000000000000007\n",
            "148 :  -19.999999999999993\n",
            "149 :  -14.20000000000001\n",
            "150 :  -19.999999999999993\n",
            "151 :  -14.799999999999995\n",
            "152 :  -12.900000000000015\n",
            "153 :  -12.700000000000014\n",
            "154 :  -14.400000000000004\n",
            "155 :  -4.900000000000002\n",
            "156 :  -13.900000000000015\n",
            "157 :  -14.899999999999993\n",
            "158 :  -19.999999999999993\n",
            "159 :  -14.899999999999993\n",
            "160 :  -19.999999999999993\n",
            "161 :  -11.700000000000006\n",
            "162 :  -7.900000000000013\n",
            "163 :  -13.600000000000016\n",
            "164 :  -4.3999999999999995\n",
            "165 :  -19.999999999999993\n",
            "166 :  -19.999999999999993\n",
            "167 :  -19.999999999999993\n",
            "168 :  -13.200000000000017\n",
            "169 :  -19.999999999999993\n",
            "170 :  -14.400000000000004\n",
            "171 :  -13.100000000000017\n",
            "172 :  -7.500000000000014\n",
            "173 :  -14.10000000000001\n",
            "174 :  -12.800000000000015\n",
            "175 :  -13.400000000000016\n",
            "176 :  -12.800000000000015\n",
            "177 :  -5.200000000000003\n",
            "178 :  -12.800000000000015\n",
            "179 :  -7.20000000000001\n",
            "180 :  -12.500000000000012\n",
            "181 :  -19.999999999999993\n",
            "182 :  -19.999999999999993\n",
            "183 :  -13.000000000000016\n",
            "184 :  -13.500000000000016\n",
            "185 :  -19.999999999999993\n",
            "186 :  -12.900000000000016\n",
            "187 :  -11.000000000000002\n",
            "188 :  -19.999999999999993\n",
            "189 :  -12.900000000000015\n",
            "190 :  -19.999999999999993\n",
            "191 :  -12.800000000000015\n",
            "192 :  -19.999999999999993\n",
            "193 :  -12.900000000000015\n",
            "194 :  -19.999999999999993\n",
            "195 :  -13.700000000000015\n",
            "196 :  -14.000000000000012\n",
            "197 :  -19.999999999999993\n",
            "198 :  -9.2\n",
            "199 :  -5.900000000000006\n",
            "200 :  -19.999999999999993\n",
            "201 :  -19.999999999999993\n",
            "202 :  -7.400000000000013\n",
            "203 :  -19.999999999999993\n",
            "204 :  -19.999999999999993\n",
            "205 :  1.4000000000000012\n",
            "206 :  -11.700000000000006\n",
            "207 :  -11.200000000000003\n",
            "208 :  -19.999999999999993\n",
            "209 :  -14.200000000000008\n",
            "210 :  -12.400000000000011\n",
            "211 :  -11.700000000000006\n",
            "212 :  -13.000000000000016\n",
            "213 :  -19.999999999999993\n",
            "214 :  -13.200000000000017\n",
            "215 :  -19.999999999999993\n",
            "216 :  -13.000000000000016\n",
            "217 :  -4.699999999999999\n",
            "218 :  -19.999999999999993\n",
            "219 :  -13.500000000000018\n",
            "220 :  -12.100000000000009\n",
            "221 :  -19.999999999999993\n",
            "222 :  -8.700000000000014\n",
            "223 :  -19.999999999999993\n",
            "224 :  -19.999999999999993\n",
            "225 :  -4.600000000000003\n",
            "226 :  -6.800000000000008\n",
            "227 :  -19.999999999999993\n",
            "228 :  -13.000000000000016\n",
            "229 :  -6.900000000000007\n",
            "230 :  -13.600000000000016\n",
            "231 :  -19.999999999999993\n",
            "232 :  -19.999999999999993\n",
            "233 :  -0.8000000000000049\n",
            "234 :  -19.999999999999993\n",
            "235 :  -14.100000000000012\n",
            "236 :  -14.500000000000002\n",
            "237 :  -6.100000000000005\n",
            "238 :  -19.999999999999993\n",
            "239 :  -7.500000000000012\n",
            "240 :  -19.999999999999993\n",
            "241 :  -13.300000000000018\n",
            "242 :  -19.999999999999993\n",
            "243 :  -19.999999999999993\n",
            "244 :  -19.999999999999993\n",
            "245 :  -6.200000000000002\n",
            "246 :  -19.999999999999993\n",
            "247 :  -12.30000000000001\n",
            "248 :  -10.800000000000002\n",
            "249 :  -6.800000000000007\n",
            "250 :  -7.800000000000015\n",
            "251 :  -12.600000000000012\n",
            "252 :  -19.999999999999993\n",
            "253 :  -11.100000000000003\n",
            "254 :  -14.6\n",
            "255 :  -6.400000000000004\n",
            "256 :  -14.400000000000004\n",
            "257 :  -19.999999999999993\n",
            "258 :  -19.999999999999993\n",
            "259 :  -2.6999999999999997\n",
            "260 :  -19.999999999999993\n",
            "261 :  -3.6999999999999984\n",
            "262 :  -14.20000000000001\n",
            "263 :  9.000000000000005\n",
            "264 :  -12.800000000000015\n",
            "265 :  -5.6\n",
            "266 :  -6.800000000000007\n",
            "267 :  -11.200000000000003\n",
            "268 :  -12.700000000000014\n",
            "269 :  -11.600000000000005\n",
            "270 :  -7.900000000000012\n",
            "271 :  -7.500000000000013\n",
            "272 :  -5.900000000000002\n",
            "273 :  -13.500000000000016\n",
            "274 :  -4.899999999999998\n",
            "275 :  -19.999999999999993\n",
            "276 :  -14.699999999999998\n",
            "277 :  -2.6999999999999997\n",
            "278 :  -13.400000000000016\n",
            "279 :  -19.999999999999993\n",
            "280 :  -7.500000000000014\n",
            "281 :  -19.999999999999993\n",
            "282 :  -11.600000000000005\n",
            "283 :  -9.100000000000001\n",
            "284 :  -11.300000000000004\n",
            "285 :  -8.200000000000012\n",
            "286 :  -14.699999999999998\n",
            "287 :  -7.400000000000012\n",
            "288 :  2.2000000000000015\n",
            "289 :  -14.799999999999995\n",
            "290 :  -6.300000000000004\n",
            "291 :  -12.20000000000001\n",
            "292 :  -1.500000000000008\n",
            "293 :  -5.7000000000000055\n",
            "294 :  -19.999999999999993\n",
            "295 :  0.8000000000000027\n",
            "296 :  -5.2\n",
            "297 :  -19.999999999999993\n",
            "298 :  -5.600000000000002\n",
            "299 :  -13.800000000000015\n",
            "300 :  1.7999999999999994\n",
            "301 :  -19.999999999999993\n",
            "302 :  -12.200000000000008\n",
            "303 :  10.100000000000007\n",
            "304 :  -14.600000000000001\n",
            "305 :  -12.100000000000009\n",
            "306 :  -11.000000000000002\n",
            "307 :  -8.400000000000011\n",
            "308 :  -3.999999999999999\n",
            "309 :  0.19999999999999804\n",
            "310 :  3.600000000000004\n",
            "311 :  -3.2999999999999985\n",
            "312 :  -0.7000000000000017\n",
            "313 :  -11.300000000000004\n",
            "314 :  -12.600000000000014\n",
            "315 :  -13.600000000000016\n",
            "316 :  -6.90000000000001\n",
            "317 :  -13.500000000000016\n",
            "318 :  -11.100000000000003\n",
            "319 :  -4.600000000000003\n",
            "320 :  -19.999999999999993\n",
            "321 :  -19.999999999999993\n",
            "322 :  0.2999999999999985\n",
            "323 :  -9.200000000000005\n",
            "324 :  0.6000000000000014\n",
            "325 :  -10.900000000000002\n",
            "326 :  -11.200000000000003\n",
            "327 :  -1.900000000000011\n",
            "328 :  2.200000000000002\n",
            "329 :  -0.4999999999999998\n",
            "330 :  -12.000000000000007\n",
            "331 :  -14.500000000000002\n",
            "332 :  7.700000000000001\n",
            "333 :  -13.700000000000017\n",
            "334 :  -14.200000000000008\n",
            "335 :  0.700000000000001\n",
            "336 :  2.7000000000000024\n",
            "337 :  6.1\n",
            "338 :  -12.300000000000011\n",
            "339 :  -19.999999999999993\n",
            "340 :  -14.799999999999995\n",
            "341 :  -19.999999999999993\n",
            "342 :  -11.900000000000007\n",
            "343 :  0.2999999999999985\n",
            "344 :  -13.700000000000015\n",
            "345 :  -13.300000000000018\n",
            "346 :  -13.500000000000016\n",
            "347 :  -13.400000000000016\n",
            "348 :  -19.999999999999993\n",
            "349 :  1.4000000000000026\n",
            "350 :  -19.999999999999993\n",
            "351 :  -0.900000000000001\n",
            "352 :  7.000000000000001\n",
            "353 :  -6.700000000000008\n",
            "354 :  -11.900000000000007\n",
            "355 :  -13.800000000000015\n",
            "356 :  -8.700000000000001\n",
            "357 :  -11.000000000000002\n",
            "358 :  -19.999999999999993\n",
            "359 :  -1.4000000000000101\n",
            "360 :  -8.000000000000012\n",
            "361 :  -19.999999999999993\n",
            "362 :  -14.500000000000002\n",
            "363 :  2.500000000000001\n",
            "364 :  1.7000000000000024\n",
            "365 :  -12.000000000000009\n",
            "366 :  4.599999999999994\n",
            "367 :  2.5000000000000018\n",
            "368 :  4.800000000000008\n",
            "369 :  -14.400000000000006\n",
            "370 :  -13.800000000000015\n",
            "371 :  1.3000000000000007\n",
            "372 :  -3.6000000000000085\n",
            "373 :  -6.200000000000006\n",
            "374 :  -7.500000000000013\n",
            "375 :  -6.400000000000003\n",
            "376 :  7.099999999999998\n",
            "377 :  -14.400000000000004\n",
            "378 :  3.8000000000000087\n",
            "379 :  -12.800000000000015\n",
            "380 :  0.49999999999999845\n",
            "381 :  3.9000000000000106\n",
            "382 :  2.400000000000002\n",
            "383 :  9.600000000000001\n",
            "384 :  10.600000000000003\n",
            "385 :  -11.300000000000004\n",
            "386 :  -6.100000000000003\n",
            "387 :  -7.900000000000012\n",
            "388 :  -19.999999999999993\n",
            "389 :  12.899999999999999\n",
            "390 :  11.100000000000003\n",
            "391 :  -7.600000000000013\n",
            "392 :  -4.699999999999999\n",
            "393 :  8.300000000000006\n",
            "394 :  -19.999999999999993\n",
            "395 :  -11.300000000000004\n",
            "396 :  -0.5000000000000009\n",
            "397 :  8.000000000000004\n",
            "398 :  -13.600000000000016\n",
            "399 :  -3.2999999999999985\n",
            "400 :  9.600000000000005\n",
            "401 :  -4.699999999999998\n",
            "402 :  -10.900000000000004\n",
            "403 :  -11.200000000000003\n",
            "404 :  1.4000000000000012\n",
            "405 :  -12.600000000000012\n",
            "406 :  -11.900000000000007\n",
            "407 :  -12.500000000000012\n",
            "408 :  -6.900000000000009\n",
            "409 :  -3.9000000000000012\n",
            "410 :  -9.399999999999997\n",
            "411 :  -12.300000000000011\n",
            "412 :  -12.000000000000007\n",
            "413 :  -11.400000000000004\n",
            "414 :  -11.700000000000006\n",
            "415 :  1.7999999999999998\n",
            "416 :  14.000000000000002\n",
            "417 :  -4.599999999999999\n",
            "418 :  -5.800000000000001\n",
            "419 :  -10.900000000000004\n",
            "420 :  -13.100000000000017\n",
            "421 :  4.700000000000008\n",
            "422 :  -14.500000000000004\n",
            "423 :  1.9\n",
            "424 :  10.800000000000004\n",
            "425 :  -7.7000000000000135\n",
            "426 :  -13.800000000000015\n",
            "427 :  -19.999999999999993\n",
            "428 :  -19.999999999999993\n",
            "429 :  4.6000000000000085\n",
            "430 :  8.200000000000003\n",
            "431 :  -14.799999999999995\n",
            "432 :  -19.999999999999993\n",
            "433 :  -19.999999999999993\n",
            "434 :  -19.999999999999993\n",
            "435 :  11.000000000000004\n",
            "436 :  8.200000000000003\n",
            "437 :  -13.400000000000016\n",
            "438 :  -4.599999999999998\n",
            "439 :  -2.7000000000000015\n",
            "440 :  -5.099999999999998\n",
            "441 :  -6.500000000000005\n",
            "442 :  -14.20000000000001\n",
            "443 :  2.6000000000000005\n",
            "444 :  9.400000000000002\n",
            "445 :  9.300000000000004\n",
            "446 :  -19.999999999999993\n",
            "447 :  -8.200000000000008\n",
            "448 :  -12.500000000000012\n",
            "449 :  11.800000000000006\n",
            "450 :  -14.600000000000001\n",
            "451 :  3.9000000000000017\n",
            "452 :  10.200000000000006\n",
            "453 :  -19.999999999999993\n",
            "454 :  -14.300000000000006\n",
            "455 :  -13.000000000000016\n",
            "456 :  -11.000000000000002\n",
            "457 :  9.300000000000002\n",
            "458 :  1.999999999999997\n",
            "459 :  6.400000000000004\n",
            "460 :  -10.600000000000003\n",
            "461 :  -0.6000000000000015\n",
            "462 :  -12.500000000000012\n",
            "463 :  -10.800000000000002\n",
            "464 :  -14.500000000000002\n",
            "465 :  3.2000000000000046\n",
            "466 :  -19.999999999999993\n",
            "467 :  -10.700000000000003\n",
            "468 :  -2.9000000000000004\n",
            "469 :  5.500000000000002\n",
            "470 :  -13.400000000000016\n",
            "471 :  -10.800000000000002\n",
            "472 :  -19.999999999999993\n",
            "473 :  11.900000000000004\n",
            "474 :  -11.000000000000002\n",
            "475 :  -7.5000000000000115\n",
            "476 :  -10.700000000000003\n",
            "477 :  -11.000000000000002\n",
            "478 :  -1.300000000000007\n",
            "479 :  -19.999999999999993\n",
            "480 :  -2.9000000000000097\n",
            "481 :  -10.800000000000002\n",
            "482 :  10.300000000000002\n",
            "483 :  7.100000000000001\n",
            "484 :  -19.999999999999993\n",
            "485 :  -11.200000000000003\n",
            "486 :  -10.800000000000002\n",
            "487 :  -4.400000000000001\n",
            "488 :  -19.999999999999993\n",
            "489 :  -4.499999999999999\n",
            "490 :  6.400000000000011\n",
            "491 :  -19.999999999999993\n",
            "492 :  -5.700000000000004\n",
            "493 :  -14.000000000000014\n",
            "494 :  -0.19999999999999787\n",
            "495 :  6.100000000000002\n",
            "496 :  -19.999999999999993\n",
            "497 :  -19.999999999999993\n",
            "498 :  -8.899999999999999\n",
            "499 :  -19.999999999999993\n",
            "500 :  0.7000000000000027\n",
            "501 :  -19.999999999999993\n",
            "502 :  3.900000000000007\n",
            "503 :  -14.200000000000008\n",
            "504 :  -19.999999999999993\n",
            "505 :  -8.300000000000015\n",
            "506 :  2.400000000000001\n",
            "507 :  -11.200000000000003\n",
            "508 :  -11.900000000000007\n",
            "509 :  -3.7000000000000015\n",
            "510 :  2.200000000000002\n",
            "511 :  -19.999999999999993\n",
            "512 :  -14.899999999999993\n",
            "513 :  -19.999999999999993\n",
            "514 :  -5.6\n",
            "515 :  -6.300000000000003\n",
            "516 :  -7.000000000000011\n",
            "517 :  -19.999999999999993\n",
            "518 :  -19.999999999999993\n",
            "519 :  -8.300000000000004\n",
            "520 :  -19.999999999999993\n",
            "521 :  1.200000000000002\n",
            "522 :  -19.999999999999993\n",
            "523 :  0.4000000000000006\n",
            "524 :  -11.300000000000004\n",
            "525 :  -4.600000000000002\n",
            "526 :  -19.999999999999993\n",
            "527 :  -4.199999999999998\n",
            "528 :  -11.200000000000003\n",
            "529 :  -10.700000000000003\n",
            "530 :  -11.800000000000006\n",
            "531 :  -11.600000000000005\n",
            "532 :  -8.200000000000014\n",
            "533 :  -11.700000000000006\n",
            "534 :  -12.100000000000009\n",
            "535 :  5.3\n",
            "536 :  -14.000000000000012\n",
            "537 :  4.300000000000006\n",
            "538 :  1.1999999999999993\n",
            "539 :  -2.700000000000008\n",
            "540 :  -19.999999999999993\n",
            "541 :  -11.100000000000003\n",
            "542 :  -5.1999999999999975\n",
            "543 :  -11.900000000000007\n",
            "544 :  4.200000000000009\n",
            "545 :  -4.599999999999998\n",
            "546 :  2.5000000000000013\n",
            "547 :  -13.700000000000017\n",
            "548 :  0.8000000000000009\n",
            "549 :  9.0\n",
            "550 :  -11.700000000000006\n",
            "551 :  -14.699999999999998\n",
            "552 :  -0.8000000000000059\n",
            "553 :  -7.00000000000001\n",
            "554 :  -19.999999999999993\n",
            "555 :  2.9000000000000026\n",
            "556 :  -19.999999999999993\n",
            "557 :  -7.000000000000011\n",
            "558 :  -11.800000000000006\n",
            "559 :  -19.999999999999993\n",
            "560 :  -13.800000000000015\n",
            "561 :  -4.599999999999998\n",
            "562 :  8.300000000000002\n",
            "563 :  0.899999999999997\n",
            "564 :  2.3000000000000007\n",
            "565 :  5.400000000000011\n",
            "566 :  -19.999999999999993\n",
            "567 :  4.100000000000006\n",
            "568 :  -12.000000000000007\n",
            "569 :  6.1999999999999975\n",
            "570 :  5.4\n",
            "571 :  5.199999999999995\n",
            "572 :  -14.400000000000004\n",
            "573 :  10.200000000000005\n",
            "574 :  -1.1000000000000072\n",
            "575 :  1.3000000000000007\n",
            "576 :  -10.800000000000002\n",
            "577 :  -11.000000000000002\n",
            "578 :  -1.4000000000000092\n",
            "579 :  2.5\n",
            "580 :  -11.900000000000007\n",
            "581 :  3.3000000000000056\n",
            "582 :  -4.400000000000001\n",
            "583 :  -2.8999999999999995\n",
            "584 :  -2.6999999999999997\n",
            "585 :  -19.999999999999993\n",
            "586 :  -4.000000000000001\n",
            "587 :  -0.9000000000000025\n",
            "588 :  8.899999999999999\n",
            "589 :  -4.100000000000001\n",
            "590 :  -10.600000000000003\n",
            "591 :  -8.40000000000001\n",
            "592 :  9.300000000000004\n",
            "593 :  -5.500000000000001\n",
            "594 :  9.000000000000004\n",
            "595 :  -2.3000000000000003\n",
            "596 :  -3.9000000000000012\n",
            "597 :  13.200000000000003\n",
            "598 :  -5.800000000000003\n",
            "599 :  -2.858824288409778e-15\n",
            "600 :  3.0000000000000044\n",
            "601 :  -7.400000000000013\n",
            "602 :  4.300000000000007\n",
            "603 :  13.200000000000003\n",
            "604 :  8.600000000000001\n",
            "605 :  -8.500000000000014\n",
            "606 :  -12.400000000000011\n",
            "607 :  -5.0\n",
            "608 :  11.600000000000001\n",
            "609 :  -0.7000000000000014\n",
            "610 :  -5.499999999999998\n",
            "611 :  9.000000000000004\n",
            "612 :  -19.999999999999993\n",
            "613 :  7.499999999999998\n",
            "614 :  -19.999999999999993\n",
            "615 :  8.600000000000001\n",
            "616 :  -19.999999999999993\n",
            "617 :  10.900000000000004\n",
            "618 :  -19.999999999999993\n",
            "619 :  2.400000000000001\n",
            "620 :  3.1\n",
            "621 :  11.000000000000004\n",
            "622 :  -10.800000000000002\n",
            "623 :  -12.30000000000001\n",
            "624 :  4.600000000000003\n",
            "625 :  -0.6000000000000046\n",
            "626 :  -19.999999999999993\n",
            "627 :  -7.800000000000009\n",
            "628 :  6.3\n",
            "629 :  10.400000000000006\n",
            "630 :  -19.999999999999993\n",
            "631 :  -12.600000000000012\n",
            "632 :  0.29999999999999893\n",
            "633 :  10.100000000000005\n",
            "634 :  7.700000000000001\n",
            "635 :  -13.200000000000017\n",
            "636 :  -7.20000000000001\n",
            "637 :  -12.500000000000012\n",
            "638 :  12.200000000000008\n",
            "639 :  -6.200000000000005\n",
            "640 :  -13.700000000000015\n",
            "641 :  -8.40000000000001\n",
            "642 :  -12.500000000000012\n",
            "643 :  -4.499999999999998\n",
            "644 :  -19.999999999999993\n",
            "645 :  -0.5000000000000033\n",
            "646 :  -0.40000000000000446\n",
            "647 :  11.500000000000004\n",
            "648 :  4.0999999999999925\n",
            "649 :  9.200000000000003\n",
            "650 :  2.500000000000002\n",
            "651 :  -19.999999999999993\n",
            "652 :  -19.999999999999993\n",
            "653 :  -19.999999999999993\n",
            "654 :  -19.999999999999993\n",
            "655 :  -7.7000000000000135\n",
            "656 :  12.100000000000005\n",
            "657 :  -11.400000000000004\n",
            "658 :  -6.800000000000009\n",
            "659 :  8.200000000000003\n",
            "660 :  9.300000000000004\n",
            "661 :  -8.600000000000014\n",
            "662 :  5.099999999999996\n",
            "663 :  -14.300000000000006\n",
            "664 :  10.200000000000006\n",
            "665 :  8.5\n",
            "666 :  -4.9999999999999964\n",
            "667 :  10.500000000000005\n",
            "668 :  10.900000000000004\n",
            "669 :  13.400000000000002\n",
            "670 :  -5.200000000000004\n",
            "671 :  -13.400000000000016\n",
            "672 :  -3.0000000000000004\n",
            "673 :  -9.200000000000001\n",
            "674 :  8.899999999999999\n",
            "675 :  12.000000000000005\n",
            "676 :  9.100000000000005\n",
            "677 :  4.099999999999989\n",
            "678 :  -19.999999999999993\n",
            "679 :  8.2\n",
            "680 :  -14.799999999999995\n",
            "681 :  -19.999999999999993\n",
            "682 :  -13.900000000000015\n",
            "683 :  -19.999999999999993\n",
            "684 :  -14.899999999999993\n",
            "685 :  -19.999999999999993\n",
            "686 :  -19.999999999999993\n",
            "687 :  -12.600000000000012\n",
            "688 :  -10.900000000000002\n",
            "689 :  10.000000000000004\n",
            "690 :  9.8\n",
            "691 :  -19.999999999999993\n",
            "692 :  7.500000000000001\n",
            "693 :  -9.599999999999996\n",
            "694 :  7.8\n",
            "695 :  -19.999999999999993\n",
            "696 :  -11.400000000000004\n",
            "697 :  -3.1999999999999993\n",
            "698 :  -19.999999999999993\n",
            "699 :  -19.999999999999993\n",
            "700 :  3.299999999999999\n",
            "701 :  7.6\n",
            "702 :  -0.39999999999999925\n",
            "703 :  9.600000000000005\n",
            "704 :  -4.200000000000001\n",
            "705 :  -19.999999999999993\n",
            "706 :  -5.900000000000001\n",
            "707 :  -10.900000000000002\n",
            "708 :  10.100000000000001\n",
            "709 :  -19.999999999999993\n",
            "710 :  -19.999999999999993\n",
            "711 :  -3.2000000000000006\n",
            "712 :  -19.999999999999993\n",
            "713 :  8.2\n",
            "714 :  -14.100000000000012\n",
            "715 :  -19.999999999999993\n",
            "716 :  -13.700000000000015\n",
            "717 :  -5.200000000000003\n",
            "718 :  -6.900000000000009\n",
            "719 :  4.200000000000009\n",
            "720 :  -19.999999999999993\n",
            "721 :  -19.999999999999993\n",
            "722 :  -1.70000000000001\n",
            "723 :  -8.700000000000012\n",
            "724 :  -11.100000000000003\n",
            "725 :  -11.700000000000006\n",
            "726 :  8.600000000000001\n",
            "727 :  11.000000000000009\n",
            "728 :  -10.900000000000002\n",
            "729 :  9.600000000000001\n",
            "730 :  10.200000000000006\n",
            "731 :  2.7000000000000006\n",
            "732 :  9.500000000000005\n",
            "733 :  7.200000000000004\n",
            "734 :  -8.50000000000001\n",
            "735 :  8.900000000000007\n",
            "736 :  10.600000000000001\n",
            "737 :  -4.900000000000002\n",
            "738 :  -13.400000000000016\n",
            "739 :  7.000000000000001\n",
            "740 :  13.600000000000003\n",
            "741 :  -19.999999999999993\n",
            "742 :  -19.999999999999993\n",
            "743 :  9.400000000000002\n",
            "744 :  13.000000000000004\n",
            "745 :  -11.200000000000003\n",
            "746 :  -19.999999999999993\n",
            "747 :  -2.5000000000000004\n",
            "748 :  8.2\n",
            "749 :  -1.0000000000000053\n",
            "750 :  2.0999999999999988\n",
            "751 :  -2.600000000000001\n",
            "752 :  -6.100000000000002\n",
            "753 :  -19.999999999999993\n",
            "754 :  -9.599999999999998\n",
            "755 :  -4.399999999999999\n",
            "756 :  -19.999999999999993\n",
            "757 :  -11.800000000000006\n",
            "758 :  -12.500000000000012\n",
            "759 :  -2.0000000000000004\n",
            "760 :  -3.299999999999999\n",
            "761 :  -1.7000000000000017\n",
            "762 :  -2.7999999999999994\n",
            "763 :  -3.399999999999999\n",
            "764 :  -13.900000000000015\n",
            "765 :  0.9999999999999996\n",
            "766 :  -6.300000000000005\n",
            "767 :  -14.600000000000001\n",
            "768 :  -19.999999999999993\n",
            "769 :  -19.999999999999993\n",
            "770 :  -19.999999999999993\n",
            "771 :  5.2999999999999945\n",
            "772 :  -0.2000000000000025\n",
            "773 :  4.3000000000000105\n",
            "774 :  5.800000000000011\n",
            "775 :  -8.200000000000005\n",
            "776 :  -19.999999999999993\n",
            "777 :  -14.10000000000001\n",
            "778 :  -19.999999999999993\n",
            "779 :  -0.8000000000000065\n",
            "780 :  -19.999999999999993\n",
            "781 :  8.0\n",
            "782 :  -12.000000000000007\n",
            "783 :  -19.999999999999993\n",
            "784 :  -2.2000000000000006\n",
            "785 :  5.800000000000003\n",
            "786 :  -19.999999999999993\n",
            "787 :  -8.500000000000004\n",
            "788 :  -7.40000000000001\n",
            "789 :  -6.80000000000001\n",
            "790 :  1.0999999999999988\n",
            "791 :  -12.600000000000014\n",
            "792 :  -3.4000000000000017\n",
            "793 :  10.400000000000002\n",
            "794 :  6.700000000000003\n",
            "795 :  -4.199999999999999\n",
            "796 :  -10.700000000000003\n",
            "797 :  -7.5000000000000115\n",
            "798 :  7.599999999999998\n",
            "799 :  -14.6\n",
            "800 :  12.100000000000001\n",
            "801 :  -4.700000000000003\n",
            "802 :  -2.6999999999999997\n",
            "803 :  -19.999999999999993\n",
            "804 :  -10.700000000000003\n",
            "805 :  12.000000000000004\n",
            "806 :  13.000000000000007\n",
            "807 :  12.900000000000004\n",
            "808 :  7.700000000000001\n",
            "809 :  -3.1999999999999993\n",
            "810 :  14.800000000000004\n",
            "811 :  11.3\n",
            "812 :  10.400000000000011\n",
            "813 :  2.8000000000000043\n",
            "814 :  9.400000000000004\n",
            "815 :  12.800000000000004\n",
            "816 :  -19.999999999999993\n",
            "817 :  9.000000000000007\n",
            "818 :  -0.5000000000000053\n",
            "819 :  -7.60000000000001\n",
            "820 :  -10.600000000000003\n",
            "821 :  -13.800000000000015\n",
            "822 :  10.000000000000002\n",
            "823 :  -2.0000000000000004\n",
            "824 :  -2.6\n",
            "825 :  13.800000000000006\n",
            "826 :  -4.200000000000001\n",
            "827 :  13.900000000000006\n",
            "828 :  1.2999999999999998\n",
            "829 :  2.300000000000001\n",
            "830 :  12.700000000000001\n",
            "831 :  13.700000000000003\n",
            "832 :  1.7000000000000037\n",
            "833 :  14.800000000000004\n",
            "834 :  11.400000000000002\n",
            "835 :  11.600000000000005\n",
            "836 :  13.200000000000005\n",
            "837 :  -6.000000000000003\n",
            "838 :  4.399999999999995\n",
            "839 :  -10.700000000000003\n",
            "840 :  9.2\n",
            "841 :  11.200000000000003\n",
            "842 :  10.200000000000001\n",
            "843 :  10.900000000000002\n",
            "844 :  6.700000000000004\n",
            "845 :  12.400000000000004\n",
            "846 :  13.100000000000003\n",
            "847 :  12.900000000000004\n",
            "848 :  6.999999999999998\n",
            "849 :  -4.200000000000001\n",
            "850 :  -1.1000000000000072\n",
            "851 :  12.400000000000002\n",
            "852 :  -2.8999999999999995\n",
            "853 :  -14.400000000000004\n",
            "854 :  11.400000000000002\n",
            "855 :  1.6000000000000028\n",
            "856 :  -19.999999999999993\n",
            "857 :  -5.700000000000004\n",
            "858 :  3.900000000000006\n",
            "859 :  11.800000000000004\n",
            "860 :  3.6000000000000076\n",
            "861 :  -19.999999999999993\n",
            "862 :  12.200000000000003\n",
            "863 :  13.800000000000002\n",
            "864 :  13.400000000000006\n",
            "865 :  9.900000000000006\n",
            "866 :  14.000000000000004\n",
            "867 :  11.600000000000001\n",
            "868 :  -6.2000000000000055\n",
            "869 :  11.200000000000003\n",
            "870 :  -11.900000000000007\n",
            "871 :  10.60000000000001\n",
            "872 :  -2.5000000000000004\n",
            "873 :  9.800000000000004\n",
            "874 :  9.400000000000002\n",
            "875 :  14.500000000000004\n",
            "876 :  -1.9000000000000008\n",
            "877 :  -11.700000000000006\n",
            "878 :  -2.1\n",
            "879 :  14.800000000000004\n",
            "880 :  12.7\n",
            "881 :  -1.8000000000000012\n",
            "882 :  9.600000000000001\n",
            "883 :  14.600000000000003\n",
            "884 :  12.100000000000001\n",
            "885 :  6.899999999999999\n",
            "886 :  12.200000000000003\n",
            "887 :  13.200000000000003\n",
            "888 :  5.599999999999997\n",
            "889 :  13.000000000000004\n",
            "890 :  5.899999999999997\n",
            "891 :  -5.700000000000004\n",
            "892 :  -19.999999999999993\n",
            "893 :  3.6999999999999993\n",
            "894 :  -19.999999999999993\n",
            "895 :  7.4\n",
            "896 :  12.200000000000001\n",
            "897 :  1.7000000000000033\n",
            "898 :  -19.999999999999993\n",
            "899 :  -0.700000000000006\n",
            "900 :  -10.900000000000002\n",
            "901 :  12.600000000000003\n",
            "902 :  13.100000000000007\n",
            "903 :  4.70000000000001\n",
            "904 :  -14.300000000000006\n",
            "905 :  11.200000000000003\n",
            "906 :  12.700000000000003\n",
            "907 :  12.900000000000004\n",
            "908 :  13.500000000000004\n",
            "909 :  -10.600000000000003\n",
            "910 :  -4.5000000000000036\n",
            "911 :  10.300000000000006\n",
            "912 :  5.700000000000003\n",
            "913 :  10.200000000000003\n",
            "914 :  -4.6\n",
            "915 :  -7.500000000000011\n",
            "916 :  11.700000000000001\n",
            "917 :  14.200000000000003\n",
            "918 :  9.600000000000001\n",
            "919 :  -13.800000000000015\n",
            "920 :  14.100000000000003\n",
            "921 :  3.8000000000000087\n",
            "922 :  13.600000000000003\n",
            "923 :  14.100000000000003\n",
            "924 :  11.400000000000006\n",
            "925 :  12.700000000000005\n",
            "926 :  -4.6000000000000005\n",
            "927 :  0.5000000000000019\n",
            "928 :  5.000000000000009\n",
            "929 :  11.200000000000003\n",
            "930 :  -9.0\n",
            "931 :  -1.9000000000000008\n",
            "932 :  -2.0000000000000004\n",
            "933 :  11.700000000000003\n",
            "934 :  13.800000000000002\n",
            "935 :  -19.999999999999993\n",
            "936 :  -2.1\n",
            "937 :  15.000000000000004\n",
            "938 :  -19.999999999999993\n",
            "939 :  11.600000000000003\n",
            "940 :  -2.1000000000000103\n",
            "941 :  -4.6000000000000005\n",
            "942 :  -3.400000000000008\n",
            "943 :  14.700000000000003\n",
            "944 :  -2.6999999999999997\n",
            "945 :  -19.999999999999993\n",
            "946 :  -2.0000000000000004\n",
            "947 :  3.3000000000000065\n",
            "948 :  -10.600000000000003\n",
            "949 :  -12.800000000000015\n",
            "950 :  -1.5000000000000087\n",
            "951 :  -8.500000000000002\n",
            "952 :  3.9000000000000097\n",
            "953 :  0.5000000000000041\n",
            "954 :  6.100000000000012\n",
            "955 :  6.500000000000014\n",
            "956 :  6.900000000000015\n",
            "957 :  6.399999999999999\n",
            "958 :  14.300000000000004\n",
            "959 :  14.200000000000005\n",
            "960 :  12.900000000000002\n",
            "961 :  14.100000000000005\n",
            "962 :  10.5\n",
            "963 :  1.7000000000000033\n",
            "964 :  14.400000000000006\n",
            "965 :  13.700000000000005\n",
            "966 :  -12.500000000000012\n",
            "967 :  15.000000000000004\n",
            "968 :  9.400000000000004\n",
            "969 :  14.100000000000003\n",
            "970 :  13.000000000000005\n",
            "971 :  -1.9000000000000008\n",
            "972 :  -8.30000000000001\n",
            "973 :  1.1\n",
            "974 :  9.300000000000004\n",
            "975 :  14.400000000000006\n",
            "976 :  14.100000000000003\n",
            "977 :  0.7000000000000032\n",
            "978 :  13.500000000000004\n",
            "979 :  14.100000000000005\n",
            "980 :  -1.8000000000000012\n",
            "981 :  11.400000000000015\n",
            "982 :  13.900000000000002\n",
            "983 :  14.600000000000005\n",
            "984 :  -19.999999999999993\n",
            "985 :  14.000000000000002\n",
            "986 :  -19.999999999999993\n",
            "987 :  10.600000000000001\n",
            "988 :  -14.500000000000002\n",
            "989 :  -13.300000000000017\n",
            "990 :  -13.900000000000015\n",
            "991 :  14.000000000000007\n",
            "992 :  10.30000000000001\n",
            "993 :  11.000000000000004\n",
            "994 :  -11.800000000000006\n",
            "995 :  -19.999999999999993\n",
            "996 :  -11.100000000000003\n",
            "997 :  11.900000000000002\n",
            "998 :  -19.999999999999993\n",
            "999 :  11.000000000000004\n",
            "1000 :  5.000000000000011\n",
            "1001 :  -2.100000000000001\n",
            "1002 :  13.600000000000005\n",
            "1003 :  14.700000000000003\n",
            "1004 :  -6.300000000000006\n",
            "1005 :  6.600000000000014\n",
            "1006 :  13.700000000000003\n",
            "1007 :  -2.0000000000000004\n",
            "1008 :  7.800000000000001\n",
            "1009 :  14.200000000000005\n",
            "1010 :  14.300000000000004\n",
            "1011 :  13.800000000000002\n",
            "1012 :  13.900000000000006\n",
            "1013 :  14.700000000000003\n",
            "1014 :  14.800000000000004\n",
            "1015 :  13.500000000000004\n",
            "1016 :  14.200000000000005\n",
            "1017 :  13.900000000000004\n",
            "1018 :  13.800000000000004\n",
            "1019 :  -19.999999999999993\n",
            "1020 :  11.80000000000001\n",
            "1021 :  6.700000000000015\n",
            "1022 :  12.800000000000002\n",
            "1023 :  -12.200000000000008\n",
            "1024 :  12.000000000000002\n",
            "1025 :  14.300000000000004\n",
            "1026 :  14.600000000000003\n",
            "1027 :  13.000000000000009\n",
            "1028 :  14.800000000000004\n",
            "1029 :  14.900000000000004\n",
            "1030 :  8.200000000000001\n",
            "1031 :  14.300000000000004\n",
            "1032 :  15.100000000000003\n",
            "1033 :  8.3\n",
            "1034 :  14.000000000000004\n",
            "1035 :  13.200000000000003\n",
            "1036 :  -19.999999999999993\n",
            "1037 :  -2.5000000000000004\n",
            "1038 :  -1.8000000000000012\n",
            "1039 :  6.500000000000014\n",
            "1040 :  15.000000000000004\n",
            "1041 :  -10.600000000000003\n",
            "1042 :  -10.900000000000002\n",
            "1043 :  -2.4\n",
            "1044 :  15.100000000000003\n",
            "1045 :  14.700000000000003\n",
            "1046 :  -14.400000000000004\n",
            "1047 :  8.700000000000003\n",
            "1048 :  15.200000000000003\n",
            "1049 :  14.500000000000004\n",
            "1050 :  14.900000000000004\n",
            "1051 :  13.30000000000001\n",
            "1052 :  14.500000000000005\n",
            "1053 :  13.100000000000009\n",
            "1054 :  14.900000000000004\n",
            "1055 :  14.800000000000004\n",
            "1056 :  -19.999999999999993\n",
            "1057 :  12.300000000000004\n",
            "1058 :  13.00000000000001\n",
            "1059 :  11.500000000000014\n",
            "1060 :  -2.6000000000000103\n",
            "1061 :  14.500000000000004\n",
            "1062 :  13.3\n",
            "1063 :  14.300000000000004\n",
            "1064 :  15.000000000000004\n",
            "1065 :  14.900000000000004\n",
            "1066 :  13.800000000000006\n",
            "1067 :  14.100000000000005\n",
            "1068 :  14.900000000000004\n",
            "1069 :  14.500000000000004\n",
            "1070 :  11.000000000000002\n",
            "1071 :  14.800000000000002\n",
            "1072 :  13.900000000000004\n",
            "1073 :  14.000000000000002\n",
            "1074 :  13.600000000000003\n",
            "1075 :  14.100000000000005\n",
            "1076 :  10.900000000000004\n",
            "1077 :  9.100000000000001\n",
            "1078 :  14.700000000000005\n",
            "1079 :  2.999999999999991\n",
            "1080 :  12.200000000000014\n",
            "1081 :  14.700000000000003\n",
            "1082 :  13.900000000000004\n",
            "1083 :  13.300000000000004\n",
            "1084 :  3.3\n",
            "1085 :  14.300000000000004\n",
            "1086 :  13.800000000000004\n",
            "1087 :  14.200000000000003\n",
            "1088 :  15.000000000000004\n",
            "1089 :  14.700000000000005\n",
            "1090 :  14.800000000000002\n",
            "1091 :  14.400000000000004\n",
            "1092 :  14.200000000000005\n",
            "1093 :  13.900000000000004\n",
            "1094 :  14.300000000000004\n",
            "1095 :  -3.7000000000000064\n",
            "1096 :  14.700000000000005\n",
            "1097 :  14.400000000000004\n",
            "1098 :  -2.3000000000000003\n",
            "1099 :  14.100000000000005\n",
            "1100 :  14.600000000000005\n",
            "1101 :  13.500000000000004\n",
            "1102 :  14.100000000000003\n",
            "1103 :  14.800000000000004\n",
            "1104 :  14.500000000000005\n",
            "1105 :  14.700000000000005\n",
            "1106 :  14.800000000000002\n",
            "1107 :  14.600000000000003\n",
            "1108 :  15.000000000000002\n",
            "1109 :  15.000000000000004\n",
            "1110 :  3.2\n",
            "1111 :  14.900000000000004\n",
            "1112 :  14.000000000000002\n",
            "1113 :  14.600000000000005\n",
            "1114 :  14.300000000000004\n",
            "1115 :  6.500000000000012\n",
            "1116 :  14.000000000000005\n",
            "1117 :  0.6000000000000036\n",
            "1118 :  14.300000000000004\n",
            "1119 :  14.300000000000004\n",
            "1120 :  -2.0000000000000098\n",
            "1121 :  14.500000000000004\n",
            "1122 :  13.200000000000005\n",
            "1123 :  14.400000000000004\n",
            "1124 :  14.800000000000004\n",
            "1125 :  14.900000000000004\n",
            "1126 :  13.100000000000003\n",
            "1127 :  14.800000000000004\n",
            "1128 :  14.600000000000005\n",
            "1129 :  14.400000000000006\n",
            "1130 :  14.400000000000004\n",
            "1131 :  -14.400000000000004\n",
            "1132 :  5.600000000000008\n",
            "1133 :  -2.9999999999999996\n",
            "1134 :  14.100000000000003\n",
            "1135 :  13.300000000000004\n",
            "1136 :  9.30000000000001\n",
            "1137 :  -3.0999999999999996\n",
            "1138 :  13.900000000000004\n",
            "1139 :  -19.999999999999993\n",
            "1140 :  13.900000000000004\n",
            "1141 :  14.100000000000003\n",
            "1142 :  12.800000000000004\n",
            "1143 :  15.200000000000003\n",
            "1144 :  14.800000000000004\n",
            "1145 :  15.000000000000004\n",
            "1146 :  13.200000000000005\n",
            "1147 :  4.600000000000011\n",
            "1148 :  12.90000000000001\n",
            "1149 :  14.600000000000005\n",
            "1150 :  14.700000000000005\n",
            "1151 :  12.500000000000005\n",
            "1152 :  14.500000000000004\n",
            "1153 :  13.400000000000004\n",
            "1154 :  15.200000000000003\n",
            "1155 :  15.100000000000003\n",
            "1156 :  3.0999999999999908\n",
            "1157 :  14.400000000000004\n",
            "1158 :  14.500000000000004\n",
            "1159 :  12.500000000000012\n",
            "1160 :  -1.8000000000000012\n",
            "1161 :  10.000000000000005\n",
            "1162 :  -19.999999999999993\n",
            "1163 :  -10.600000000000003\n",
            "1164 :  -10.600000000000003\n",
            "1165 :  12.000000000000014\n",
            "1166 :  -19.999999999999993\n",
            "1167 :  12.700000000000003\n",
            "1168 :  14.700000000000003\n",
            "1169 :  -2.1\n",
            "1170 :  14.800000000000004\n",
            "1171 :  13.9\n",
            "1172 :  12.800000000000002\n",
            "1173 :  14.300000000000004\n",
            "1174 :  11.400000000000002\n",
            "1175 :  14.700000000000003\n",
            "1176 :  13.800000000000004\n",
            "1177 :  13.900000000000002\n",
            "1178 :  12.800000000000002\n",
            "1179 :  3.6000000000000014\n",
            "1180 :  13.000000000000004\n",
            "1181 :  13.800000000000002\n",
            "1182 :  -10.600000000000003\n",
            "1183 :  14.400000000000004\n",
            "1184 :  13.800000000000004\n",
            "1185 :  14.600000000000005\n",
            "1186 :  13.600000000000005\n",
            "1187 :  14.500000000000004\n",
            "1188 :  13.900000000000004\n",
            "1189 :  14.500000000000004\n",
            "1190 :  15.200000000000003\n",
            "1191 :  15.200000000000003\n",
            "1192 :  15.000000000000004\n",
            "1193 :  15.200000000000003\n",
            "1194 :  11.400000000000002\n",
            "1195 :  8.800000000000004\n",
            "1196 :  14.900000000000002\n",
            "1197 :  14.700000000000003\n",
            "1198 :  15.200000000000003\n",
            "1199 :  -10.700000000000003\n",
            "1200 :  15.200000000000003\n",
            "1201 :  6.600000000000014\n",
            "1202 :  7.000000000000014\n",
            "1203 :  14.400000000000004\n",
            "1204 :  14.300000000000004\n",
            "1205 :  14.800000000000004\n",
            "1206 :  14.600000000000003\n",
            "1207 :  15.000000000000004\n",
            "1208 :  13.200000000000003\n",
            "1209 :  14.500000000000004\n",
            "1210 :  15.000000000000004\n",
            "1211 :  14.900000000000002\n",
            "1212 :  14.600000000000001\n",
            "1213 :  -5.500000000000002\n",
            "1214 :  -2.0000000000000004\n",
            "1215 :  -1.7000000000000017\n",
            "1216 :  12.300000000000008\n",
            "1217 :  12.00000000000001\n",
            "1218 :  14.600000000000003\n",
            "1219 :  14.500000000000004\n",
            "1220 :  14.000000000000004\n",
            "1221 :  -19.999999999999993\n",
            "1222 :  14.900000000000004\n",
            "1223 :  3.900000000000008\n",
            "1224 :  13.600000000000009\n",
            "1225 :  -12.400000000000011\n",
            "1226 :  15.200000000000003\n",
            "1227 :  14.100000000000005\n",
            "1228 :  14.600000000000003\n",
            "1229 :  13.500000000000005\n",
            "1230 :  13.900000000000004\n",
            "1231 :  13.900000000000004\n",
            "1232 :  15.200000000000003\n",
            "1233 :  15.200000000000003\n",
            "1234 :  15.100000000000003\n",
            "1235 :  13.600000000000003\n",
            "1236 :  15.100000000000003\n",
            "1237 :  14.400000000000002\n",
            "1238 :  14.900000000000002\n",
            "1239 :  14.800000000000004\n",
            "1240 :  -10.600000000000003\n",
            "1241 :  14.200000000000003\n",
            "1242 :  14.700000000000003\n",
            "1243 :  -1.200000000000005\n",
            "1244 :  -10.700000000000003\n",
            "1245 :  14.600000000000003\n",
            "1246 :  14.900000000000004\n",
            "1247 :  15.100000000000003\n",
            "1248 :  14.800000000000004\n",
            "1249 :  15.000000000000004\n",
            "1250 :  -1.7000000000000017\n",
            "1251 :  -2.3000000000000003\n",
            "1252 :  15.000000000000004\n",
            "1253 :  13.900000000000004\n",
            "1254 :  14.900000000000002\n",
            "1255 :  15.000000000000004\n",
            "1256 :  14.800000000000004\n",
            "1257 :  15.200000000000003\n",
            "1258 :  -14.200000000000008\n",
            "1259 :  6.400000000000011\n",
            "1260 :  14.400000000000002\n",
            "1261 :  14.900000000000002\n",
            "1262 :  14.600000000000003\n",
            "1263 :  15.000000000000004\n",
            "1264 :  14.800000000000002\n",
            "1265 :  14.100000000000003\n",
            "1266 :  15.000000000000004\n",
            "1267 :  14.800000000000002\n",
            "1268 :  14.700000000000003\n",
            "1269 :  14.700000000000005\n",
            "1270 :  6.000000000000012\n",
            "1271 :  14.300000000000004\n",
            "1272 :  13.600000000000005\n",
            "1273 :  15.000000000000004\n",
            "1274 :  13.500000000000004\n",
            "1275 :  12.600000000000005\n",
            "1276 :  12.900000000000004\n",
            "1277 :  1.7999999999999985\n",
            "1278 :  12.200000000000003\n",
            "1279 :  -10.600000000000003\n",
            "1280 :  14.600000000000005\n",
            "1281 :  14.900000000000004\n",
            "1282 :  15.000000000000004\n",
            "1283 :  14.600000000000005\n",
            "1284 :  15.000000000000004\n",
            "1285 :  14.100000000000005\n",
            "1286 :  11.600000000000001\n",
            "1287 :  14.800000000000004\n",
            "1288 :  -2.200000000000009\n",
            "1289 :  11.300000000000004\n",
            "1290 :  12.000000000000004\n",
            "1291 :  -3.6\n",
            "1292 :  12.500000000000004\n",
            "1293 :  14.700000000000003\n",
            "1294 :  10.700000000000005\n",
            "1295 :  14.600000000000005\n",
            "1296 :  14.200000000000005\n",
            "1297 :  13.200000000000003\n",
            "1298 :  7.000000000000014\n",
            "1299 :  15.000000000000004\n",
            "1300 :  15.000000000000004\n",
            "1301 :  14.900000000000004\n",
            "1302 :  15.000000000000004\n",
            "1303 :  11.300000000000002\n",
            "1304 :  -1.50000000000001\n",
            "1305 :  15.000000000000004\n",
            "1306 :  15.200000000000003\n",
            "1307 :  14.200000000000005\n",
            "1308 :  14.500000000000004\n",
            "1309 :  14.100000000000003\n",
            "1310 :  12.400000000000002\n",
            "1311 :  4.999999999999997\n",
            "1312 :  15.100000000000003\n",
            "1313 :  14.800000000000004\n",
            "1314 :  14.800000000000004\n",
            "1315 :  13.800000000000002\n",
            "1316 :  15.200000000000003\n",
            "1317 :  14.200000000000003\n",
            "1318 :  15.200000000000003\n",
            "1319 :  14.900000000000002\n",
            "1320 :  -0.20000000000000018\n",
            "1321 :  14.900000000000002\n",
            "1322 :  15.000000000000004\n",
            "1323 :  13.800000000000004\n",
            "1324 :  -2.100000000000001\n",
            "1325 :  14.100000000000003\n",
            "1326 :  -2.9000000000000097\n",
            "1327 :  6.0000000000000036\n",
            "1328 :  6.900000000000015\n",
            "1329 :  6.500000000000014\n",
            "1330 :  14.100000000000003\n",
            "1331 :  14.300000000000002\n",
            "1332 :  -4.6000000000000005\n",
            "1333 :  3.4000000000000066\n",
            "1334 :  -1.9000000000000008\n",
            "1335 :  14.100000000000007\n",
            "1336 :  15.100000000000003\n",
            "1337 :  12.800000000000004\n",
            "1338 :  14.500000000000004\n",
            "1339 :  14.500000000000004\n",
            "1340 :  15.100000000000003\n",
            "1341 :  -1.9000000000000008\n",
            "1342 :  13.900000000000004\n",
            "1343 :  14.900000000000004\n",
            "1344 :  15.000000000000004\n",
            "1345 :  15.100000000000003\n",
            "1346 :  14.100000000000003\n",
            "1347 :  -10.600000000000003\n",
            "1348 :  11.600000000000012\n",
            "1349 :  -1.7000000000000017\n",
            "1350 :  6.600000000000014\n",
            "1351 :  14.600000000000003\n",
            "1352 :  14.600000000000003\n",
            "1353 :  13.800000000000004\n",
            "1354 :  14.000000000000004\n",
            "1355 :  -19.999999999999993\n",
            "1356 :  6.600000000000014\n",
            "1357 :  14.700000000000003\n",
            "1358 :  -19.999999999999993\n",
            "1359 :  -2.9999999999999996\n",
            "1360 :  7.000000000000014\n",
            "1361 :  6.400000000000013\n",
            "1362 :  15.000000000000004\n",
            "1363 :  14.700000000000005\n",
            "1364 :  13.700000000000003\n",
            "1365 :  15.200000000000003\n",
            "1366 :  15.200000000000003\n",
            "1367 :  15.000000000000004\n",
            "1368 :  14.400000000000004\n",
            "1369 :  15.000000000000004\n",
            "1370 :  -10.600000000000003\n",
            "1371 :  14.300000000000002\n",
            "1372 :  13.500000000000005\n",
            "1373 :  7.200000000000003\n",
            "1374 :  15.000000000000004\n",
            "1375 :  14.400000000000006\n",
            "1376 :  14.700000000000005\n",
            "1377 :  6.700000000000015\n",
            "1378 :  13.800000000000002\n",
            "1379 :  13.500000000000005\n",
            "1380 :  14.300000000000004\n",
            "1381 :  14.300000000000002\n",
            "1382 :  5.999999999999997\n",
            "1383 :  14.800000000000004\n",
            "1384 :  14.800000000000004\n",
            "1385 :  14.800000000000004\n",
            "1386 :  14.800000000000004\n",
            "1387 :  14.800000000000004\n",
            "1388 :  13.600000000000005\n",
            "1389 :  -19.999999999999993\n",
            "1390 :  -13.900000000000015\n",
            "1391 :  14.800000000000004\n",
            "1392 :  14.400000000000002\n",
            "1393 :  -10.700000000000003\n",
            "1394 :  -1.8000000000000012\n",
            "1395 :  14.700000000000005\n",
            "1396 :  -10.600000000000003\n",
            "1397 :  11.500000000000002\n",
            "1398 :  -3.399999999999999\n",
            "1399 :  11.200000000000001\n",
            "1400 :  -1.8000000000000012\n",
            "1401 :  7.000000000000014\n",
            "1402 :  -2.0000000000000004\n",
            "1403 :  14.600000000000005\n",
            "1404 :  14.800000000000004\n",
            "1405 :  15.000000000000004\n",
            "1406 :  15.000000000000004\n",
            "1407 :  15.000000000000004\n",
            "1408 :  14.800000000000004\n",
            "1409 :  15.000000000000004\n",
            "1410 :  15.100000000000003\n",
            "1411 :  14.200000000000003\n",
            "1412 :  -19.999999999999993\n",
            "1413 :  -4.300000000000002\n",
            "1414 :  12.50000000000001\n",
            "1415 :  13.800000000000004\n",
            "1416 :  -2.4000000000000092\n",
            "1417 :  15.000000000000004\n",
            "1418 :  14.600000000000005\n",
            "1419 :  14.400000000000004\n",
            "1420 :  14.200000000000005\n",
            "1421 :  13.700000000000003\n",
            "1422 :  14.500000000000004\n",
            "1423 :  12.700000000000005\n",
            "1424 :  -2.9999999999999996\n",
            "1425 :  6.400000000000013\n",
            "1426 :  7.000000000000014\n",
            "1427 :  14.300000000000002\n",
            "1428 :  14.400000000000002\n",
            "1429 :  15.200000000000003\n",
            "1430 :  14.900000000000002\n",
            "1431 :  14.400000000000002\n",
            "1432 :  14.300000000000002\n",
            "1433 :  -2.2000000000000006\n",
            "1434 :  14.300000000000002\n",
            "1435 :  14.100000000000003\n",
            "1436 :  14.600000000000005\n",
            "1437 :  14.900000000000002\n",
            "1438 :  -4.3999999999999995\n",
            "1439 :  -10.700000000000003\n",
            "1440 :  -2.5\n",
            "1441 :  14.800000000000004\n",
            "1442 :  15.200000000000003\n",
            "1443 :  14.600000000000003\n",
            "1444 :  15.200000000000003\n",
            "1445 :  15.200000000000003\n",
            "1446 :  14.600000000000003\n",
            "1447 :  14.600000000000005\n",
            "1448 :  14.400000000000004\n",
            "1449 :  14.500000000000004\n",
            "1450 :  -19.999999999999993\n",
            "1451 :  -19.999999999999993\n",
            "1452 :  -19.999999999999993\n",
            "1453 :  -1.9000000000000008\n",
            "1454 :  14.800000000000004\n",
            "1455 :  14.800000000000004\n",
            "1456 :  -2.100000000000001\n",
            "1457 :  14.600000000000005\n",
            "1458 :  14.100000000000003\n",
            "1459 :  12.400000000000004\n",
            "1460 :  14.300000000000004\n",
            "1461 :  15.000000000000004\n",
            "1462 :  15.000000000000004\n",
            "1463 :  14.600000000000005\n",
            "1464 :  15.000000000000004\n",
            "1465 :  15.000000000000004\n",
            "1466 :  14.800000000000004\n",
            "1467 :  15.100000000000003\n",
            "1468 :  14.600000000000003\n",
            "1469 :  15.200000000000003\n",
            "1470 :  15.200000000000003\n",
            "1471 :  15.200000000000003\n",
            "1472 :  -1.9000000000000008\n",
            "1473 :  11.900000000000015\n",
            "1474 :  13.00000000000001\n",
            "1475 :  15.000000000000004\n",
            "1476 :  -19.999999999999993\n",
            "1477 :  15.000000000000004\n",
            "1478 :  6.900000000000015\n",
            "1479 :  6.700000000000015\n",
            "1480 :  15.000000000000004\n",
            "1481 :  12.30000000000001\n",
            "1482 :  14.600000000000005\n",
            "1483 :  14.700000000000005\n",
            "1484 :  14.400000000000004\n",
            "1485 :  6.200000000000012\n",
            "1486 :  14.800000000000004\n",
            "1487 :  12.900000000000004\n",
            "1488 :  14.800000000000004\n",
            "1489 :  13.300000000000004\n",
            "1490 :  14.800000000000004\n",
            "1491 :  -10.700000000000003\n",
            "1492 :  6.700000000000015\n",
            "1493 :  13.400000000000006\n",
            "1494 :  14.500000000000004\n",
            "1495 :  -3.399999999999999\n",
            "1496 :  14.300000000000004\n",
            "1497 :  14.600000000000005\n",
            "1498 :  14.500000000000005\n",
            "1499 :  14.500000000000005\n",
            "1500 :  14.400000000000004\n",
            "1501 :  14.200000000000005\n",
            "1502 :  14.600000000000005\n",
            "1503 :  14.200000000000003\n",
            "1504 :  14.000000000000004\n",
            "1505 :  14.600000000000005\n",
            "1506 :  14.600000000000005\n",
            "1507 :  -2.300000000000009\n",
            "1508 :  14.600000000000005\n",
            "1509 :  14.100000000000005\n",
            "1510 :  14.600000000000005\n",
            "1511 :  14.600000000000005\n",
            "1512 :  14.600000000000005\n",
            "1513 :  -10.700000000000003\n",
            "1514 :  14.600000000000005\n",
            "1515 :  14.200000000000003\n",
            "1516 :  6.600000000000014\n",
            "1517 :  14.000000000000007\n",
            "1518 :  14.700000000000005\n",
            "1519 :  15.000000000000004\n",
            "1520 :  -1.8000000000000012\n",
            "1521 :  15.000000000000004\n",
            "1522 :  13.300000000000004\n",
            "1523 :  14.600000000000005\n",
            "1524 :  14.600000000000005\n",
            "1525 :  14.600000000000005\n",
            "1526 :  15.000000000000004\n",
            "1527 :  -10.600000000000003\n",
            "1528 :  15.000000000000004\n",
            "1529 :  14.700000000000003\n",
            "1530 :  15.000000000000004\n",
            "1531 :  14.700000000000003\n",
            "1532 :  15.000000000000004\n",
            "1533 :  15.000000000000004\n",
            "1534 :  14.300000000000004\n",
            "1535 :  14.500000000000005\n",
            "1536 :  14.800000000000004\n",
            "1537 :  14.900000000000004\n",
            "1538 :  14.100000000000003\n",
            "1539 :  11.100000000000003\n",
            "1540 :  14.700000000000003\n",
            "1541 :  15.000000000000004\n",
            "1542 :  7.000000000000014\n",
            "1543 :  6.400000000000013\n",
            "1544 :  14.800000000000004\n",
            "1545 :  14.700000000000003\n",
            "1546 :  15.000000000000004\n",
            "1547 :  14.600000000000005\n",
            "1548 :  14.300000000000004\n",
            "1549 :  14.700000000000003\n",
            "1550 :  -19.999999999999993\n",
            "1551 :  15.000000000000004\n",
            "1552 :  15.200000000000003\n",
            "1553 :  14.600000000000005\n",
            "1554 :  15.100000000000003\n",
            "1555 :  14.100000000000003\n",
            "1556 :  -1.9000000000000008\n",
            "1557 :  8.4\n",
            "1558 :  15.100000000000003\n",
            "1559 :  7.000000000000014\n",
            "1560 :  -19.999999999999993\n",
            "1561 :  13.200000000000003\n",
            "1562 :  15.000000000000004\n",
            "1563 :  14.700000000000003\n",
            "1564 :  6.700000000000015\n",
            "1565 :  14.600000000000005\n",
            "1566 :  14.800000000000002\n",
            "1567 :  15.100000000000003\n",
            "1568 :  15.100000000000003\n",
            "1569 :  15.000000000000004\n",
            "1570 :  15.000000000000004\n",
            "1571 :  15.200000000000003\n",
            "1572 :  15.100000000000003\n",
            "1573 :  15.200000000000003\n",
            "1574 :  -10.600000000000003\n",
            "1575 :  -1.9000000000000008\n",
            "1576 :  -2.4\n",
            "1577 :  -3.200000000000008\n",
            "1578 :  14.700000000000003\n",
            "1579 :  14.300000000000004\n",
            "1580 :  14.400000000000006\n",
            "1581 :  -3.5000000000000058\n",
            "1582 :  -2.400000000000001\n",
            "1583 :  15.000000000000004\n",
            "1584 :  15.000000000000004\n",
            "1585 :  11.000000000000004\n",
            "1586 :  15.100000000000003\n",
            "1587 :  15.100000000000003\n",
            "1588 :  -10.600000000000003\n",
            "1589 :  -1.8000000000000012\n",
            "1590 :  15.100000000000003\n",
            "1591 :  14.700000000000003\n",
            "1592 :  15.100000000000003\n",
            "1593 :  15.000000000000004\n",
            "1594 :  14.900000000000004\n",
            "1595 :  15.000000000000004\n",
            "1596 :  15.000000000000004\n",
            "1597 :  14.900000000000004\n",
            "1598 :  14.900000000000004\n",
            "1599 :  -1.7000000000000017\n",
            "1600 :  14.600000000000005\n",
            "1601 :  14.100000000000005\n",
            "1602 :  14.700000000000003\n",
            "1603 :  15.000000000000004\n",
            "1604 :  15.000000000000004\n",
            "1605 :  14.700000000000003\n",
            "1606 :  14.600000000000003\n",
            "1607 :  14.700000000000003\n",
            "1608 :  -0.6000000000000059\n",
            "1609 :  14.400000000000004\n",
            "1610 :  15.100000000000003\n",
            "1611 :  14.700000000000005\n",
            "1612 :  14.300000000000002\n",
            "1613 :  7.000000000000014\n",
            "1614 :  -10.700000000000003\n",
            "1615 :  14.200000000000003\n",
            "1616 :  15.000000000000004\n",
            "1617 :  14.800000000000002\n",
            "1618 :  15.000000000000004\n",
            "1619 :  14.700000000000003\n",
            "1620 :  15.000000000000004\n",
            "1621 :  -1.8000000000000012\n",
            "1622 :  15.000000000000004\n",
            "1623 :  15.000000000000004\n",
            "1624 :  14.800000000000004\n",
            "1625 :  14.700000000000005\n",
            "1626 :  14.600000000000005\n",
            "1627 :  15.000000000000004\n",
            "1628 :  15.000000000000004\n",
            "1629 :  -10.700000000000003\n",
            "1630 :  -1.7000000000000017\n",
            "1631 :  14.600000000000001\n",
            "1632 :  14.600000000000001\n",
            "1633 :  15.000000000000004\n",
            "1634 :  14.600000000000005\n",
            "1635 :  14.600000000000005\n",
            "1636 :  14.600000000000003\n",
            "1637 :  -10.700000000000003\n",
            "1638 :  -9.300000000000002\n",
            "1639 :  15.000000000000004\n",
            "1640 :  15.000000000000004\n",
            "1641 :  14.900000000000004\n",
            "1642 :  14.700000000000003\n",
            "1643 :  4.299999999999993\n",
            "1644 :  15.000000000000004\n",
            "1645 :  15.000000000000004\n",
            "1646 :  15.000000000000004\n",
            "1647 :  14.700000000000003\n",
            "1648 :  15.000000000000004\n",
            "1649 :  -1.7000000000000017\n",
            "1650 :  15.000000000000004\n",
            "1651 :  -4.6999999999999975\n",
            "1652 :  14.900000000000004\n",
            "1653 :  15.000000000000004\n",
            "1654 :  14.700000000000005\n",
            "1655 :  15.000000000000004\n",
            "1656 :  14.800000000000004\n",
            "1657 :  15.000000000000004\n",
            "1658 :  15.100000000000003\n",
            "1659 :  -1.7000000000000017\n",
            "1660 :  -19.999999999999993\n",
            "1661 :  14.800000000000004\n",
            "1662 :  14.600000000000005\n",
            "1663 :  14.600000000000005\n",
            "1664 :  8.600000000000001\n",
            "1665 :  -19.999999999999993\n",
            "1666 :  6.099999999999997\n",
            "1667 :  15.000000000000004\n",
            "1668 :  15.200000000000003\n",
            "1669 :  14.800000000000004\n",
            "1670 :  15.000000000000004\n",
            "1671 :  15.000000000000004\n",
            "1672 :  15.200000000000003\n",
            "1673 :  15.100000000000003\n",
            "1674 :  14.100000000000003\n",
            "1675 :  14.900000000000002\n",
            "1676 :  15.200000000000003\n",
            "1677 :  15.000000000000004\n",
            "1678 :  15.000000000000004\n",
            "1679 :  15.000000000000004\n",
            "1680 :  14.500000000000004\n",
            "1681 :  15.000000000000004\n",
            "1682 :  15.000000000000004\n",
            "1683 :  -19.999999999999993\n",
            "1684 :  7.399999999999999\n",
            "1685 :  15.000000000000004\n",
            "1686 :  15.000000000000004\n",
            "1687 :  15.000000000000004\n",
            "1688 :  15.000000000000004\n",
            "1689 :  15.000000000000004\n",
            "1690 :  14.500000000000005\n",
            "1691 :  15.100000000000003\n",
            "1692 :  15.100000000000003\n",
            "1693 :  15.000000000000004\n",
            "1694 :  15.000000000000004\n",
            "1695 :  14.700000000000003\n",
            "1696 :  15.100000000000003\n",
            "1697 :  14.700000000000003\n",
            "1698 :  15.200000000000003\n",
            "1699 :  15.100000000000003\n",
            "1700 :  15.000000000000004\n"
          ]
        },
        {
          "output_type": "display_data",
          "data": {
            "text/plain": [
              "<Figure size 432x288 with 1 Axes>"
            ],
            "image/png": "[encoded data removed]"
          },
          "metadata": {
            "needs_background": "light"
          }
        },
        {
          "output_type": "execute_result",
          "data": {
            "text/plain": [
              "<matplotlib.image.AxesImage at 0x7f290249c7d0>"
            ]
          },
          "metadata": {},
          "execution_count": 23
        },
        {
          "output_type": "display_data",
          "data": {
            "text/plain": [
              "<Figure size 432x288 with 1 Axes>"
            ],
            "image/png": "[encoded data removed]"
          },
          "metadata": {
            "needs_background": "light"
          }
        }
      ],
      "source": [
        "#DQN-Learning: Applied to Deterministic Grid Environment\n",
        "\n",
        "#Initialize Environment\n",
        "env = gym.make('ma_gym:Switch4-v0')\n",
        "numAgents = 4\n",
        "\n",
        "#Create list for total rewards\n",
        "totalRewards = []\n",
        "\n",
        "#Initialize Networks\n",
        "Qs = [Switch4Net(numAgents) for i in range(numAgents)]\n",
        "Q_Targets = [copy.deepcopy(Q) for Q in Qs]\n",
        "copyInterval = 100\n",
        "step = 0\n",
        "\n",
        "#Define the loss function\n",
        "criterion = nn.MSELoss()\n",
        "optimizers = [optim.Adam(Q.parameters(), lr=0.0001) for Q in Qs]\n",
        "\n",
        "#Define Discount Factor (gamma)\n",
        "gamma = 0.9\n",
        "\n",
        "#Initialize Greedy Epsilon Agent for Q\n",
        "epsilon = 1\n",
        "endEpsilon = 0.01\n",
        "agents = [GreedyEpsAgent2(epsilon, Q, env.action_space) for Q in Qs]\n",
        "\n",
        "#Define Experience Replay list, its max size, and the mini batch size\n",
        "replays = [[] for i in range(numAgents)]\n",
        "maxReplay = 512\n",
        "miniBatchSize = 52\n",
        "\n",
        "#Our initial policy can be an even distribution\n",
        "numEpisodes = 2000\n",
        "episode = 0\n",
        "\n",
        "#Loop through episodes, training agent using Q-Learning\n",
        "while(episode < numEpisodes) and (sum(totalRewards[max(-10,-len(totalRewards)):])/10) < 15:\n",
        "  s = env.reset()\n",
        "  s = [element for sublist in s for element in sublist]\n",
        "  done = [False for i in range(env.n_agents)]\n",
        "\n",
        "  rTracker = 0\n",
        "  while not all(done):\n",
        "    step += 1\n",
        "\n",
        "    #Take action based on greatest Q-Value from Q for state s\n",
        "    a = [agent.get_action(torch.tensor([[s]]).float()) for agent in agents]\n",
        "    sP, r, done, info = env.step(a)\n",
        "    sP = [element for sublist in sP for element in sublist]\n",
        "\n",
        "    #Zero out gradient and take random minibatch\n",
        "    for optimizer in optimizers:\n",
        "      optimizer.zero_grad()\n",
        "    \n",
        "    for i in range(numAgents):\n",
        "      minibatch = random.sample(replays[i], min(len(replays[i]), miniBatchSize))\n",
        "      if len(minibatch) > 3:\n",
        "        #Break up minibatch into the different columns of values\n",
        "        columns = list(zip(*minibatch))\n",
        "        states = torch.reshape(torch.tensor(columns[0]).float(),[len(minibatch),2*numAgents])\n",
        "        actions = torch.tensor(columns[1])\n",
        "        rewards = torch.tensor(columns[2])\n",
        "        newStates = torch.reshape(torch.tensor(columns[3]).float(),[len(minibatch), 2*numAgents])\n",
        "\n",
        "        #Select Q and Q_Target\n",
        "        Q = Qs[i]\n",
        "        Q_Target = Q_Targets[i]\n",
        "\n",
        "        #Get targets and outputs\n",
        "        targets = (gamma*torch.max(Q_Target(newStates), 1)[0]) + rewards\n",
        "        outputs = torch.reshape(torch.gather(Q(states), 1, actions), [len(minibatch)])\n",
        "\n",
        "        #Calculate loss and gradients\n",
        "        #loss = criterion(outputs, targets)\n",
        "        loss = torch.mean(torch.abs(outputs - targets))\n",
        "        loss.backward()\n",
        "\n",
        "        optimizers[i].step()\n",
        "\n",
        "    #Take a step using SGD\n",
        "    #for optimizer in optimizers:\n",
        "    #  optimizer.step()\n",
        "\n",
        "    #Storing in replay\n",
        "    for i,replay in enumerate(replays):\n",
        "      if len(replay) >= maxReplay:\n",
        "        replay.append([s,[a[i]],r[i],sP,done[i]])\n",
        "        replay.pop(0)\n",
        "      else:\n",
        "        replay.append([s,[a[i]],r[i],sP,done[i]])\n",
        "\n",
        "    #Updating target Q if necessary\n",
        "    if step % copyInterval == 0:\n",
        "      Q_Targets = [copy.deepcopy(Q) for Q in Qs]\n",
        "\n",
        "    s = sP\n",
        "    rTracker += sum(r)\n",
        "  episode += 1\n",
        "  totalRewards.append(rTracker)\n",
        "  #print(episode,': ', rTracker)\n",
        "  #cumRewards.append(cumRewards[episode-1] + rTracker)\n",
        "  for agent in agents:\n",
        "      agent.update_eps((endEpsilon/epsilon)**(episode/numEpisodes))\n",
        "\n",
        "#policy = [int(agent.get_action(torch.tensor([[s]]).float())) for s in range(env.observation_space.n)]\n",
        "\n",
        "plt.plot([i for i in range(len(totalRewards))], totalRewards)\n",
        "plt.xlabel(\"Episode\")\n",
        "plt.ylabel(\"Total Reward\")\n",
        "#plt.plot([i for i in range(len(cumRewards))], cumRewards)\n",
        "plt.show()\n",
        "\n",
        "#Take random steps in environment until done\n",
        "for agent in agents:\n",
        "  agent.update_eps(0)\n",
        "s = env.reset()\n",
        "s = [element for sublist in s for element in sublist]\n",
        "done = [False for i in range(env.n_agents)]\n",
        "while not all(done):\n",
        "  a = [agent.get_action(torch.tensor([[s]]).float()) for agent in agents]\n",
        "  s, r, done, info = env.step(a)\n",
        "  s = [element for sublist in s for element in sublist]\n",
        "plt.imshow(env.render('rgb_array'))"
      ]
    },
    {
      "cell_type": "markdown",
      "metadata": {
        "id": "ONuScHF5CCY-"
      },
      "source": [
        "## Predator Prey 5x5 👽"
      ]
    },
    {
      "cell_type": "markdown",
      "metadata": {
        "id": "PrU9uOTlPKX4"
      },
      "source": [
        "### NN Definition (Our Q-Approximation)"
      ]
    },
    {
      "cell_type": "code",
      "execution_count": null,
      "metadata": {
        "id": "NvqBAbwjPKYB"
      },
      "outputs": [],
      "source": [
        "class PredatorPrey5x5Net(nn.Module):\n",
        "    def __init__(self, numAgents):\n",
        "        super().__init__()\n",
        "        self.fc1 = nn.Linear(numAgents*28, 500)\n",
        "        self.fc2 = nn.Linear(500, 250)\n",
        "        self.fc3 = nn.Linear(250, 125)\n",
        "        self.fc4 = nn.Linear(125, 5)\n",
        "\n",
        "    def forward(self, x):\n",
        "        x = F.relu(self.fc1(x))\n",
        "        x = F.relu(self.fc2(x))\n",
        "        x = F.relu(self.fc3(x))\n",
        "        x = self.fc4(x)\n",
        "        return x\n"
      ]
    },
    {
      "cell_type": "markdown",
      "metadata": {
        "id": "Zyu-PdZlQuD7"
      },
      "source": [
        "### Training"
      ]
    },
    {
      "cell_type": "code",
      "execution_count": null,
      "metadata": {
        "colab": {
          "base_uri": "https://localhost:8080/",
          "height": 1000
        },
        "id": "ckoidHNQZHnS",
        "outputId": "56c1754c-ea36-4eea-8ef7-4fb7efb8af60"
      },
      "outputs": [
        {
          "output_type": "stream",
          "name": "stdout",
          "text": [
            "1 :  -12.999999999999973\n",
            "2 :  -11.399999999999974\n",
            "3 :  -23.999999999999964\n",
            "4 :  9.84\n",
            "5 :  -5.719999999999972\n",
            "6 :  -11.999999999999961\n",
            "7 :  2.6600000000000055\n",
            "8 :  -15.999999999999979\n",
            "9 :  4.380000000000001\n",
            "10 :  -9.99999999999998\n",
            "11 :  -6.9999999999999805\n",
            "12 :  -22.999999999999975\n",
            "13 :  -9.999999999999966\n",
            "14 :  -13.99999999999997\n",
            "15 :  7.62\n",
            "16 :  -27.999999999999968\n",
            "17 :  -14.999999999999972\n",
            "18 :  -5.999999999999993\n",
            "19 :  -25.999999999999964\n",
            "20 :  8.56\n",
            "21 :  0.5200000000000049\n",
            "22 :  -17.99999999999996\n",
            "23 :  0.3200000000000056\n",
            "24 :  -11.799999999999965\n",
            "25 :  -9.539999999999978\n",
            "26 :  -6.819999999999975\n",
            "27 :  -4.639999999999979\n",
            "28 :  4.4\n",
            "29 :  -0.579999999999993\n",
            "30 :  -15.999999999999966\n",
            "31 :  -10.999999999999963\n",
            "32 :  -18.99999999999997\n",
            "33 :  -11.99999999999996\n",
            "34 :  -21.99999999999996\n",
            "35 :  2.7200000000000024\n",
            "36 :  -17.999999999999968\n",
            "37 :  -10.99999999999996\n",
            "38 :  -6.999999999999995\n",
            "39 :  -21.999999999999968\n",
            "40 :  -9.999999999999979\n",
            "41 :  -15.999999999999963\n",
            "42 :  6.540000000000001\n",
            "43 :  -6.9999999999999805\n",
            "44 :  -14.999999999999963\n",
            "45 :  7.94\n",
            "46 :  -6.999999999999988\n",
            "47 :  -3.059999999999979\n",
            "48 :  -12.99999999999998\n",
            "49 :  2.6800000000000015\n",
            "50 :  -8.999999999999975\n",
            "51 :  -20.999999999999968\n",
            "52 :  -18.99999999999998\n",
            "53 :  -6.679999999999968\n",
            "54 :  -6.439999999999976\n",
            "55 :  -36.999999999999986\n",
            "56 :  -16.999999999999975\n",
            "57 :  -20.999999999999982\n",
            "58 :  -22.99999999999997\n",
            "59 :  -8.999999999999968\n",
            "60 :  4.959999999999999\n",
            "61 :  9.98\n",
            "62 :  -19.999999999999964\n",
            "63 :  -12.999999999999966\n",
            "64 :  1.9200000000000141\n",
            "65 :  -1.2199999999999847\n",
            "66 :  -24.999999999999964\n",
            "67 :  -10.999999999999966\n",
            "68 :  -5.99999999999998\n",
            "69 :  8.92\n",
            "70 :  -3.5599999999999845\n",
            "71 :  -3.1399999999999793\n",
            "72 :  4.720000000000002\n",
            "73 :  -2.239999999999988\n",
            "74 :  0.30000000000001137\n",
            "75 :  -14.999999999999972\n",
            "76 :  -8.719999999999992\n",
            "77 :  -7.999999999999972\n",
            "78 :  -5.999999999999979\n",
            "79 :  -12.99999999999997\n",
            "80 :  -12.77999999999997\n",
            "81 :  -14.999999999999968\n",
            "82 :  -0.619999999999985\n",
            "83 :  -17.999999999999975\n",
            "84 :  3.8800000000000026\n",
            "85 :  -13.999999999999963\n",
            "86 :  7.54\n",
            "87 :  5.48\n",
            "88 :  0.42000000000001947\n",
            "89 :  9.98\n",
            "90 :  -9.999999999999977\n",
            "91 :  2.2200000000000024\n",
            "92 :  -18.99999999999998\n",
            "93 :  4.080000000000002\n",
            "94 :  7.84\n",
            "95 :  4.82\n",
            "96 :  9.98\n",
            "97 :  -12.999999999999961\n",
            "98 :  -22.99999999999998\n",
            "99 :  -12.999999999999972\n",
            "100 :  -6.999999999999979\n",
            "101 :  -16.99999999999997\n",
            "102 :  -4.319999999999977\n",
            "103 :  3.4400000000000013\n",
            "104 :  5.640000000000001\n",
            "105 :  2.0400000000000045\n",
            "106 :  -20.999999999999968\n",
            "107 :  -4.059999999999979\n",
            "108 :  3.8200000000000003\n",
            "109 :  6.92\n",
            "110 :  -1.3999999999999737\n",
            "111 :  -29.99999999999997\n",
            "112 :  -2.1599999999999877\n",
            "113 :  4.98\n",
            "114 :  7.199999999999999\n",
            "115 :  -14.999999999999964\n",
            "116 :  2.8000000000000007\n",
            "117 :  -26.99999999999997\n",
            "118 :  -13.999999999999961\n",
            "119 :  8.780000000000001\n",
            "120 :  2.960000000000001\n",
            "121 :  -18.999999999999964\n",
            "122 :  4.120000000000001\n",
            "123 :  -17.99999999999997\n",
            "124 :  -1.9599999999999902\n",
            "125 :  -4.999999999999993\n",
            "126 :  5.500000000000002\n",
            "127 :  4.440000000000001\n",
            "128 :  -4.9999999999999964\n",
            "129 :  1.9000000000000075\n",
            "130 :  1.4000000000000075\n",
            "131 :  -20.999999999999964\n",
            "132 :  7.92\n",
            "133 :  -7.7999999999999865\n",
            "134 :  -28.99999999999996\n",
            "135 :  0.9600000000000044\n",
            "136 :  8.96\n",
            "137 :  7.68\n",
            "138 :  -3.5199999999999907\n",
            "139 :  -4.000000000000002\n",
            "140 :  -5.0\n",
            "141 :  3.2400000000000055\n",
            "142 :  0.0800000000000125\n",
            "143 :  7.800000000000001\n",
            "144 :  7.4\n",
            "145 :  0.20000000000000995\n",
            "146 :  -4.999999999999994\n",
            "147 :  -18.999999999999968\n",
            "148 :  8.56\n",
            "149 :  -1.2999999999999936\n",
            "150 :  -2.0199999999999907\n",
            "151 :  -8.999999999999975\n",
            "152 :  -5.239999999999977\n",
            "153 :  -4.000000000000002\n",
            "154 :  0.6600000000000055\n",
            "155 :  8.3\n",
            "156 :  0.38000000000000966\n",
            "157 :  8.620000000000001\n",
            "158 :  -0.03999999999999382\n",
            "159 :  7.4\n",
            "160 :  -15.999999999999979\n",
            "161 :  -3.959999999999992\n",
            "162 :  0.14000000000000412\n",
            "163 :  -0.7999999999999883\n",
            "164 :  2.420000000000009\n",
            "165 :  -3.819999999999993\n",
            "166 :  -2.8999999999999826\n",
            "167 :  -7.659999999999975\n",
            "168 :  -1.9799999999999969\n",
            "169 :  -2.0000000000000013\n",
            "170 :  -16.999999999999968\n",
            "171 :  0.8600000000000048\n",
            "172 :  -0.3599999999999728\n",
            "173 :  4.5\n",
            "174 :  -2.4599999999999866\n",
            "175 :  7.82\n",
            "176 :  5.9\n",
            "177 :  4.620000000000001\n",
            "178 :  -4.999999999999983\n",
            "179 :  -5.299999999999976\n",
            "180 :  5.42\n",
            "181 :  0.12000000000000277\n",
            "182 :  5.3\n",
            "183 :  -14.07999999999998\n",
            "184 :  6.880000000000001\n",
            "185 :  -21.57999999999998\n",
            "186 :  -23.999999999999968\n",
            "187 :  7.84\n",
            "188 :  -5.359999999999994\n",
            "189 :  -2.4799999999999898\n",
            "190 :  9.700000000000001\n",
            "191 :  3.560000000000006\n",
            "192 :  7.48\n",
            "193 :  -10.999999999999979\n",
            "194 :  5.84\n",
            "195 :  -0.7999999999999972\n",
            "196 :  -9.999999999999968\n",
            "197 :  5.5\n",
            "198 :  2.5600000000000023\n",
            "199 :  -4.999999999999979\n",
            "200 :  7.1\n",
            "201 :  6.620000000000001\n",
            "202 :  8.86\n",
            "203 :  -7.999999999999963\n",
            "204 :  7.039999999999999\n",
            "205 :  8.68\n",
            "206 :  9.96\n",
            "207 :  -6.999999999999977\n",
            "208 :  0.26000000000000334\n",
            "209 :  3.360000000000003\n",
            "210 :  2.5600000000000183\n",
            "211 :  0.480000000000004\n",
            "212 :  8.56\n",
            "213 :  5.74\n",
            "214 :  6.82\n",
            "215 :  6.58\n",
            "216 :  -10.999999999999979\n",
            "217 :  -3.3399999999999945\n",
            "218 :  1.6200000000000045\n",
            "219 :  8.4\n",
            "220 :  -11.999999999999963\n",
            "221 :  2.3200000000000003\n",
            "222 :  6.42\n",
            "223 :  6.72\n",
            "224 :  7.4\n",
            "225 :  -9.119999999999983\n",
            "226 :  4.700000000000003\n",
            "227 :  4.140000000000001\n",
            "228 :  4.4\n",
            "229 :  7.5200000000000005\n",
            "230 :  3.3200000000000056\n",
            "231 :  -8.999999999999988\n",
            "232 :  6.7\n",
            "233 :  0.920000000000007\n",
            "234 :  6.640000000000001\n",
            "235 :  4.119999999999999\n",
            "236 :  7.42\n",
            "237 :  -19.999999999999982\n",
            "238 :  -15.999999999999977\n",
            "239 :  -19.999999999999982\n",
            "240 :  3.6600000000000072\n",
            "241 :  3.900000000000002\n",
            "242 :  9.84\n",
            "243 :  -11.99999999999997\n",
            "244 :  9.6\n",
            "245 :  -3.4799999999999773\n",
            "246 :  6.5\n",
            "247 :  8.6\n",
            "248 :  6.08\n",
            "249 :  4.9799999999999995\n",
            "250 :  4.200000000000008\n",
            "251 :  7.12\n",
            "252 :  2.200000000000001\n",
            "253 :  7.4399999999999995\n",
            "254 :  3.780000000000003\n",
            "255 :  -4.000000000000002\n",
            "256 :  4.74\n",
            "257 :  8.76\n",
            "258 :  -0.6599999999999913\n",
            "259 :  7.4399999999999995\n",
            "260 :  7.9\n",
            "261 :  8.52\n",
            "262 :  4.4800000000000075\n",
            "263 :  6.26\n",
            "264 :  7.76\n",
            "265 :  -15.99999999999996\n",
            "266 :  2.700000000000003\n",
            "267 :  9.92\n",
            "268 :  -0.5199999999999889\n",
            "269 :  5.880000000000002\n",
            "270 :  -9.999999999999973\n",
            "271 :  8.9\n",
            "272 :  6.300000000000001\n",
            "273 :  7.7\n",
            "274 :  -7.999999999999995\n",
            "275 :  -19.99999999999997\n",
            "276 :  4.720000000000002\n",
            "277 :  -1.859999999999994\n",
            "278 :  -5.959999999999988\n",
            "279 :  7.42\n",
            "280 :  1.1000000000000103\n",
            "281 :  -2.1399999999999952\n",
            "282 :  2.740000000000002\n",
            "283 :  0.3800000000000079\n",
            "284 :  -12.99999999999998\n",
            "285 :  6.220000000000001\n",
            "286 :  1.4000000000000092\n",
            "287 :  4.460000000000006\n",
            "288 :  3.8800000000000026\n",
            "289 :  -0.35999999999999766\n",
            "290 :  8.56\n",
            "291 :  2.700000000000001\n",
            "292 :  -0.31999999999999673\n",
            "293 :  -3.479999999999995\n",
            "294 :  -0.8399999999999839\n",
            "295 :  7.680000000000001\n",
            "296 :  -6.999999999999995\n",
            "297 :  -4.339999999999996\n",
            "298 :  -1.0599999999999898\n",
            "299 :  -5.7599999999999785\n",
            "300 :  6.54\n",
            "301 :  2.3600000000000048\n",
            "302 :  0.6400000000000112\n",
            "303 :  4.52\n",
            "304 :  3.1800000000000015\n",
            "305 :  7.720000000000001\n",
            "306 :  6.44\n",
            "307 :  2.20000000000001\n",
            "308 :  -1.9399999999999906\n",
            "309 :  8.6\n",
            "310 :  5.78\n",
            "311 :  9.24\n",
            "312 :  -11.999999999999986\n",
            "313 :  6.199999999999999\n",
            "314 :  -0.13999999999998103\n",
            "315 :  3.360000000000001\n",
            "316 :  -18.999999999999964\n",
            "317 :  2.9400000000000013\n",
            "318 :  4.020000000000031\n",
            "319 :  -6.179999999999989\n",
            "320 :  -2.479999999999979\n",
            "321 :  -7.999999999999975\n",
            "322 :  8.36\n",
            "323 :  -5.999999999999982\n",
            "324 :  2.820000000000004\n",
            "325 :  1.440000000000003\n",
            "326 :  -43.00000000000001\n",
            "327 :  7.34\n",
            "328 :  -29.859999999999996\n",
            "329 :  4.6800000000000015\n",
            "330 :  -10.999999999999977\n",
            "331 :  8.46\n",
            "332 :  7.94\n",
            "333 :  8.46\n",
            "334 :  5.54\n",
            "335 :  8.96\n",
            "336 :  -9.979999999999976\n",
            "337 :  1.5400000000000027\n",
            "338 :  5.36\n",
            "339 :  8.74\n",
            "340 :  -6.719999999999988\n",
            "341 :  7.84\n",
            "342 :  7.94\n",
            "343 :  -0.41999999999999105\n",
            "344 :  7.640000000000001\n",
            "345 :  8.46\n",
            "346 :  -16.999999999999975\n",
            "347 :  5.52\n",
            "348 :  4.34\n",
            "349 :  6.640000000000001\n",
            "350 :  6.98\n",
            "351 :  9.620000000000001\n",
            "352 :  -0.9999999999999982\n",
            "353 :  -5.999999999999986\n",
            "354 :  4.1\n",
            "355 :  6.42\n",
            "356 :  -1.1599999999999824\n",
            "357 :  -2.099999999999989\n",
            "358 :  -3.499999999999993\n",
            "359 :  7.48\n",
            "360 :  5.7\n",
            "361 :  5.84\n",
            "362 :  9.940000000000001\n",
            "363 :  -1.3199999999999967\n",
            "364 :  6.300000000000001\n",
            "365 :  -13.999999999999961\n",
            "366 :  3.620000000000001\n",
            "367 :  4.340000000000005\n",
            "368 :  5.54\n",
            "369 :  9.74\n",
            "370 :  -10.999999999999979\n",
            "371 :  -9.999999999999964\n",
            "372 :  7.54\n",
            "373 :  6.06\n",
            "374 :  3.860000000000001\n",
            "375 :  8.4\n",
            "376 :  9.96\n",
            "377 :  -2.5999999999999925\n",
            "378 :  9.940000000000001\n",
            "379 :  4.220000000000013\n",
            "380 :  8.92\n",
            "381 :  -1.8199999999999878\n",
            "382 :  9.8\n",
            "383 :  -11.999999999999972\n",
            "384 :  5.300000000000001\n",
            "385 :  -14.999999999999968\n",
            "386 :  -18.999999999999975\n",
            "387 :  -2.4599999999999937\n",
            "388 :  7.6\n",
            "389 :  -16.099999999999987\n",
            "390 :  6.62\n",
            "391 :  5.7\n",
            "392 :  8.540000000000001\n",
            "393 :  7.24\n",
            "394 :  0.9000000000000075\n",
            "395 :  8.96\n",
            "396 :  4.580000000000002\n",
            "397 :  8.780000000000001\n",
            "398 :  5.800000000000001\n",
            "399 :  4.480000000000006\n",
            "400 :  5.360000000000001\n",
            "401 :  7.66\n",
            "402 :  4.840000000000002\n",
            "403 :  9.82\n",
            "404 :  -2.0000000000000013\n",
            "405 :  2.5400000000000045\n",
            "406 :  8.52\n",
            "407 :  7.0\n",
            "408 :  8.68\n",
            "409 :  8.66\n",
            "410 :  9.88\n",
            "411 :  -19.999999999999993\n",
            "412 :  6.4399999999999995\n",
            "413 :  5.5\n",
            "414 :  5.7\n",
            "415 :  5.5600000000000005\n",
            "416 :  -9.999999999999986\n",
            "417 :  8.58\n",
            "418 :  -15.99999999999997\n",
            "419 :  -0.79999999999999\n",
            "420 :  5.880000000000001\n",
            "421 :  6.4\n",
            "422 :  5.34\n",
            "423 :  5.82\n",
            "424 :  5.48\n",
            "425 :  5.12000000000001\n",
            "426 :  -24.99999999999996\n",
            "427 :  7.78\n",
            "428 :  2.600000000000003\n",
            "429 :  -14.999999999999979\n",
            "430 :  6.18\n",
            "431 :  7.6000000000000005\n",
            "432 :  5.16\n",
            "433 :  -6.999999999999977\n",
            "434 :  8.9\n",
            "435 :  1.4400000000000084\n",
            "436 :  -14.999999999999973\n",
            "437 :  2.600000000000005\n",
            "438 :  5.400000000000004\n",
            "439 :  8.76\n",
            "440 :  8.7\n",
            "441 :  3.6800000000000015\n",
            "442 :  -9.99999999999998\n",
            "443 :  4.92\n",
            "444 :  -2.599999999999996\n",
            "445 :  6.18\n",
            "446 :  8.88\n",
            "447 :  3.860000000000001\n",
            "448 :  6.300000000000001\n",
            "449 :  6.92\n",
            "450 :  9.66\n",
            "451 :  5.38\n",
            "452 :  2.720000000000015\n",
            "453 :  8.28\n",
            "454 :  6.5\n",
            "455 :  8.92\n",
            "456 :  4.900000000000002\n",
            "457 :  6.22\n",
            "458 :  -14.999999999999979\n",
            "459 :  -0.259999999999998\n",
            "460 :  1.4200000000000017\n",
            "461 :  9.620000000000001\n",
            "462 :  -5.499999999999995\n",
            "463 :  7.620000000000001\n",
            "464 :  -0.3999999999999968\n",
            "465 :  6.28\n",
            "466 :  7.46\n",
            "467 :  7.76\n",
            "468 :  9.700000000000001\n",
            "469 :  6.78\n",
            "470 :  9.68\n",
            "471 :  -13.999999999999979\n",
            "472 :  7.800000000000001\n",
            "473 :  5.359999999999999\n",
            "474 :  1.6600000000000108\n",
            "475 :  7.58\n",
            "476 :  8.780000000000001\n",
            "477 :  7.58\n",
            "478 :  7.34\n",
            "479 :  4.420000000000002\n",
            "480 :  -1.0599999999999898\n",
            "481 :  -9.999999999999961\n",
            "482 :  -19.99999999999998\n",
            "483 :  -3.0999999999999908\n",
            "484 :  2.860000000000001\n",
            "485 :  7.640000000000001\n",
            "486 :  7.46\n",
            "487 :  4.500000000000002\n",
            "488 :  9.98\n",
            "489 :  7.54\n",
            "490 :  -4.999999999999989\n",
            "491 :  -14.999999999999966\n",
            "492 :  6.14\n",
            "493 :  -23.999999999999964\n",
            "494 :  -4.999999999999994\n",
            "495 :  3.8400000000000016\n",
            "496 :  8.9\n",
            "497 :  -12.99999999999998\n",
            "498 :  8.280000000000001\n",
            "499 :  8.32\n",
            "500 :  9.76\n",
            "501 :  6.46\n",
            "502 :  7.7\n",
            "503 :  -6.999999999999982\n",
            "504 :  7.58\n",
            "505 :  5.74\n",
            "506 :  8.2\n",
            "507 :  -7.999999999999975\n",
            "508 :  -15.999999999999961\n",
            "509 :  9.34\n",
            "510 :  -10.999999999999968\n",
            "511 :  9.68\n",
            "512 :  4.620000000000001\n",
            "513 :  7.08\n",
            "514 :  -6.999999999999984\n",
            "515 :  -8.999999999999972\n",
            "516 :  5.82\n",
            "517 :  -2.4399999999999924\n",
            "518 :  0.140000000000013\n",
            "519 :  9.540000000000001\n",
            "520 :  8.3\n",
            "521 :  5.3\n",
            "522 :  7.48\n",
            "523 :  -17.99999999999997\n",
            "524 :  7.4\n",
            "525 :  5.48\n",
            "526 :  -2.0000000000000013\n",
            "527 :  9.700000000000001\n",
            "528 :  6.62\n",
            "529 :  9.3\n",
            "530 :  6.62\n",
            "531 :  0.8600000000000154\n",
            "532 :  -3.5999999999999943\n",
            "533 :  -2.039999999999983\n",
            "534 :  -11.999999999999984\n",
            "535 :  -11.999999999999961\n",
            "536 :  8.44\n",
            "537 :  9.74\n",
            "538 :  6.5600000000000005\n",
            "539 :  -4.000000000000001\n",
            "540 :  -1.719999999999997\n",
            "541 :  6.68\n",
            "542 :  -0.9399999999999906\n",
            "543 :  3.5200000000000014\n",
            "544 :  3.740000000000002\n",
            "545 :  -4.999999999999988\n",
            "546 :  3.6800000000000015\n",
            "547 :  8.96\n",
            "548 :  6.680000000000001\n",
            "549 :  -7.999999999999972\n",
            "550 :  7.34\n",
            "551 :  -26.999999999999968\n",
            "552 :  2.0400000000000027\n",
            "553 :  8.58\n",
            "554 :  -6.3399999999999785\n",
            "555 :  9.6\n",
            "556 :  -7.999999999999961\n",
            "557 :  -0.2199999999999971\n",
            "558 :  0.9600000000000062\n",
            "559 :  6.24\n",
            "560 :  9.36\n",
            "561 :  3.320000000000002\n",
            "562 :  7.66\n",
            "563 :  8.96\n",
            "564 :  7.78\n",
            "565 :  8.88\n",
            "566 :  3.9800000000000004\n",
            "567 :  5.880000000000001\n",
            "568 :  6.3\n",
            "569 :  9.76\n",
            "570 :  8.92\n",
            "571 :  6.880000000000001\n",
            "572 :  9.08\n",
            "573 :  -29.99999999999998\n",
            "574 :  8.66\n",
            "575 :  8.22\n",
            "576 :  5.460000000000002\n",
            "577 :  7.76\n",
            "578 :  6.800000000000001\n",
            "579 :  7.9\n",
            "580 :  9.36\n",
            "581 :  6.4\n",
            "582 :  9.98\n",
            "583 :  5.84\n",
            "584 :  7.78\n",
            "585 :  8.280000000000001\n",
            "586 :  0.7400000000000073\n",
            "587 :  7.380000000000001\n",
            "588 :  0.5200000000000014\n",
            "589 :  4.000000000000002\n",
            "590 :  4.280000000000005\n",
            "591 :  8.940000000000001\n",
            "592 :  5.4\n",
            "593 :  8.26\n",
            "594 :  8.92\n",
            "595 :  9.68\n",
            "596 :  7.880000000000001\n",
            "597 :  7.42\n",
            "598 :  8.5\n",
            "599 :  8.92\n",
            "600 :  -11.999999999999961\n",
            "601 :  9.620000000000001\n",
            "602 :  7.9\n",
            "603 :  -15.999999999999961\n",
            "604 :  8.04\n",
            "605 :  9.56\n",
            "606 :  6.620000000000001\n",
            "607 :  9.92\n",
            "608 :  8.76\n",
            "609 :  7.92\n",
            "610 :  8.64\n",
            "611 :  7.58\n",
            "612 :  -27.999999999999968\n",
            "613 :  6.619999999999999\n",
            "614 :  0.5800000000000054\n",
            "615 :  7.92\n",
            "616 :  9.98\n",
            "617 :  -5.999999999999995\n",
            "618 :  6.68\n",
            "619 :  7.680000000000001\n",
            "620 :  6.82\n",
            "621 :  3.6800000000000015\n",
            "622 :  5.720000000000001\n",
            "623 :  5.640000000000001\n",
            "624 :  -6.999999999999963\n",
            "625 :  3.8400000000000016\n",
            "626 :  9.940000000000001\n",
            "627 :  8.6\n",
            "628 :  6.7\n",
            "629 :  9.540000000000001\n",
            "630 :  6.34\n",
            "631 :  9.9\n",
            "632 :  3.4400000000000084\n",
            "633 :  7.62\n",
            "634 :  1.160000000000002\n",
            "635 :  8.280000000000001\n",
            "636 :  0.5600000000000023\n",
            "637 :  8.9\n",
            "638 :  3.7200000000000006\n",
            "639 :  -5.999999999999973\n",
            "640 :  4.780000000000001\n",
            "641 :  8.68\n",
            "642 :  7.84\n",
            "643 :  6.92\n",
            "644 :  4.800000000000001\n",
            "645 :  9.68\n",
            "646 :  6.92\n",
            "647 :  9.84\n",
            "648 :  7.92\n",
            "649 :  3.820000000000002\n",
            "650 :  -6.9999999999999645\n",
            "651 :  6.640000000000001\n",
            "652 :  9.68\n",
            "653 :  7.58\n",
            "654 :  4.360000000000003\n",
            "655 :  -6.9399999999999835\n",
            "656 :  -1.3599999999999977\n",
            "657 :  4.400000000000011\n",
            "658 :  -11.999999999999966\n",
            "659 :  -11.999999999999986\n",
            "660 :  9.38\n",
            "661 :  7.720000000000001\n",
            "662 :  -10.999999999999972\n",
            "663 :  8.56\n",
            "664 :  6.6\n",
            "665 :  -7.999999999999973\n",
            "666 :  9.72\n",
            "667 :  7.58\n",
            "668 :  -24.999999999999968\n",
            "669 :  8.58\n",
            "670 :  9.700000000000001\n",
            "671 :  -20.999999999999964\n",
            "672 :  8.58\n",
            "673 :  -5.999999999999991\n",
            "674 :  8.8\n",
            "675 :  -8.999999999999968\n",
            "676 :  6.78\n",
            "677 :  9.98\n",
            "678 :  6.92\n",
            "679 :  8.2\n",
            "680 :  0.800000000000006\n",
            "681 :  8.440000000000001\n",
            "682 :  8.82\n",
            "683 :  6.7\n",
            "684 :  8.66\n",
            "685 :  -5.999999999999979\n",
            "686 :  0.9800000000000111\n",
            "687 :  -15.999999999999993\n",
            "688 :  -4.000000000000001\n",
            "689 :  8.940000000000001\n",
            "690 :  8.82\n",
            "691 :  7.5\n",
            "692 :  9.620000000000001\n",
            "693 :  6.5200000000000005\n",
            "694 :  8.8\n",
            "695 :  1.6200000000000045\n",
            "696 :  9.98\n",
            "697 :  3.480000000000002\n",
            "698 :  -13.99999999999998\n",
            "699 :  9.3\n",
            "700 :  9.780000000000001\n",
            "701 :  9.96\n",
            "702 :  8.36\n",
            "703 :  8.9\n",
            "704 :  5.84\n",
            "705 :  1.4400000000000048\n",
            "706 :  7.34\n",
            "707 :  6.66\n",
            "708 :  8.38\n",
            "709 :  7.52\n",
            "710 :  9.48\n",
            "711 :  5.780000000000003\n",
            "712 :  8.620000000000001\n",
            "713 :  9.860000000000001\n",
            "714 :  -4.999999999999982\n",
            "715 :  5.880000000000001\n",
            "716 :  9.5\n",
            "717 :  8.8\n",
            "718 :  -4.000000000000002\n",
            "719 :  9.52\n",
            "720 :  8.92\n",
            "721 :  9.92\n",
            "722 :  8.9\n",
            "723 :  9.540000000000001\n",
            "724 :  6.459999999999999\n",
            "725 :  9.940000000000001\n",
            "726 :  -0.49999999999999645\n",
            "727 :  9.74\n",
            "728 :  7.54\n",
            "729 :  6.9\n",
            "730 :  8.82\n",
            "731 :  7.84\n",
            "732 :  0.9200000000000017\n",
            "733 :  9.4\n",
            "734 :  9.48\n",
            "735 :  4.840000000000002\n",
            "736 :  8.74\n",
            "737 :  8.82\n",
            "738 :  5.9\n",
            "739 :  3.7600000000000016\n",
            "740 :  -21.99999999999998\n",
            "741 :  7.140000000000001\n",
            "742 :  8.92\n",
            "743 :  9.92\n",
            "744 :  8.64\n",
            "745 :  5.700000000000001\n",
            "746 :  -3.579999999999993\n",
            "747 :  7.76\n",
            "748 :  6.12\n",
            "749 :  2.8000000000000025\n",
            "750 :  4.20000000000001\n"
          ]
        },
        {
          "output_type": "display_data",
          "data": {
            "text/plain": [
              "<Figure size 432x288 with 1 Axes>"
            ],
            "image/png": "[encoded data removed]"
          },
          "metadata": {
            "needs_background": "light"
          }
        },
        {
          "output_type": "execute_result",
          "data": {
            "text/plain": [
              "<matplotlib.image.AxesImage at 0x7f2902ba5790>"
            ]
          },
          "metadata": {},
          "execution_count": 25
        },
        {
          "output_type": "display_data",
          "data": {
            "text/plain": [
              "<Figure size 432x288 with 1 Axes>"
            ],
            "image/png": "[encoded data removed]"
          },
          "metadata": {
            "needs_background": "light"
          }
        }
      ],
      "source": [
        "#DQN-Learning: Applied to Deterministic Grid Environment\n",
        "\n",
        "#Initialize Environment\n",
        "env = gym.make('ma_gym:PredatorPrey5x5-v0')\n",
        "numAgents = 2\n",
        "\n",
        "#Create list for total rewards\n",
        "totalRewards = []\n",
        "\n",
        "#Initialize Networks\n",
        "Qs = [PredatorPrey5x5Net(numAgents) for i in range(numAgents)]\n",
        "Q_Targets = [copy.deepcopy(Q) for Q in Qs]\n",
        "copyInterval = 100\n",
        "step = 0\n",
        "\n",
        "#Define the loss function\n",
        "criterion = nn.MSELoss()\n",
        "optimizers = [optim.Adam(Q.parameters()) for Q in Qs]\n",
        "\n",
        "#Define Discount Factor (gamma)\n",
        "gamma = 0.9\n",
        "\n",
        "#Initialize Greedy Epsilon Agent for Q\n",
        "epsilon = 1\n",
        "endEpsilon = 0.01\n",
        "agents = [GreedyEpsAgent2(epsilon, Q, env.action_space) for Q in Qs]\n",
        "\n",
        "#Define Experience Replay list, its max size, and the mini batch size\n",
        "replays = [[] for i in range(numAgents)]\n",
        "maxReplay = 2048\n",
        "miniBatchSize = 128\n",
        "\n",
        "#Our initial policy can be an even distribution\n",
        "numEpisodes = 750\n",
        "episode = 0\n",
        "\n",
        "#Loop through episodes, training agent using Q-Learning\n",
        "while(episode < numEpisodes):\n",
        "  s = env.reset()\n",
        "  s = [element for sublist in s for element in sublist]\n",
        "  done = [False for i in range(env.n_agents)]\n",
        "\n",
        "  rTracker = 0\n",
        "  while not all(done):\n",
        "    step += 1\n",
        "\n",
        "    #Take action based on greatest Q-Value from Q for state s\n",
        "    a = [agent.get_action(torch.tensor([[s]]).float()) for agent in agents]\n",
        "    sP, r, done, info = env.step(a)\n",
        "    sP = [element for sublist in sP for element in sublist]\n",
        "\n",
        "    #Zero out gradient and take random minibatch\n",
        "    for optimizer in optimizers:\n",
        "      optimizer.zero_grad()\n",
        "    \n",
        "    for i in range(numAgents):\n",
        "      minibatch = random.sample(replays[i], min(len(replays[i]), miniBatchSize))\n",
        "      if len(minibatch) > 3:\n",
        "        #Break up minibatch into the different columns of values\n",
        "        columns = list(zip(*minibatch))\n",
        "        states = torch.reshape(torch.tensor(columns[0]).float(),[len(minibatch),28*numAgents])\n",
        "        actions = torch.tensor(columns[1])\n",
        "        rewards = torch.tensor(columns[2])\n",
        "        newStates = torch.reshape(torch.tensor(columns[3]).float(),[len(minibatch), 28*numAgents])\n",
        "\n",
        "        #Select Q and Q_Target\n",
        "        Q = Qs[i]\n",
        "        Q_Target = Q_Targets[i]\n",
        "\n",
        "        #Get targets and outputs\n",
        "        targets = (gamma*torch.max(Q_Target(newStates), 1)[0]) + rewards\n",
        "        outputs = torch.reshape(torch.gather(Q(states), 1, actions), [len(minibatch)])\n",
        "\n",
        "        #Calculate loss and gradients\n",
        "        #loss = criterion(outputs, targets)\n",
        "        loss = torch.mean(torch.square(outputs - targets))\n",
        "        loss.backward()\n",
        "\n",
        "        optimizers[i].step()\n",
        "\n",
        "    #Take a step using SGD\n",
        "    #for optimizer in optimizers:\n",
        "    #  optimizer.step()\n",
        "\n",
        "    #Storing in replay\n",
        "    for i,replay in enumerate(replays):\n",
        "      if len(replay) >= maxReplay:\n",
        "        replay.append([s,[a[i]],r[i],sP,done[i]])\n",
        "        replay.pop(0)\n",
        "      else:\n",
        "        replay.append([s,[a[i]],r[i],sP,done[i]])\n",
        "\n",
        "    #Updating target Q if necessary\n",
        "    if step % copyInterval == 0:\n",
        "      Q_Targets = [copy.deepcopy(Q) for Q in Qs]\n",
        "\n",
        "    s = sP\n",
        "    rTracker += sum(r)\n",
        "  episode += 1\n",
        "  totalRewards.append(rTracker)\n",
        "  #print(episode,': ', rTracker)\n",
        "  #cumRewards.append(cumRewards[episode-1] + rTracker)\n",
        "  for agent in agents:\n",
        "      agent.update_eps((endEpsilon/epsilon)**(episode/numEpisodes))\n",
        "\n",
        "#policy = [int(agent.get_action(torch.tensor([[s]]).float())) for s in range(env.observation_space.n)]\n",
        "\n",
        "plt.plot([i for i in range(len(totalRewards))], totalRewards)\n",
        "plt.xlabel(\"Episode\")\n",
        "plt.ylabel(\"Total Reward\")\n",
        "#plt.plot([i for i in range(len(cumRewards))], cumRewards)\n",
        "plt.show()\n",
        "\n",
        "#Take random steps in environment until done\n",
        "for agent in agents:\n",
        "  agent.update_eps(0)\n",
        "s = env.reset()\n",
        "s = [element for sublist in s for element in sublist]\n",
        "done = [False for i in range(env.n_agents)]\n",
        "while not all(done):\n",
        "  a = [agent.get_action(torch.tensor([[s]]).float()) for agent in agents]\n",
        "  s, r, done, info = env.step(a)\n",
        "  s = [element for sublist in s for element in sublist]\n",
        "plt.imshow(env.render('rgb_array'))"
      ]
    }
  ],
  "metadata": {
    "colab": {
      "collapsed_sections": [
        "bcc_DHQRc7f8",
        "QzC-YX0iNgPX",
        "8_3hk5P0eMjJ",
        "ajtHQbGfkXrH",
        "TGXNsx1b0B_L",
        "U-ia3O5SUoFl",
        "8LOYFrUVeCIF",
        "66XRWhysL4_d",
        "agqM_OAMHIsU",
        "JVjMoVF6MDDx",
        "qDaTeW3gMDxU",
        "WkX6wEdIRaml",
        "t2elR3NvByPT",
        "K_vbKS5DMuip",
        "5l1ggKbPBjl2",
        "BPZoaP0XRCV-",
        "ulZB6UEmML3e",
        "97Qzk9c8ML3m",
        "HKbNbaR_ML3n"
      ],
      "name": "bgschoen_final_project.ipynb",
      "provenance": []
    },
    "kernelspec": {
      "display_name": "Python 3",
      "name": "python3"
    },
    "language_info": {
      "name": "python"
    }
  },
  "nbformat": 4,
  "nbformat_minor": 0
}